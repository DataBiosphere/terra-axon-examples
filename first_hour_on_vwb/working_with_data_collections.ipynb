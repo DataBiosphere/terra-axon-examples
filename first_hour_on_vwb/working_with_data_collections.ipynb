{
 "cells": [
  {
   "cell_type": "markdown",
   "metadata": {},
   "source": [
    "# Working with data collections\n",
    "\n",
    "<table align=\"left\">\n",
    "\n",
    "  <td>\n",
    "    <a href=\"https://github.com/DataBiosphere/terra-axon-examples/blob/main/first_hour_on_vwb/working_with_data_collections.ipynb\">\n",
    "      <img src=\"https://cloud.google.com/ml-engine/images/github-logo-32px.png\" alt=\"GitHub logo\">\n",
    "      View on GitHub\n",
    "    </a>\n",
    "  </td>\n",
    "  <td>\n",
    "    <a href=\"https://console.cloud.google.com/vertex-ai/workbench/deploy-notebook?download_url=https://github.com/DataBiosphere/terra-axon-examples/main/first_hour_on_vwb/working_with_data_collections.ipynb\">\n",
    "      <img src=\"https://lh3.googleusercontent.com/UiNooY4LUgW_oTvpsNhPpQzsstV5W8F7rYgxgGBD85cWJoLmrOzhVs_ksK_vgx40SHs7jCqkTkCk=e14-rj-sc0xffffff-h130-w32\" alt=\"Vertex AI logo\">\n",
    "      Open in a Verily Workbench cloud environment\n",
    "    </a>\n",
    "  </td>                                                                                               \n",
    "</table>"
   ]
  },
  {
   "cell_type": "markdown",
   "metadata": {
    "id": "tvgnzT1CKxrO"
   },
   "source": [
    "## Overview\n",
    "\n",
    "This notebook provides a walkthrough of creating and using a [data collection](https://terra-docs.api.verily.com/docs/reference/glossary/#data-collection) in Verily Workbench. A data collection is a grouping of related cloud-based resources related to a specific project, study or purpose. To interact with the data in a data collection, you must have access at the policy level, via group membership, and you must [add the data collection to your workspace](https://terra-docs.api.verily.com/docs/how_to_guides/work_with_data/#add-a-data-collection).\n",
    "Build upon the best practices described in this notebook to create and share your own data collections. "
   ]
  },
  {
   "cell_type": "markdown",
   "metadata": {
    "id": "d975e698c9a4"
   },
   "source": [
    "### Objective\n",
    "\n",
    "Perform common workspace resource operations including:\n",
    "\n",
    "1. Create a new data collection from cloud data.\n",
    "1. Share the data collection with collaborators.\n",
    "1. Add the data collection as a resource to a new workspace.\n",
    "\n",
    "#### How to run this notebook\n",
    "\n",
    "Please run the setup section before running any other section in this notebook.\n",
    "\n",
    "#### Costs\n",
    "\n",
    "This notebook takes less than a minute to run, which will typically cost less than $0.01 of compute time on your cloud environment."
   ]
  },
  {
   "cell_type": "markdown",
   "metadata": {
    "tags": []
   },
   "source": [
    "### Setup\n",
    "\n",
    "Run the cell below to capture the ID of the current workspace. You'll use this value to return to the current workspace after you've created a new workspace as part of the process of creating a data collection."
   ]
  },
  {
   "cell_type": "code",
   "execution_count": null,
   "metadata": {
    "tags": []
   },
   "outputs": [],
   "source": [
    "import json\n",
    "import ipywidgets as widgets\n",
    "import subprocess\n",
    "\n",
    "'''\n",
    "Resolves ID of current workspace.\n",
    "'''\n",
    "def get_current_workspace_id():\n",
    "    CURRENT_WORKSPACE_ID_CMD_OUTPUT = !terra workspace describe --format=json | jq --raw-output \".id\"\n",
    "    CURRENT_WORKSPACE_ID = CURRENT_WORKSPACE_ID_CMD_OUTPUT[0]\n",
    "    return CURRENT_WORKSPACE_ID\n",
    "\n",
    "CURRENT_WORKSPACE_ID = get_current_workspace_id()\n",
    "print(f\"Current workspace ID is {CURRENT_WORKSPACE_ID}\")\n",
    "\n",
    "# Widget utilities\n",
    "input_style= {'description_width':'initial'}"
   ]
  },
  {
   "cell_type": "markdown",
   "metadata": {
    "tags": []
   },
   "source": [
    "## Create a data collection\n",
    "\n",
    "The process of creating a data collection requires you to specify the following:\n",
    "1. What data do you want to share? What type of resources--Cloud Storage buckets or objects, BigQuery tables, GitHUb repositories--will be made available via this data collection?\n",
    "1. With whom do you wish to share this data? Will you be sharing the data collection with all members of an existing Verily Workbench group (e.g. for your organization or team), or will you need to create a new Verily Workbench group in order to restrict access to the data collection?\n",
    "1. Will you update the data collection by releasing future versions?\n",
    "\n",
    "<div class=\"alert alert-block alert-success\">\n",
    "<b>Note:</b> \n",
    "    If you'd like to restrict access to your data collection to members of a specific group, you'll need to provide the <a href=\"https://et-docs-tests.googleplex.com/docs/reference/glossary/#policy\">group policy constraint</a> at the time of workspace creation. See <a href=\"../creating_a_group.ipynb\">../creating_a_group.ipynb</a> for details on how to create a Verily Workbench group that can be used for group policy constraints on workspaces and data collections. </div>"
   ]
  },
  {
   "cell_type": "markdown",
   "metadata": {
    "tags": []
   },
   "source": [
    "### Create a new workspace\n",
    "\n",
    "In order to create a data collection, you must first create a new workspace. \n",
    "Run the cell below to create a widget, then populate the widget's input fields and click the button to create your new workspace.\n",
    "\n",
    "Widget input parameters include:\n",
    "- `workspace_id`: Must be unique and consist only of lowercase letters, numbers and underscores. Provide a workspace ID that suggests something about the contents of the data collection you'd like to create and include the date of its creation, such as `<STUDY_NAME>_<YYMMDD>_dc_ws`. *You cannot change the workspace ID after workspace creation.*\n",
    "- `description`: Must be a string. This description will stay with the workspace after it becomes a data collection. Before you convert a workspace to a data collection, you can update this value in the UI.\n",
    "- `name`: This is the name displayed in Data Collection modal once the workspace is converted to a data collection, so the value should communicate the purpose of workspace (e.g. `<STUDY_NAME> Data Collection`). Before you convert a workspace to a data collection, you can update this value in the UI.\n",
    "\n",
    "The output should resemble:\n",
    "\n",
    "```\n",
    "Workspace successfully created.\n",
    "ID:                <STUDY_NAME>_<YYMMDD>_dc_ws\n",
    "Name:              <STUDY_NAME>-Data-<YYMMDD>\n",
    "Description:       A new workspace which I will transform into a data collection.\n",
    "Cloud Platform:    GCP\n",
    "Google project:    <GOOGLE_PROJECT_ID>\n",
    "Cloud console:     https://console.cloud.google.com/home/dashboard?project=<GOOGLE_PROJECT_ID>\n",
    "Properties:\n",
    "  terra-type: workspace\n",
    "Created:           YYYY-MM-DD\n",
    "Last updated:      YYYY-MM-DD\n",
    "# Resources:       0\n",
    "```"
   ]
  },
  {
   "cell_type": "code",
   "execution_count": null,
   "metadata": {
    "tags": []
   },
   "outputs": [],
   "source": [
    "buttonOutput = 'Please provide appropriate values in the input boxes.'\n",
    "\n",
    "input_workspace_id = widgets.Text(\n",
    " placeholder=\"<WORKSPACE_ID>\",\n",
    " description=\"Workspace ID:\",\n",
    " style=input_style\n",
    ")\n",
    "output_workspace_id = widgets.Text()\n",
    "input_description = widgets.Text(\n",
    " placeholder=\"<DESCRIPTION>\",\n",
    " description=\"Description:\",\n",
    " style=input_style\n",
    " )\n",
    "input_name = widgets.Text(\n",
    " placeholder=\"<RESOURCE_NAME>\",\n",
    " description=\"Resource Name:\",\n",
    " style=input_style\n",
    " )\n",
    "display(input_workspace_id)\n",
    "display(input_description)\n",
    "display(input_name)\n",
    "\n",
    "def bind_input_to_output(e):\n",
    "    output_workspace_id.value = input_workspace_id.value\n",
    "\n",
    "# define a function for the button to call\n",
    "def button_click_event(b):\n",
    "    with output:\n",
    "        global buttonOutput\n",
    "        terraCommand = f\"terra workspace create --id={input_workspace_id.value} --description=\\\"{input_description.value}\\\" --name={input_name.value}\"\"\".format(input_workspace_id.value,input_description.value,input_name.value)       \n",
    "        print(\"Running command to create workspace...\")\n",
    "        print(terraCommand)\n",
    "        result = subprocess.run([\"terra\",\"workspace\",\"create\",f\"--id={input_workspace_id.value}\",f\"--description=\\\"{input_description.value}\\\"\",f\"--name={input_name.value}\"],\n",
    "                                capture_output=True,text=True)\n",
    "        print(\"Your workspace will be ready momentarily...\")\n",
    "        print(result.stderr) if not result.stdout else print(result.stdout)\n",
    "\n",
    "# get a reference to the widget output\n",
    "output = widgets.Output()\n",
    "\n",
    "input_workspace_id.observe(bind_input_to_output)\n",
    "\n",
    "button = widgets.Button(\n",
    "    description='Create workspace',\n",
    "    disabled=False,\n",
    "    button_style='',\n",
    "    tooltip='Click to create a new workspace',\n",
    "    icon='check',\n",
    "    layout=widgets.Layout(width='50%', height='40px')\n",
    ")\n",
    "\n",
    "#bind the button_click_event to the button call event\n",
    "button.on_click(button_click_event)\n",
    "\n",
    "# show the current state of the output\n",
    "print(buttonOutput)\n",
    "\n",
    "#display the button\n",
    "display(button, output)"
   ]
  },
  {
   "cell_type": "markdown",
   "metadata": {
    "tags": []
   },
   "source": [
    "### Add resources to data collection\n",
    "\n",
    "Add new controlled and/or referenced resources to the workspace created in the previous step using the Terra CLI or the Verily Workbench Resources tab. To easily add resources, use the widgets provided in [../workspace_resource_examples.ipynb](../workspace_resource_examples.ipynb../workspace_resource_examples.ipynb).\n",
    "\n",
    "### Reset your current workspace ID\n",
    "\n",
    "When you create a new workspace via the Verily Workbench CLI, your cloud environment will automatically point to that newly-created workspace as your current workspace. This behavior means you can jump right into adding resources once you've created a new workspace without having to point the cloud environment to the new workspace explicitly. However, since you will next convert your newly created workspace into a data collection, you should ensure that you point your cloud environment back to your original, non-data-collection workspace before proceeding further in this notebook.\n",
    "\n",
    "Run the cell below to point your cloud environment to the original workspace as your current workspace."
   ]
  },
  {
   "cell_type": "code",
   "execution_count": null,
   "metadata": {
    "tags": []
   },
   "outputs": [],
   "source": [
    "!terra workspace set --id={CURRENT_WORKSPACE_ID}"
   ]
  },
  {
   "cell_type": "markdown",
   "metadata": {},
   "source": [
    "### Convert workspace to data collection\n",
    "\n",
    "Now you'll convert your newly created workspace, to which you have added resources, into a data collection which can be shared with others and added to other workspaces. \n",
    "Run the cell below to create a widget, then populate the widget's input fields and click the button to convert the workspace to a data collection.\n",
    "\n",
    "Widget input parameters include:\n",
    "- `workspace_id`: Must match the workspace ID of the workspace created above.\n",
    "- `short-description`: Must be a string. This description will be visible in the Add a Data Collection modal and should summarize the purpose and/or contents of your data collection.\n",
    "- `version`: Must be a string. This field is useful in particular if future releases of the data in this data collection are planned. It's suggested that the same versioning strategy be used for all releases of a data collection to make it transparent for users (e.g., if the first release is version `1.0`, the next release should be `2.0`, not `Version 2`).\n",
    "\n",
    "The output should resemble:\n",
    "```\n",
    "Workspace properties successfully updated.\n",
    "ID:                <STUDY_NAME>_<YYMMDD>_dc_ws\n",
    "Name:               <STUDY_NAME>-Data-<YYMMDD>\n",
    "Description:       <DESCRIPTION>\n",
    "Cloud Platform:    GCP\n",
    "Google project:    <GOOGLE_PROJECT_ID>\n",
    "Cloud console:     https://console.cloud.google.com/home/dashboard?project=<GOOGLE_PROJECT_ID>\n",
    "Properties:\n",
    "  terra-workspace-short-description: descriptive content\n",
    "  terra-workspace-version: 1.0\n",
    "  terra-type: data-collection\n",
    "Created:           YYYY-MM-DD\n",
    "Last updated:      YYYY-MM-DD\n",
    "# Resources:       Workspace properties successfully updated.\n",
    "ID:                <STUDY_NAME>_<YYMMDD>_dc_ws\n",
    "Name:              <STUDY_NAME> Data <YYMMDD>\n",
    "Description:       <DESCRIPTION>\n",
    "Cloud Platform:    GCP\n",
    "Google project:    <GOOGLE_PROJECT_ID>\n",
    "Cloud console:     https://console.cloud.google.com/home/dashboard?project=<GOOGLE_PROJECT_ID>\n",
    "Properties:\n",
    "  terra-workspace-short-description: <SHORT_DESCRIPTION>\n",
    "  terra-workspace-version: <VERSION>\n",
    "  terra-type: data-collection\n",
    "Created:           YYYY-MM-DD\n",
    "Last updated:      YYYY-MM-DD\n",
    "# Resources:       0\n",
    "```"
   ]
  },
  {
   "cell_type": "code",
   "execution_count": null,
   "metadata": {
    "tags": []
   },
   "outputs": [],
   "source": [
    "input_dc_workspace_id = widgets.Text(\n",
    " placeholder=\"<WORKSPACE_ID>\",\n",
    " description=\"Workspace ID:\",\n",
    " style=input_style,\n",
    " value=output_workspace_id.value\n",
    ")\n",
    "input_short_description = widgets.Text(\n",
    " placeholder=\"<SHORT_DESCRIPTION>\",\n",
    " description=\"Short Description:\",\n",
    " style=input_style\n",
    " )\n",
    "input_version = widgets.Text(\n",
    " placeholder=\"<VERSION>\",\n",
    " description=\"Version:\",\n",
    " style=input_style\n",
    " )\n",
    "display(input_workspace_id)\n",
    "display(input_short_description)\n",
    "display(input_version)\n",
    "\n",
    "# define a variable that will be reset when the button is pressed\n",
    "buttonOutput = 'Please provide appropriate values in the input boxes.'\n",
    "\n",
    "# define a function for the button to call\n",
    "def button_click_event(b):\n",
    "    with output:\n",
    "        global buttonOutput\n",
    "        terraCommand = f\"\"\"terra workspace set-property \\\\\n",
    "        --workspace={input_workspace_id.value} \\\\\n",
    "        --properties=\\\"terra-type=data-collection,terra-workspace-short-description={input_short_description.value},terra-workspace-version={input_version.value}\\\"\n",
    "        \"\"\"\n",
    "        properties = f\"--properties=\\\"terra-type=data-collection,terra-workspace-short-description={input_short_description.value},terra-workspace-version={input_version.value}\\\"\"\n",
    "        print(\"Running command to convert workspace to data collection...\")\n",
    "        print(terraCommand)\n",
    "        result = subprocess.run([\"terra\",\"workspace\",\"set-property\",\n",
    "                                 f\"--workspace={input_workspace_id.value}\",\n",
    "                                 f\"--properties=terra-type=data-collection,terra-workspace-short-description={input_short_description.value},terra-workspace-version={input_version.value}\"],\n",
    "                                capture_output=True,text=True)\n",
    "        print(\"Your data collection will be ready momentarily...\")\n",
    "        print(result.stderr) if not result.stdout else print(result.stdout)\n",
    "\n",
    "# get a reference to the widget output\n",
    "output = widgets.Output()\n",
    "\n",
    "button = widgets.Button(\n",
    "    description='Convert to data collection',\n",
    "    disabled=False,\n",
    "    button_style='',\n",
    "    tooltip='Click to convert to data collection',\n",
    "    icon='check',\n",
    "    layout=widgets.Layout(width='50%', height='40px')\n",
    ")\n",
    "\n",
    "#bind the button_click_event to the button call event\n",
    "button.on_click(button_click_event)\n",
    "\n",
    "# show the current state of the output\n",
    "print(buttonOutput)\n",
    "\n",
    "#display the button\n",
    "display(button, output)"
   ]
  },
  {
   "cell_type": "markdown",
   "metadata": {
    "tags": []
   },
   "source": [
    "### Add data collection to workspace\n",
    "\n",
    "Follow the steps below to add your new data collection to an Verily Workbench workspace.<br>The video below provides a visual walkthrough of these steps.\n",
    "\n",
    "1. In the [Verily Workbench workspace UI](https://terra.verily.com/workspaces), select a workspace that is NOT the data collection workspace.\n",
    "1. Navigate to the Resources tab.\n",
    "1. Click the \"+ Data catalog\" button.\n",
    "1. Select your newly created data collection from those listed in the modal.\n",
    "1. Navigate through the steps in the modal to complete the addition of the data collection to your workspace.\n",
    "\n",
    "<video controls src=\"screencasts/add_data_collection_to_workspace.mp4\" width=600>Add data collection to workspace</video>"
   ]
  },
  {
   "cell_type": "markdown",
   "metadata": {
    "tags": []
   },
   "source": [
    "## Provenance\n",
    "\n",
    "Generate information about this notebook environment and the packages installed."
   ]
  },
  {
   "cell_type": "code",
   "execution_count": null,
   "metadata": {},
   "outputs": [],
   "source": [
    "!date"
   ]
  },
  {
   "cell_type": "markdown",
   "metadata": {},
   "source": [
    "Conda and pip installed packages:"
   ]
  },
  {
   "cell_type": "code",
   "execution_count": null,
   "metadata": {},
   "outputs": [],
   "source": [
    "!conda env export"
   ]
  },
  {
   "cell_type": "markdown",
   "metadata": {},
   "source": [
    "JupyterLab extensions:"
   ]
  },
  {
   "cell_type": "code",
   "execution_count": null,
   "metadata": {},
   "outputs": [],
   "source": [
    "!jupyter labextension list"
   ]
  },
  {
   "cell_type": "markdown",
   "metadata": {},
   "source": [
    "Number of cores:"
   ]
  },
  {
   "cell_type": "code",
   "execution_count": null,
   "metadata": {},
   "outputs": [],
   "source": [
    "!grep ^processor /proc/cpuinfo | wc -l"
   ]
  },
  {
   "cell_type": "markdown",
   "metadata": {},
   "source": [
    "Memory:"
   ]
  },
  {
   "cell_type": "code",
   "execution_count": null,
   "metadata": {},
   "outputs": [],
   "source": [
    "!grep \"^MemTotal:\" /proc/meminfo"
   ]
  },
  {
   "cell_type": "markdown",
   "metadata": {},
   "source": [
    "---\n",
    "Copyright 2022 Verily Life Sciences LLC\n",
    "\n",
    "Use of this source code is governed by a BSD-style   \n",
    "license that can be found in the LICENSE file or at   \n",
    "https://developers.google.com/open-source/licenses/bsd"
   ]
  }
 ],
 "metadata": {
  "environment": {
   "kernel": "python3",
   "name": "r-cpu.4-2.m108",
   "type": "gcloud",
   "uri": "gcr.io/deeplearning-platform-release/r-cpu.4-2:m108"
  },
  "kernelspec": {
   "display_name": "Python 3",
   "language": "python",
   "name": "python3"
  },
  "language_info": {
   "codemirror_mode": {
    "name": "ipython",
    "version": 3
   },
   "file_extension": ".py",
   "mimetype": "text/x-python",
   "name": "python",
   "nbconvert_exporter": "python",
   "pygments_lexer": "ipython3",
   "version": "3.7.12"
  }
 },
 "nbformat": 4,
 "nbformat_minor": 4
}
