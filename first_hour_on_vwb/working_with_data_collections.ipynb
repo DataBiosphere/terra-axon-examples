{
 "cells": [
  {
   "cell_type": "markdown",
   "metadata": {},
   "source": [
    "# Working with data collections\n",
    "\n",
    "<table align=\"left\">\n",
    "\n",
    "  <td>\n",
    "    <a href=\"https://github.com/DataBiosphere/terra-axon-examples/blob/main/first_hour_on_vwb/working_with_data_collections.ipynb\">\n",
    "      <img src=\"https://cloud.google.com/ml-engine/images/github-logo-32px.png\" alt=\"GitHub logo\">\n",
    "      View on GitHub\n",
    "    </a>\n",
    "  </td>\n",
    "</table>"
   ]
  },
  {
   "cell_type": "markdown",
   "metadata": {
    "id": "tvgnzT1CKxrO"
   },
   "source": [
    "## Overview\n",
    "\n",
    "This notebook provides a walkthrough of creating and using a [data collection](https://terra-docs.api.verily.com/docs/reference/glossary/#data-collection) in Verily Workbench. A data collection is a grouping of related cloud-based resources related to a specific project, study or purpose. To interact with the data in a data collection, you must have access at the policy level, via group membership, and you must [add the data collection to your workspace](https://terra-docs.api.verily.com/docs/how_to_guides/work_with_data/#add-a-data-collection).\n",
    "Build upon the best practices demonstrated in this notebook to create and share your own data collections. "
   ]
  },
  {
   "cell_type": "markdown",
   "metadata": {
    "id": "d975e698c9a4"
   },
   "source": [
    "### Objective\n",
    "\n",
    "This notebook will guide you through creating a new data collection or converting an existing workspace into a data collection which you can then share with collaborators and use in your workspaces.\n",
    "\n",
    "- [Create a new data collection](#create-new-dc)\n",
    "    - [Create a new workspace.](#create-new-ws)\n",
    "    - [Add referenced and controlled resources to your new workspace](#add-resources)\n",
    "    - [Transform the workspace into a data collection](#convert-to-dc)\n",
    "- [Convert an existing workspace to a data collection](#convert-existing)\n",
    "- [Add a data collection to your workspace](#add-dc-to-ws)\n",
    "\n",
    "#### How to run this notebook\n",
    "\n",
    "Please run the [Setup](#setup) section before running any other section in this notebook.\n",
    "\n",
    "#### Costs\n",
    "\n",
    "This notebook takes less than a minute to run, which will typically cost less than $0.01 of compute time on your cloud environment."
   ]
  },
  {
   "cell_type": "markdown",
   "metadata": {
    "tags": []
   },
   "source": [
    "### Setup\n",
    "<a id=\"setup\"></a>\n",
    "\n",
    "Run the cell below to capture the ID of the current workspace. You'll use this value to return to the current workspace after you've created a new workspace as part of the process of creating a data collection."
   ]
  },
  {
   "cell_type": "code",
   "execution_count": null,
   "metadata": {
    "tags": []
   },
   "outputs": [],
   "source": [
    "import json\n",
    "import ipywidgets as widgets\n",
    "import subprocess\n",
    "import widget_utils as wu\n",
    "\n",
    "'''\n",
    "Resolves ID of current workspace.\n",
    "'''\n",
    "def get_current_workspace_id():\n",
    "    CURRENT_WORKSPACE_ID_CMD_OUTPUT = !terra workspace describe --format=json | jq --raw-output \".id\"\n",
    "    CURRENT_WORKSPACE_ID = CURRENT_WORKSPACE_ID_CMD_OUTPUT[0]\n",
    "    return CURRENT_WORKSPACE_ID\n",
    "\n",
    "CURRENT_WORKSPACE_ID = get_current_workspace_id()\n",
    "print(f\"Current workspace ID is {CURRENT_WORKSPACE_ID}\")"
   ]
  },
  {
   "cell_type": "markdown",
   "metadata": {
    "tags": []
   },
   "source": [
    "## Create a new data collection\n",
    "<a id=\"create-new-dc\"></a>\n",
    "\n",
    "Before creating your data collection, consider the following:\n",
    "1. What data do you want to share? What type of resources--Cloud Storage buckets or objects, BigQuery tables, GitHub repositories--will be made available via this data collection?\n",
    "1. With whom do you wish to share this data? Will you be sharing the data collection with all members of an existing Verily Workbench group (e.g. for your organization or team), or will you need to create a new Verily Workbench group in order to restrict access to the data collection?\n",
    "1. Will you update the data collection by releasing future versions? What versioning scheme is most appropriate?\n",
    "\n",
    "<div class=\"alert alert-block alert-success\">\n",
    "<b>Note:</b> \n",
    "    If you'd like to restrict access to your data collection to members of a specific group, contact <a href=\"mailto:workbench-support@verily.com\">Verily Workbench Support</a> <b>before</b> creating your workspace so that a <a href=\"https://terra-docs.api.verily.com/docs/https://terra-docs.api.verily.com/docs/reference/glossary/#policy\">group policy constraint</a> can be applied at the time of workspace creation. See <a href=\"../creating_a_group.ipynb\">../creating_a_group.ipynb</a> for details on how to create a Verily Workbench group that can be used for group policy constraints on workspaces and data collections. </div>"
   ]
  },
  {
   "cell_type": "markdown",
   "metadata": {
    "tags": []
   },
   "source": [
    "### Create a new workspace\n",
    "<a id=\"create-new-ws\"></a>\n",
    "\n",
    "In order to create a data collection, you must first create a new workspace. \n",
    "Run the cell below to create a widget, then populate the widget's input fields and click the button to create your new workspace.\n",
    "\n",
    "Widget input parameters include:\n",
    "- `Workspace Name`: Must be a string. This value is displayed in the Data Collection modal once the workspace is converted to a data collection, so the value should communicate the intended purpose (e.g. `<STUDY_NAME> Data Collection`).<br> While the Verily Workbench UI and this widget require a workspace name to be provided, the CLI does not; if no workspace name is provided to the CLI, a UUID is generated instead. \n",
    "- `Description`: Must be a string. This description will stay with the workspace after it becomes a data collection. Before you convert a workspace to a data collection, you can update this value in the UI.\n",
    "- `Workspace ID`: Must be unique and consist only of lowercase letters, numbers and underscores. Provide a workspace ID that suggests something about the contents of the data collection you'd like to create and include the date of its creation, such as `<STUDY_NAME>_<YYMMDD>_dc_ws`. *You cannot change the workspace ID after workspace creation.* \n",
    "\n",
    "\n",
    "The output should resemble:\n",
    "\n",
    "```\n",
    "Workspace successfully created.\n",
    "ID:                <WORKSPACE_ID>\n",
    "Name:              <WORKSPACE_NAME>\n",
    "Description:       <DESCRIPTION>\n",
    "Cloud Platform:    GCP\n",
    "Google project:    <GOOGLE_PROJECT_ID>\n",
    "Cloud console:     https://console.cloud.google.com/home/dashboard?project=<GOOGLE_PROJECT_ID>\n",
    "Properties:\n",
    "  terra-type: workspace\n",
    "Created:           YYYY-MM-DD\n",
    "Last updated:      YYYY-MM-DD\n",
    "# Resources:       0\n",
    "```"
   ]
  },
  {
   "cell_type": "code",
   "execution_count": null,
   "metadata": {
    "tags": []
   },
   "outputs": [],
   "source": [
    "class CreateWorkspaceWidget(object):\n",
    "    def __init__(self):\n",
    "        self.label = widgets.Label(value='Please provide appropriate values in the input boxes.')\n",
    "        self.warning = wu.WarningWidget('The workspace name provided will be shown in the data catalog once the workspace is converted to a data collection.').get()\n",
    "        self.input_name = wu.TextInputWidget(\"<WORKSPACE_NAME>\",\"Workspace Name:\").get()\n",
    "        self.input_description = wu.TextInputWidget(\"<DESCRIPTION>\",\"Description:\").get()\n",
    "        self.input_workspace_id = wu.TextInputWidget(\"<WORKSPACE_ID>\",\"Workspace ID:\").get()\n",
    "        self.output_workspace_id = widgets.Text()\n",
    "        self.output_workspace_id.value = self.input_workspace_id.value\n",
    "        self.button = wu.StyledButton('Create workspace','Click to create a new workspace','plus').get()\n",
    "        self.button.on_click(self.create_workspace)\n",
    "        self.output = widgets.Output()\n",
    "        self.vb = widgets.VBox(\n",
    "            children = [self.label, self.warning,\n",
    "                        self.input_name, self.input_description,\n",
    "                        self.input_workspace_id,\n",
    "                        self.button, self.output],\n",
    "            layout = wu.vbox_layout)\n",
    "\n",
    "    def get_workspace_id(self):\n",
    "        return self.input_workspace_id.value\n",
    "\n",
    "    def create_workspace(self,b):\n",
    "        with self.output:\n",
    "            commandList = [\n",
    "                \"terra\", \"workspace\", \"create\",\n",
    "                f\"--id={self.input_workspace_id.value.strip()}\",\n",
    "                f\"--description=\\\"{self.input_description.value}\\\"\",\n",
    "                f\"--name={self.input_name.value.strip()}\"\n",
    "            ]\n",
    "\n",
    "            print('Running command to create workspace...')\n",
    "            print('\\n'.join(commandList))\n",
    "            print('')\n",
    "            print(\"Your workspace will be ready in less than one minute...\")\n",
    "\n",
    "            result = subprocess.run(commandList, capture_output = True, text = True)\n",
    "            print(result.stderr) if not result.stdout else print(result.stdout)\n",
    "\n",
    "create_ws_widget = CreateWorkspaceWidget()\n",
    "display(create_ws_widget.vb)"
   ]
  },
  {
   "cell_type": "markdown",
   "metadata": {
    "tags": []
   },
   "source": [
    "### Add resources to data collection\n",
    "<a id=\"add-resources\"></a>\n",
    "\n",
    "Add new controlled and/or referenced resources to the workspace created in the previous step using the Terra CLI or the Verily Workbench Resources tab. To easily add resources, use the widgets provided in [../workspace_resource_examples.ipynb](../workspace_resource_examples.ipynb../workspace_resource_examples.ipynb).\n",
    "\n",
    "### Reset your current workspace ID\n",
    "\n",
    "When you create a new workspace via the Verily Workbench CLI, your cloud environment will automatically point to that newly-created workspace as your current workspace. This behavior means you can jump right into adding resources once you've created a new workspace without having to point the cloud environment to the new workspace explicitly. However, since you will next convert your newly created workspace into a data collection, you should ensure that you point your cloud environment back to your original, non-data-collection workspace before proceeding further in this notebook.\n",
    "\n",
    "Run the cell below to point your cloud environment to the original workspace as your current workspace."
   ]
  },
  {
   "cell_type": "code",
   "execution_count": null,
   "metadata": {
    "tags": []
   },
   "outputs": [],
   "source": [
    "!terra workspace set --id={CURRENT_WORKSPACE_ID}"
   ]
  },
  {
   "cell_type": "markdown",
   "metadata": {
    "tags": []
   },
   "source": [
    "### Convert new workspace to data collection\n",
    "<a id=\"convert-to-dc\"></a>\n",
    "\n",
    "Now you'll convert your newly created workspace, to which you have added resources, into a data collection which can be shared with others and added to other workspaces. \n",
    "Run the cell below to create a widget, then populate the widget's input fields and click the button to convert the workspace to a data collection.\n",
    "\n",
    "Widget input parameters include:\n",
    "- `workspace_id`: Must match the workspace ID of the workspace created above.\n",
    "- `short-description`: Must be a string. This description will be visible in the Add a Data Collection modal and should summarize the purpose and/or contents of your data collection.\n",
    "- `version`: Must be a string. This field is useful in particular if future releases of the data in this data collection are planned. It's suggested that the same versioning strategy be used for all releases of a data collection to make it transparent for users (e.g., if the first release is version `1.0`, the next release should be `2.0`, not `Version 2`).\n",
    "\n",
    "The output should resemble:\n",
    "```\n",
    "Workspace properties successfully updated.\n",
    "ID:                <STUDY_NAME>_<YYMMDD>_dc_ws\n",
    "Name:               <STUDY_NAME>-Data-<YYMMDD>\n",
    "Description:       <DESCRIPTION>\n",
    "Cloud Platform:    GCP\n",
    "Google project:    <GOOGLE_PROJECT_ID>\n",
    "Cloud console:     https://console.cloud.google.com/home/dashboard?project=<GOOGLE_PROJECT_ID>\n",
    "Properties:\n",
    "  terra-workspace-short-description: descriptive content\n",
    "  terra-workspace-version: 1.0\n",
    "  terra-type: data-collection\n",
    "Created:           YYYY-MM-DD\n",
    "Last updated:      YYYY-MM-DD\n",
    "# Resources:       Workspace properties successfully updated.\n",
    "ID:                <STUDY_NAME>_<YYMMDD>_dc_ws\n",
    "Name:              <STUDY_NAME> Data <YYMMDD>\n",
    "Description:       <DESCRIPTION>\n",
    "Cloud Platform:    GCP\n",
    "Google project:    <GOOGLE_PROJECT_ID>\n",
    "Cloud console:     https://console.cloud.google.com/home/dashboard?project=<GOOGLE_PROJECT_ID>\n",
    "Properties:\n",
    "  terra-workspace-short-description: <SHORT_DESCRIPTION>\n",
    "  terra-workspace-version: <VERSION>\n",
    "  terra-type: data-collection\n",
    "Created:           YYYY-MM-DD\n",
    "Last updated:      YYYY-MM-DD\n",
    "# Resources:       0\n",
    "```"
   ]
  },
  {
   "cell_type": "code",
   "execution_count": null,
   "metadata": {
    "tags": []
   },
   "outputs": [],
   "source": [
    "class ConvertToDataCollectionWidget(object):\n",
    "    def __init__(self, prev_widget):\n",
    "        self.label = widgets.Label(value = 'Please provide appropriate values in the input boxes.')\n",
    "        self.input_workspace_id = wu.TextInputWidget(\"<WORKSPACE_ID>\",\"Workspace ID:\").get()\n",
    "        if prev_widget and not self.input_workspace_id.value:\n",
    "            self.input_workspace_id.value = prev_widget.get_workspace_id()\n",
    "        self.input_short_description = wu.TextInputWidget(\"<SHORT_DESCRIPTION>\",\"Short Description:\").get()\n",
    "        self.input_version = wu.TextInputWidget(\"<VERSION>\",\"Version:\").get()\n",
    "        self.button = wu.StyledButton('Convert to data collection','Click to convert to data collection','check').get()\n",
    "        self.button.on_click(self.convert_to_data_collection)\n",
    "        self.output = widgets.Output()\n",
    "        self.vb = widgets.VBox([\n",
    "            self.label,\n",
    "            self.input_workspace_id,\n",
    "            self.input_short_description,\n",
    "            self.input_version,\n",
    "            self.button,\n",
    "            self.output\n",
    "        ], layout=wu.vbox_layout)\n",
    "        \n",
    "    def convert_to_data_collection(self,b):\n",
    "        with self.output:\n",
    "            terraCommand = f\"\"\"terra workspace set-property \\\\\n",
    "            --workspace={self.input_workspace_id.value} \\\\\n",
    "            --properties=\\\"terra-type=data-collection,terra-workspace-short-description={self.input_short_description.value},terra-workspace-version={self.input_version.value}\\\"\n",
    "            \"\"\"\n",
    "            print(\"Running command to convert workspace to data collection...\")\n",
    "            print(terraCommand)\n",
    "            print(\"Your data collection will be ready in less than one minute...\")\n",
    "            result = subprocess.run([\"terra\",\"workspace\",\"set-property\",\n",
    "                                     f\"--workspace={self.input_workspace_id.value}\",\n",
    "                                     f\"--properties=terra-type=data-collection,terra-workspace-short-description={self.input_short_description.value},terra-workspace-version={self.input_version.value}\"],\n",
    "                                    capture_output=True,text=True)\n",
    "            print(result.stderr) if not result.stdout else print(result.stdout)\n",
    "\n",
    "convert_to_dc_widget = ConvertToDataCollectionWidget(create_ws_widget)\n",
    "display(convert_to_dc_widget.vb)"
   ]
  },
  {
   "cell_type": "markdown",
   "metadata": {
    "tags": []
   },
   "source": [
    "## Convert an existing workspace to data collection\n",
    "<a id=\"convert-existing\"></a>\n",
    "\n",
    "You can also convert an existing workspace into a data collection. \n",
    "Run the cell below to create a widget that lists your workspaces which are eligible for conversion, then populate the widget's input fields and click the button to convert the workspace to a data collection.\n",
    "\n",
    "Widget input parameters include:\n",
    "- `Workspace ID`: Select from a dropdown list of all of your existing workspaces that are not data collections.\n",
    "- `Short Description`: Must be a string. This description will be visible in the data catalog modal and should summarize the purpose and/or contents of your data collection.\n",
    "- `Version`: Must be a string. This field is useful in particular if future releases of the data in this data collection are planned. It's suggested that the same versioning strategy be used for all releases of a data collection to make it transparent for users (e.g., if the first release is version `1.0`, the next release should be `2.0`, not `Version 2`).\n",
    "\n",
    "The output should resemble:\n",
    "```\n",
    "Workspace properties successfully updated.\n",
    "ID:                <STUDY_NAME>_<YYMMDD>_dc_ws\n",
    "Name:               <STUDY_NAME>-Data-<YYMMDD>\n",
    "Description:       <DESCRIPTION>\n",
    "Cloud Platform:    GCP\n",
    "Google project:    <GOOGLE_PROJECT_ID>\n",
    "Cloud console:     https://console.cloud.google.com/home/dashboard?project=<GOOGLE_PROJECT_ID>\n",
    "Properties:\n",
    "  terra-workspace-short-description: descriptive content\n",
    "  terra-workspace-version: 1.0\n",
    "  terra-type: data-collection\n",
    "Created:           YYYY-MM-DD\n",
    "Last updated:      YYYY-MM-DD\n",
    "# Resources:       Workspace properties successfully updated.\n",
    "ID:                <STUDY_NAME>_<YYMMDD>_dc_ws\n",
    "Name:              <STUDY_NAME> Data <YYMMDD>\n",
    "Description:       <DESCRIPTION>\n",
    "Cloud Platform:    GCP\n",
    "Google project:    <GOOGLE_PROJECT_ID>\n",
    "Cloud console:     https://console.cloud.google.com/home/dashboard?project=<GOOGLE_PROJECT_ID>\n",
    "Properties:\n",
    "  terra-workspace-short-description: <SHORT_DESCRIPTION>\n",
    "  terra-workspace-version: <VERSION>\n",
    "  terra-type: data-collection\n",
    "Created:           YYYY-MM-DD\n",
    "Last updated:      YYYY-MM-DD\n",
    "# Resources:       0\n",
    "```"
   ]
  },
  {
   "cell_type": "code",
   "execution_count": null,
   "metadata": {
    "tags": []
   },
   "outputs": [],
   "source": [
    "class ConvertExistingWsToDataCollectionWidget(object):\n",
    "    def __init__(self):\n",
    "        self.label = widgets.Label(value = 'Please provide appropriate values in the input boxes.')\n",
    "        self.workspace_ids = self.get_workspace_ids()\n",
    "        self.input_workspace_id = wu.DropdownInputWidget(self.workspace_ids,self.workspace_ids[0],\"Workspace ID:\").get()\n",
    "        self.input_short_description = wu.TextInputWidget(\"<SHORT_DESCRIPTION>\",\"Short Description:\").get()\n",
    "        self.input_version = wu.TextInputWidget(\"<VERSION>\",\"Version:\").get()\n",
    "        self.button = wu.StyledButton('Convert to data collection','Click to convert to data collection','check').get()\n",
    "        self.button.on_click(self.convert_to_data_collection)\n",
    "        self.output = widgets.Output()\n",
    "        self.vb = widgets.VBox([\n",
    "            self.label,\n",
    "            self.input_workspace_id,\n",
    "            self.input_short_description,\n",
    "            self.input_version,\n",
    "            self.button,\n",
    "            self.output\n",
    "        ], layout=wu.vbox_layout)\n",
    "        \n",
    "    def get_workspace_ids(self):\n",
    "        result = subprocess.run([\"terra\",\"workspace\",\"list\",\"--format=JSON\"],capture_output=True,text=True)\n",
    "        ids_list = wu.list_workspace_ids(result.stdout)\n",
    "        return ids_list\n",
    "\n",
    "    def convert_to_data_collection(self,b):\n",
    "        with self.output:\n",
    "            terraCommand = f\"\"\"terra workspace set-property \\\\\n",
    "            --workspace={self.input_workspace_id.value} \\\\\n",
    "            --properties=\\\"terra-type=data-collection,terra-workspace-short-description={self.input_short_description.value},terra-workspace-version={self.input_version.value}\\\"\n",
    "            \"\"\"\n",
    "            print(\"Running command to convert workspace to data collection...\")\n",
    "            print(terraCommand)\n",
    "            print(\"Your data collection will be ready in less than one minute...\")\n",
    "            result = subprocess.run(\n",
    "                [\"terra\",\"workspace\",\"set-property\",\n",
    "                 f\"--workspace={self.input_workspace_id.value}\",\n",
    "                 f\"--properties=terra-type=data-collection,terra-workspace-short-description={self.input_short_description.value},terra-workspace-version={self.input_version.value}\"],\n",
    "                capture_output=True,text=True)\n",
    "            print(result.stderr) if not result.stdout else print(result.stdout)\n",
    "\n",
    "convert_existing_to_dc_widget = ConvertExistingWsToDataCollectionWidget()\n",
    "display(convert_existing_to_dc_widget.vb)"
   ]
  },
  {
   "cell_type": "markdown",
   "metadata": {
    "tags": []
   },
   "source": [
    "### Add data collection to workspace\n",
    "<a id=\"add-dc-to-ws\"></a>\n",
    "\n",
    "Follow the steps below to add your new data collection to an Verily Workbench workspace.<br>The video below provides a visual walkthrough of these steps.\n",
    "\n",
    "1. In the [Verily Workbench workspace UI](https://terra.verily.com/workspaces), select a workspace that is NOT the data collection workspace.\n",
    "1. Navigate to the Resources tab.\n",
    "1. Click the \"+ Data catalog\" button.\n",
    "1. Select your newly created data collection from those listed in the modal.\n",
    "1. Navigate through the steps in the modal to complete the addition of the data collection to your workspace.\n",
    "\n",
    "<video controls src=\"screencasts/add_data_collection_to_workspace.mp4\" width=600>Add data collection to workspace</video>"
   ]
  },
  {
   "cell_type": "markdown",
   "metadata": {
    "tags": []
   },
   "source": [
    "## Provenance\n",
    "\n",
    "Generate information about this notebook environment and the packages installed."
   ]
  },
  {
   "cell_type": "code",
   "execution_count": null,
   "metadata": {},
   "outputs": [],
   "source": [
    "!date"
   ]
  },
  {
   "cell_type": "markdown",
   "metadata": {},
   "source": [
    "Conda and pip installed packages:"
   ]
  },
  {
   "cell_type": "code",
   "execution_count": null,
   "metadata": {},
   "outputs": [],
   "source": [
    "!conda env export"
   ]
  },
  {
   "cell_type": "markdown",
   "metadata": {},
   "source": [
    "JupyterLab extensions:"
   ]
  },
  {
   "cell_type": "code",
   "execution_count": null,
   "metadata": {},
   "outputs": [],
   "source": [
    "!jupyter labextension list"
   ]
  },
  {
   "cell_type": "markdown",
   "metadata": {},
   "source": [
    "Number of cores:"
   ]
  },
  {
   "cell_type": "code",
   "execution_count": null,
   "metadata": {},
   "outputs": [],
   "source": [
    "!grep ^processor /proc/cpuinfo | wc -l"
   ]
  },
  {
   "cell_type": "markdown",
   "metadata": {},
   "source": [
    "Memory:"
   ]
  },
  {
   "cell_type": "code",
   "execution_count": null,
   "metadata": {},
   "outputs": [],
   "source": [
    "!grep \"^MemTotal:\" /proc/meminfo"
   ]
  },
  {
   "cell_type": "markdown",
   "metadata": {},
   "source": [
    "---\n",
    "Copyright 2022 Verily Life Sciences LLC\n",
    "\n",
    "Use of this source code is governed by a BSD-style   \n",
    "license that can be found in the LICENSE file or at   \n",
    "https://developers.google.com/open-source/licenses/bsd"
   ]
  }
 ],
 "metadata": {
  "environment": {
   "kernel": "python3",
   "name": "r-cpu.4-2.m108",
   "type": "gcloud",
   "uri": "gcr.io/deeplearning-platform-release/r-cpu.4-2:m108"
  },
  "kernelspec": {
   "display_name": "Python 3",
   "language": "python",
   "name": "python3"
  },
  "language_info": {
   "codemirror_mode": {
    "name": "ipython",
    "version": 3
   },
   "file_extension": ".py",
   "mimetype": "text/x-python",
   "name": "python",
   "nbconvert_exporter": "python",
   "pygments_lexer": "ipython3",
   "version": "3.7.12"
  }
 },
 "nbformat": 4,
 "nbformat_minor": 4
}
