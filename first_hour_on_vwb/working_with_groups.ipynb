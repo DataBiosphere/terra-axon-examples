{
 "cells": [
  {
   "cell_type": "markdown",
   "metadata": {},
   "source": [
    "# Working with Verily Workbench groups\n",
    "\n",
    "<table align=\"left\">\n",
    "\n",
    "  <td>\n",
    "    <a href=\"https://github.com/DataBiosphere/terra-axon-examples/blob/main/first_hour_on_terra/working_with_groups.ipynb\">\n",
    "      <img src=\"https://cloud.google.com/ml-engine/images/github-logo-32px.png\" alt=\"GitHub logo\">\n",
    "      View on GitHub\n",
    "    </a>\n",
    "  </td>\n",
    "  <td>\n",
    "    <a href=\"https://console.cloud.google.com/vertex-ai/workbench/deploy-notebook?download_url=https://github.com/DataBiosphere/terra-axon-examples/main/first_hour_on_terra/working_with_groups.ipynb\">\n",
    "      <img src=\"https://lh3.googleusercontent.com/UiNooY4LUgW_oTvpsNhPpQzsstV5W8F7rYgxgGBD85cWJoLmrOzhVs_ksK_vgx40SHs7jCqkTkCk=e14-rj-sc0xffffff-h130-w32\" alt=\"Vertex AI logo\">\n",
    "      Open in a Verily Workbench notebook instance\n",
    "    </a>\n",
    "  </td>                                                                                               \n",
    "</table>"
   ]
  },
  {
   "cell_type": "markdown",
   "metadata": {
    "id": "tvgnzT1CKxrO"
   },
   "source": [
    "## Overview\n",
    "\n",
    "Access to resources and workspaces in Verily Workbench is handled by [Verily Workbench groups](https://terra-docs.api.verily.com/docs/how_to_guides/using_groups/). This notebook provides a series of widgets that enable you to perform various tasks related to groups in Verily Workbench. All of the tasks accomplished by widgets in this notebook can also be accomplished via [Workbench CLI](https://terra-docs.api.verily.com/docs/getting_started/install_and_run/) commands in your cloud environment's termnal. "
   ]
  },
  {
   "cell_type": "markdown",
   "metadata": {
    "id": "d975e698c9a4"
   },
   "source": [
    "### Objective\n",
    "\n",
    "Perform common workspace resource operations including:\n",
    "\n",
    "- [View the Verily Workbench groups in which you're a member](#view_groups)\n",
    "- [Create a new Verily Workbench group](#create_group)\n",
    "- [Delete an existing Verily Workbench group](#delete_group)\n",
    "- [Add and remove collaborators to and from your Verily Workbench group](#manage_membership)\n",
    "\n",
    "#### How to run this notebook\n",
    "\n",
    "Please run the Setup section before running any other sections in this worksapce. \n",
    "\n",
    "#### Costs\n",
    "\n",
    "This notebook takes less than a minute to run, which will typically cost less than $0.01 of compute time on your cloud environment."
   ]
  },
  {
   "cell_type": "markdown",
   "metadata": {
    "tags": []
   },
   "source": [
    "## Setup\n",
    "\n",
    "Run the cell below to set up utilities for the widgets provided in this workspace."
   ]
  },
  {
   "cell_type": "code",
   "execution_count": null,
   "metadata": {
    "tags": []
   },
   "outputs": [],
   "source": [
    "# Widget utilities\n",
    "from IPython.display import display, HTML\n",
    "import csv\n",
    "import json\n",
    "import ipywidgets as widgets\n",
    "import subprocess\n",
    "\n",
    "def users_table(stdout):\n",
    "    \"\"\" Create table from JSON string\n",
    "    \"\"\"\n",
    "    html = f\"\"\"<table style='margin: 0 auto,text-align: left'>\"\"\"\n",
    "    json_data = json.loads(stdout)\n",
    "    html += \"<th>NAME</th>\"\n",
    "    html += \"<th>EMAIL</th>\"\n",
    "    html += \"<th>MEMBERS</th>\"\n",
    "    html += \"<th>POLICIES</th>\"\n",
    "    for row in json_data:\n",
    "        html += \"<tr>\"\n",
    "        html += f\"<td>{row['name']}</td>\"\n",
    "        html += f\"<td>{row['email']}</td>\"\n",
    "        html += f\"<td>{row['numMembers']}</td>\"\n",
    "        html += f\"<td>{row['currentUserPolicies'][0]}</td>\"\n",
    "    html += \"</table>\"\n",
    "    return html\n",
    "\n",
    "\n",
    "input_style = {\n",
    "    'description_width':'initial'\n",
    "}\n",
    "\n",
    "input_layout = widgets.Layout(\n",
    "    width='50%',\n",
    "    align_items='flex-start'\n",
    ")\n",
    "\n",
    "output_style = {\n",
    "    'description_width':'initial',\n",
    "}\n",
    "\n",
    "class TextInputWidget(object):\n",
    "    def __init__(self, ph, desc):\n",
    "        self.description = desc\n",
    "        self.placeholder = ph\n",
    "        self.widget = widgets.Text(\n",
    "            placeholder=self.placeholder,\n",
    "            description=self.description,\n",
    "            layout=input_layout,\n",
    "            style=input_style)\n",
    "\n",
    "    def get(self):\n",
    "        return self.widget\n",
    "\n",
    "\n",
    "class DropdownInputWidget(object):\n",
    "    def __init__(self, options, value, description):\n",
    "        self.options = options\n",
    "        self.value = value\n",
    "        self.description = description\n",
    "        self.widget = widgets.Dropdown(\n",
    "            options=self.options,\n",
    "            value=self.value,\n",
    "            disabled=False,\n",
    "            description=self.description,\n",
    "            layout=input_layout,\n",
    "            style=input_style\n",
    "        )\n",
    "\n",
    "    def get(self):\n",
    "        return self.widget\n",
    "    \n",
    "class StyledButton(object):\n",
    "    def __init__(self,desc,tooltip,icon):\n",
    "        self.description = desc\n",
    "        self.tooltip = tooltip\n",
    "        self.icon = icon\n",
    "        self.button = widgets.Button(\n",
    "                description=self.description,\n",
    "                disabled=False,\n",
    "                layout = widgets.Layout(width='50%'),\n",
    "                display='flex',\n",
    "                align_items='stretch',\n",
    "                button_style='',\n",
    "                tooltip=self.tooltip,\n",
    "                icon=self.icon,\n",
    "                style=widgets.ButtonStyle(button_color = '#D8D2EB')\n",
    "        )\n",
    "    def get(self):\n",
    "        return self.button"
   ]
  },
  {
   "cell_type": "markdown",
   "metadata": {
    "tags": []
   },
   "source": [
    "## View your Verily Workbench group memberships\n",
    "<a id='view_groups'></a>\n",
    "\n",
    "Run the cell below to view a list of the Verily Workbench groups in which you are a member. You should be a member of at least one group, specific to your organization, which will have the name `<ORGANIZATION>-users`."
   ]
  },
  {
   "cell_type": "code",
   "execution_count": null,
   "metadata": {
    "tags": []
   },
   "outputs": [],
   "source": [
    "result = subprocess.run(['terra','group','list','--format=JSON'],capture_output=True,text=True)\n",
    "print(result.stderr) if not result.stdout else display(HTML(users_table(result.stdout)))"
   ]
  },
  {
   "cell_type": "markdown",
   "metadata": {
    "tags": []
   },
   "source": [
    "## View members of your Verily Workbench group\n",
    "\n",
    "In order to view the members of a Verily Workbench group, you must be an owner of that group. Run the command below to view a list of the Verily Workbench groups in which you are a member. You should be a member of at least one group, specific to your organization, which will have the name `<ORGANIZATION>-users`."
   ]
  },
  {
   "cell_type": "markdown",
   "metadata": {},
   "source": [
    "To investigate the membership of your group, run the cell below to create a widget. Provide the group name in the widget input field and click the button to view a list of the members of the desired group."
   ]
  },
  {
   "cell_type": "code",
   "execution_count": null,
   "metadata": {
    "tags": []
   },
   "outputs": [],
   "source": [
    "class ListMembersWidget(object):\n",
    "    def __init__(self):\n",
    "        self.label = widgets.Label(value='Please provide the name for a Verily Workbench group.')\n",
    "        self.input_group_name = TextInputWidget('<GROUP_NAME>',\"Group Name:\").get()\n",
    "        self.output = widgets.Output()\n",
    "        self.list_button = StyledButton('List users in group','Click to list users in this Verily Workbench group.','list').get()\n",
    "        self.vb = widgets.VBox([self.label,self.input_group_name,self.list_button,self.output])\n",
    "        self.list_button.on_click(self.list_members)\n",
    "\n",
    "        \n",
    "    def list_members(self,b):\n",
    "        with self.output:\n",
    "            terra_command = [\"terra\",\"group\",\"list-users\",f\"--name={self.input_group_name.value}\",\"--format=text\"]\n",
    "            result = subprocess.run(terra_command,capture_output=True,text=True)\n",
    "            if not result.stdout:\n",
    "                self.output.append_display_data(result.stderr)\n",
    "            else:\n",
    "                self.output.append_display_data(HTML(users_table(result.stdout)))\n",
    "\n",
    "# Create widget                \n",
    "list_members_widget = ListMembersWidget()\n",
    "display(list_members_widget.vb)"
   ]
  },
  {
   "cell_type": "markdown",
   "metadata": {
    "tags": []
   },
   "source": [
    "## Create a new Verily Workbench group\n",
    "<a id='create_group'></a>\n",
    "\n",
    "Run the cell below to create a widget, then populate the widget's fields and click the button to create a new Verily Workbench group. \n",
    "The value provided for the `GROUP_NAME` should be unique, and reflect the purpose of the group (for example, for a group of Verily researchers working on the 1000 Genomes dataset, `verily-1000-genomes-researchers` would be appropriate).\n",
    "\n",
    "You should see output resembling:\n",
    "\n",
    "```\n",
    "Terra group created.\n",
    "<GROUP_NAME>\n",
    "  Email: <GROUP_NAME>@verily.com\n",
    "  # Members: 1\n",
    "  Current user's policies: ADMIN\n",
    "```"
   ]
  },
  {
   "cell_type": "code",
   "execution_count": null,
   "metadata": {
    "tags": []
   },
   "outputs": [],
   "source": [
    "class CreateGroupWidget(object):\n",
    "    def __init__(self):\n",
    "        self.label = widgets.Label(value='Please provide the name for a Verily Workbench group.')\n",
    "        self.input_group_name = TextInputWidget('<GROUP_NAME>',\"Group Name:\").get()\n",
    "        self.output = widgets.Output()\n",
    "        self.button = StyledButton('Create group','Click to create a Verily Workbench group.','plus').get()\n",
    "        self.vb = widgets.VBox([self.label,self.input_group_name,self.button,self.output])\n",
    "        self.button.on_click(self.create_group)\n",
    "\n",
    "    def create_group(self,b):\n",
    "        with self.output:\n",
    "            self.output.clear_output()\n",
    "            terra_command = [\"terra\",\"group\",\"create\",f\"--name={self.input_group_name.value}\",\"--format=text\"]\n",
    "            result = subprocess.run(terra_command,capture_output=True,text=True)\n",
    "            print(result.stderr) if not result.stdout else print(result.stdout)\n",
    "\n",
    "# Instantiate widget\n",
    "create_group_widget = CreateGroupWidget()\n",
    "display(create_group_widget.vb)"
   ]
  },
  {
   "cell_type": "markdown",
   "metadata": {
    "tags": []
   },
   "source": [
    "## Delete a Verily Workbench group\n",
    "\n",
    "<a id='delete_group'></a>\n",
    "\n",
    "In order to delete a Verily Workbench group, you must be an admin of that group. Run the cell below to create a widget, then populate the input fields and click the button to delete the desired group.\n",
    "\n",
    "**NOTE:** Once a Verily Workbench group has been deleted, this operation cannot be reversed. Please take care not to delete any groups currently in use.\n",
    "\n",
    "Your output should resemble:\n",
    "```\n",
    "<GROUP_NAME>\n",
    "  Email: <GROUP_NAME>@verily.com\n",
    "  # Members: <NUMBER_OF_MEMBERS>\n",
    "  Current user's policies: ADMIN\n",
    "Terra group successfully deleted.\n",
    "```"
   ]
  },
  {
   "cell_type": "code",
   "execution_count": null,
   "metadata": {
    "tags": []
   },
   "outputs": [],
   "source": [
    "class DeleteGroupWidget(object):\n",
    "    def __init__(self):\n",
    "        self.label = widgets.Label(value='Please provide the name for a Verily Workbench group.')\n",
    "        self.input_group_name = TextInputWidget('<GROUP_NAME>',\"Group Name:\").get()\n",
    "        self.output = widgets.Output()\n",
    "        self.button = StyledButton('Delete group','Click to delete a Verily Workbench group.','trash').get()\n",
    "        self.vb = widgets.VBox([self.label,self.input_group_name,self.button,self.output])\n",
    "        self.button.on_click(self.delete_group)\n",
    "\n",
    "    def delete_group(self,b):\n",
    "        with self.output:\n",
    "            self.output.clear_output()\n",
    "            terra_command = [\"terra\",\"group\",\"delete\",f\"--name={self.input_group_name.value}\",\"--quiet\"]\n",
    "            result = subprocess.run(terra_command,capture_output=True,text=True)\n",
    "            print(result.stderr) if not result.stdout else print(result.stdout)\n",
    "\n",
    "# Instantiate widget\n",
    "delete_group_widget = DeleteGroupWidget()\n",
    "display(delete_group_widget.vb)"
   ]
  },
  {
   "cell_type": "markdown",
   "metadata": {
    "tags": []
   },
   "source": [
    "## Manage Verily Workbench group membership\n",
    "<a id='manage_membership'></a>\n",
    "\n",
    "Managing group membership is often an ongoing task throught a project's lifecycle.\n",
    "<br>The sub-sections below create widgets that empower you to manage group membership without having to use the Workbench CLI in the terminal.\n",
    "\n",
    "**Note:** In order to manage the membership of a Verily Workbench group, you must have the 'ADMIN' policy in that group."
   ]
  },
  {
   "cell_type": "markdown",
   "metadata": {
    "tags": []
   },
   "source": [
    "### Add a user to a Verily Workbench group\n",
    "\n",
    "1. Run the cell below to create a widget that adds a user to a Verily Workbench group.\n",
    "1. In the widget, provide the group name for an existing Verily Workbench group and the email of the user you wish to add. \n",
    "1. Click the button to add the user to the group!\n",
    "\n",
    "You should then see output resembling:\n",
    "```\n",
    "User added to Terra group.\n",
    "<EMAIL>: <POLICY>\n",
    "```"
   ]
  },
  {
   "cell_type": "code",
   "execution_count": null,
   "metadata": {
    "tags": []
   },
   "outputs": [],
   "source": [
    "class AddUserWidget(object):\n",
    "    def __init__(self):\n",
    "        self.label = widgets.Label(value = 'Please provide appropriate values for the fields below.')\n",
    "        self.input_group_name = TextInputWidget('<GROUP_NAME>',\"Group Name:\").get()\n",
    "        self.input_user_email = TextInputWidget('<USER_EMAIL>',\"User Email:\").get()\n",
    "        self.policy_drop_down = DropdownInputWidget(['MEMBER','ADMIN'],'MEMBER',\"Policy:\").get()\n",
    "        self.output = widgets.Output()\n",
    "        self.button = StyledButton('Add user','Click to add a user to the group.','user-plus').get()\n",
    "        self.vb = widgets.VBox(\n",
    "            [self.label,\n",
    "             self.input_group_name,\n",
    "             self.input_user_email,\n",
    "             self.policy_drop_down,\n",
    "             self.button,\n",
    "             self.output\n",
    "            ],style=input_style,layout=widgets.Layout(align_items='flex-start'))\n",
    "        self.button.on_click(self.add_user)\n",
    "\n",
    "    def add_user(self,b):\n",
    "        with self.output:\n",
    "            # self.output.clear_output()\n",
    "            terra_command = [\"terra\", \"group\", \"add-user\",f\"--name={self.input_group_name.value}\",f\"--email={self.input_user_email.value}\",f\"--policy={self.policy_drop_down.value}\"]\n",
    "            result = subprocess.run(terra_command,capture_output=True,text=True)\n",
    "            print(result.stderr) if not result.stdout else print(result.stdout)\n",
    "\n",
    "# Instantiate widget\n",
    "add_user_widget = AddUserWidget()\n",
    "display(add_user_widget.vb)"
   ]
  },
  {
   "cell_type": "markdown",
   "metadata": {
    "tags": []
   },
   "source": [
    "### Remove a user from a Verily Workbench group\n",
    "\n",
    "1. Run the cell below to create a widget.\n",
    "1. In the widget, provide the group name for an existing Verily Workbench group and the email of the user you wish to remove. \n",
    "1. Click the button to remove the user from the group.\n",
    "\n",
    "You should see output resembling:\n",
    "```\n",
    "User (<USER_EMAIL>) removed from policy (<POLICY>) in group (<GROUP_NAME>).\n",
    "```"
   ]
  },
  {
   "cell_type": "code",
   "execution_count": null,
   "metadata": {
    "tags": []
   },
   "outputs": [],
   "source": [
    "class RemoveUserWidget(object):\n",
    "    def __init__(self):\n",
    "        self.label = widgets.Label(value = 'Please provide appropriate values for the fields below.')\n",
    "        self.input_group_name = TextInputWidget('<GROUP_NAME>',\"Group Name:\").get()\n",
    "        self.input_user_email = TextInputWidget('<USER_EMAIL>',\"User Email:\").get()\n",
    "        self.policy_drop_down = DropdownInputWidget(['MEMBER','ADMIN'],'MEMBER',\"Policy:\").get()\n",
    "        self.output = widgets.Output()\n",
    "        self.button = StyledButton('Remove user','Click to remove a user from the group.','user-minus').get()\n",
    "        self.vb = widgets.VBox(\n",
    "            [self.label,\n",
    "             self.input_group_name,\n",
    "             self.input_user_email,\n",
    "             self.policy_drop_down,\n",
    "             self.button,\n",
    "             self.output\n",
    "            ],style=input_style,layout=widgets.Layout(align_items='flex-start'))\n",
    "        self.button.on_click(self.remove_user)\n",
    "\n",
    "    def remove_user(self,b):\n",
    "        with self.output:\n",
    "            # self.output.clear_output()\n",
    "            terra_command = [\"terra\", \"group\", \"remove-user\",f\"--name={self.input_group_name.value}\",f\"--email={self.input_user_email.value}\",f\"--policy={self.policy_drop_down.value}\"]\n",
    "            result = subprocess.run(terra_command,capture_output=True,text=True)\n",
    "            print(result.stderr) if not result.stdout else print(result.stdout)\n",
    "\n",
    "# Instantiate widget\n",
    "add_user_widget = RemoveUserWidget()\n",
    "display(add_user_widget.vb)"
   ]
  },
  {
   "cell_type": "markdown",
   "metadata": {
    "tags": []
   },
   "source": [
    "### Add a batch of users to a Verily Workbench group\n",
    "\n",
    "Run the cell below to create a widget. The widget takes the following inputs:\n",
    "- `group name`: The name of an existing Verily Workbench group of which you are an admin.\n",
    "- `csv`: a CSV file located in your cloud environment in the same directory as this notebook. A template CSV file is provided in this directory, [batch_template.csv]('batch_template.csv'), consisting of the headers \"TERRA_USER_EMAIL\" and \"POLICY\", followed by one line per user. Each line contains a user's Verily Workbench email and the corresponding membership policy (either \"MEMBER\" or \"ADMIN\").\n",
    "\n",
    "Once you've created a CSV with your users' information and populated the input fields, click the button to add a batch of users from the Verily Workbench group.\n",
    "\n",
    "For each user, you should see output resembling:\n",
    "```\n",
    "User added to Terra group.\n",
    "<EMAIL>: <POLICY>\n",
    "```"
   ]
  },
  {
   "cell_type": "code",
   "execution_count": null,
   "metadata": {
    "tags": []
   },
   "outputs": [],
   "source": [
    "class BatchAddUsersWidget(object):\n",
    "    def __init__(self):\n",
    "        self.label = widgets.Label(value = 'Please provide appropriate values for the fields below.')\n",
    "        self.input_group_name = TextInputWidget('<GROUP_NAME>',\"Group Name:\",).get()\n",
    "        self.input_file = TextInputWidget('<FILE>',\"CSV File:\",).get()\n",
    "        self.output = widgets.Output()\n",
    "        self.button = StyledButton('Add users','Click to add a batch of users to the group.','user-plus').get()\n",
    "        self.button.on_click(self.batch_add_users)\n",
    "        self.vb = widgets.VBox([self.label,self.input_group_name,self.input_file,self.button,self.output],\n",
    "                          style=input_style,layout=widgets.Layout(align_items='flex-start'))\n",
    "\n",
    "    def batch_add_users(self,b):\n",
    "        with self.output:\n",
    "            self.output.clear_output()\n",
    "            with open(self.input_file.value) as csv_file:\n",
    "                csv_reader = csv.DictReader(csv_file,delimiter=',')\n",
    "                for user in csv_reader:\n",
    "                    terra_command = [\"terra\", \"group\", \"add-user\",f\"--name={self.input_group_name.value}\",f\"--email={user['TERRA_USER_EMAIL']}\",f\"--policy={user['POLICY']}\"]\n",
    "                    result = subprocess.run(terra_command,capture_output=True,text=True)\n",
    "                    print(result.stderr) if not result.stdout else print(result.stdout)\n",
    "\n",
    "\n",
    "\n",
    "# Instantiate widget\n",
    "batch_add_users_widget = BatchAddUsersWidget()\n",
    "display(batch_add_users_widget.vb)"
   ]
  },
  {
   "cell_type": "markdown",
   "metadata": {
    "tags": []
   },
   "source": [
    "### Remove a batch of users from a Verily Workbench group\n",
    "\n",
    "Run the cell below to create a widget. The widget takes the following inputs:\n",
    "- `group name`: The name of an existing Verily Workbench group of which you are an admin.\n",
    "- `csv`: a CSV file located in your cloud environment in the same directory as this notebook. A template CSV file is provided in this directory, [batch_template.csv]('batch_template.csv'), consisting of the headers \"TERRA_USER_EMAIL\" and \"POLICY\", followed by one line per user. Each line contains a user's Verily Workbench email and the corresponding membership policy (either \"MEMBER\" or \"ADMIN\").\n",
    "\n",
    "Once you've created a CSV with your users' information and populated the input fields, click the button to remove a batch of users from the Verily Workbench group.\n",
    "\n",
    "For each user, you should see output resembling:\n",
    "```\n",
    "User (<USER_EMAIL>) removed from policy (<POLICY>) in group (<GROUP_NAME>).\n",
    "```"
   ]
  },
  {
   "cell_type": "code",
   "execution_count": null,
   "metadata": {
    "tags": []
   },
   "outputs": [],
   "source": [
    "class BatchRemoveUsersWidget(object):\n",
    "    def __init__(self):\n",
    "        self.label = widgets.Label(value = 'Please provide appropriate values for the fields below.')\n",
    "        self.input_group_name = TextInputWidget('<GROUP_NAME>',\"Group Name:\").get()\n",
    "        self.input_file = TextInputWidget('<FILE>',\"CSV File:\").get()\n",
    "        self.output = widgets.Output()\n",
    "        self.button = StyledButton('Remove users','Click to remove a batch of users to the group.','user-minus').get()\n",
    "        self.button.on_click(self.batch_remove_users)\n",
    "        self.vb = widgets.VBox([self.label,self.input_group_name,self.input_file,self.button,self.output],\n",
    "                          style=input_style,layout=widgets.Layout(align_items='flex-start'))\n",
    "\n",
    "    def batch_remove_users(self,b):\n",
    "        with self.output:\n",
    "            self.output.clear_output()\n",
    "            with open(self.input_file.value) as csv_file:\n",
    "                csv_reader = csv.DictReader(csv_file,delimiter=',')\n",
    "                for user in csv_reader:\n",
    "                    terra_command = [\"terra\", \"group\", \"remove-user\",f\"--name={self.input_group_name.value}\",f\"--email={user['TERRA_USER_EMAIL']}\",f\"--policy={user['POLICY']}\"]\n",
    "                    result = subprocess.run(terra_command,capture_output=True,text=True)\n",
    "                    print(result.stderr) if not result.stdout else print(result.stdout)\n",
    "\n",
    "\n",
    "\n",
    "# Instantiate widget\n",
    "batch_remove_users_widget = BatchRemoveUsersWidget()\n",
    "display(batch_remove_users_widget.vb)"
   ]
  },
  {
   "cell_type": "markdown",
   "metadata": {},
   "source": [
    "## Provenance\n",
    "\n",
    "Generate information about this notebook environment and the packages installed."
   ]
  },
  {
   "cell_type": "code",
   "execution_count": null,
   "metadata": {},
   "outputs": [],
   "source": [
    "!date"
   ]
  },
  {
   "cell_type": "markdown",
   "metadata": {},
   "source": [
    "Conda and pip installed packages:"
   ]
  },
  {
   "cell_type": "code",
   "execution_count": null,
   "metadata": {},
   "outputs": [],
   "source": [
    "!conda env export"
   ]
  },
  {
   "cell_type": "markdown",
   "metadata": {},
   "source": [
    "JupyterLab extensions:"
   ]
  },
  {
   "cell_type": "code",
   "execution_count": null,
   "metadata": {},
   "outputs": [],
   "source": [
    "!jupyter labextension list"
   ]
  },
  {
   "cell_type": "markdown",
   "metadata": {},
   "source": [
    "Number of cores:"
   ]
  },
  {
   "cell_type": "code",
   "execution_count": null,
   "metadata": {},
   "outputs": [],
   "source": [
    "!grep ^processor /proc/cpuinfo | wc -l"
   ]
  },
  {
   "cell_type": "markdown",
   "metadata": {},
   "source": [
    "Memory:"
   ]
  },
  {
   "cell_type": "code",
   "execution_count": null,
   "metadata": {},
   "outputs": [],
   "source": [
    "!grep \"^MemTotal:\" /proc/meminfo"
   ]
  },
  {
   "cell_type": "markdown",
   "metadata": {},
   "source": [
    "---\n",
    "Copyright 2022 Verily Life Sciences LLC\n",
    "\n",
    "Use of this source code is governed by a BSD-style   \n",
    "license that can be found in the LICENSE file or at   \n",
    "https://developers.google.com/open-source/licenses/bsd"
   ]
  }
 ],
 "metadata": {
  "environment": {
   "kernel": "python3",
   "name": "r-cpu.4-2.m108",
   "type": "gcloud",
   "uri": "gcr.io/deeplearning-platform-release/r-cpu.4-2:m108"
  },
  "kernelspec": {
   "display_name": "Python 3",
   "language": "python",
   "name": "python3"
  },
  "language_info": {
   "codemirror_mode": {
    "name": "ipython",
    "version": 3
   },
   "file_extension": ".py",
   "mimetype": "text/x-python",
   "name": "python",
   "nbconvert_exporter": "python",
   "pygments_lexer": "ipython3",
   "version": "3.7.12"
  }
 },
 "nbformat": 4,
 "nbformat_minor": 4
}
