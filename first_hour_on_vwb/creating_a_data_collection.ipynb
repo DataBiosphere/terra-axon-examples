{
 "cells": [
  {
   "cell_type": "markdown",
   "metadata": {},
   "source": [
    "# Creating a data collection\n",
    "\n",
    "<table align=\"left\">\n",
    "\n",
    "  <td>\n",
    "    <a href=\"https://github.com/DataBiosphere/terra-axon-examples/blob/main/first_hour_on_vwb/working_with_data_collections.ipynb\">\n",
    "      <img src=\"https://cloud.google.com/ml-engine/images/github-logo-32px.png\" alt=\"GitHub logo\">\n",
    "      View on GitHub\n",
    "    </a>\n",
    "  </td>\n",
    "</table>"
   ]
  },
  {
   "cell_type": "markdown",
   "metadata": {
    "id": "tvgnzT1CKxrO",
    "tags": []
   },
   "source": [
    "## Overview\n",
    "\n",
    "This notebook provides a walkthrough of creating and publishing versions of a <a href=\"https://support.workbench.verily.com/docs/how_to_guides/creating_data_collections/#what-is-a-data-collection\">data collection</a> in Workbench. Each section in this notebook creates a widget that takes in the required inputs to complete a step in the <a href=\"https://support.workbench.verily.com/docs/how_to_guides/creating_data_collections/#how-to-create-a-data-collection-and-manage-its-versions\">data collection creation process</a> which would otherwise be performed manually via the Workbench UI and CLI.</p>\n",
    "\n",
    "### About data collections\n",
    "<p>A data collection is a grouping of related cloud-based resources related to a specific project, study or purpose. To interact with the data in a data collection, you must have access at the policy level, via group membership, and you must <a href=\"#add-dc-to-ws\">add the data collection to your workspace</a>.</p>"
   ]
  },
  {
   "cell_type": "markdown",
   "metadata": {
    "id": "d975e698c9a4"
   },
   "source": [
    "### Objective\n",
    "\n",
    "This notebook will guide you through creating a new data collection which you can then share with collaborators and use in your workspaces.\n",
    "\n",
    "- [Create a new data collection](#create-new-dc)\n",
    "    - [Create a new workspace.](#create-new-ws)\n",
    "    - [Convert the workspace into a data collection](#convert-to-dc)\n",
    "    - [Publish an initial version](#publish-version)\n",
    "    - [Add referenced and controlled resources to your new workspace](#add-resources)\n",
    "- [Add a data collection to your workspace](#add-dc-to-ws)\n",
    "\n",
    "#### How to run this notebook\n",
    "\n",
    "Please run the [Setup](#setup) section before running any other section in this notebook.\n",
    "\n",
    "#### Costs\n",
    "\n",
    "This notebook takes less than a minute to run, which will typically cost less than $0.01 of compute time on your cloud environment."
   ]
  },
  {
   "cell_type": "markdown",
   "metadata": {
    "tags": []
   },
   "source": [
    "### Setup\n",
    "<a id=\"setup\"></a>\n",
    "\n",
    "Run the cell below to capture the ID of the current workspace. You'll use this value to return to the current workspace after you've created a new workspace as part of the process of creating a data collection."
   ]
  },
  {
   "cell_type": "code",
   "execution_count": null,
   "metadata": {
    "tags": []
   },
   "outputs": [],
   "source": [
    "import json\n",
    "import ipywidgets as widgets\n",
    "import subprocess\n",
    "import widget_utils as wu\n",
    "import vwb_folder_utils as vfu\n",
    "from datetime import date\n",
    "\n",
    "'''\n",
    "Resolves ID of current workspace.\n",
    "'''\n",
    "def get_current_workspace_id():\n",
    "    CURRENT_WORKSPACE_ID_CMD_OUTPUT = !terra workspace describe --format=json | jq --raw-output \".id\"\n",
    "    CURRENT_WORKSPACE_ID = CURRENT_WORKSPACE_ID_CMD_OUTPUT[0]\n",
    "    return CURRENT_WORKSPACE_ID\n",
    "\n",
    "CURRENT_WORKSPACE_ID = get_current_workspace_id()\n",
    "print(f\"Current workspace ID is {CURRENT_WORKSPACE_ID}\")"
   ]
  },
  {
   "cell_type": "markdown",
   "metadata": {},
   "source": [
    "## Create a new data collection\n",
    "<a id=\"create-new-dc\"></a>\n",
    "Before creating your data collection, consider the following:\n",
    "1. What data do you want to share? What type of resources--Cloud Storage buckets or objects, BigQuery tables or datasets--will be made available via this data collection?\n",
    "1. With whom do you wish to share this data? Will you be sharing the data collection with all members of an existing Workbench group (e.g. for your organization or team), or will you need to create a new Workbench group in order to restrict access to the data collection?\n",
    "1. Will you update the data collection by releasing future versions? What versioning scheme is most appropriate?"
   ]
  },
  {
   "cell_type": "markdown",
   "metadata": {
    "tags": []
   },
   "source": [
    "### Restricting discovery access to a data collection\n",
    "\n",
    "<div class=\"alert alert-block alert-success\">\n",
    "<b>Note:</b> Unless a group membership <a href=\"https://terra-docs.api.verily.com/docs/https://terra-docs.api.verily.com/docs/reference/glossary/#policy\">policy</a> is applied <b>at the creation time for the data collection's underlying workspace</b>, your data collection will be discoverable to all Workbench users.</div> \n",
    "<p>If a user has discovery access to a data collection, they are able to see its name and short description in the <a href=\"https://support.workbench.verily.com/docs/technical_reference/data_resources/#data-catalog-and-collections\">data catalog</a>. In order to have read access to the resources in a data collection, users and/or groups must still be explicitly granted access to the data collection-backing workspace via the Workbench UI or CLI by the data collection owner.</p>\n",
    "<h4>Adding a group membership policy</h4>\n",
    "<p>When a <a href=\"https://support.workbench.verily.com/docs/how_to_guides/creating_data_collections/#group-policies\">group membership policy</a> is added to a data collection-backing workspace at creation time, only members of that group will see the data collection in the data catalog. </p>\n",
    "<p>To create a data collection with a group membership policy for discovery, <a href=\"https://support.workbench.verily.com/docs/how_to_guides/creating_data_collections/#add-a-data-collection-policy\">create the data collection-backing workspace via the Workbench UI</a> (providing the group to which to restrict discovery access), skip the next section, and proceed directly to <a href=\"#convert-to-dc\"> Convert the workspace into a data collection<a/>.</p>\n",
    "<p><i>Don't have an existing Workbench group to use?</i> Run <a href=\"../working_with_groups.ipynb>\">../working_with_groups.ipynb</a> for tooling to help you create and manage Workbench groups and their members.</p>\n",
    "<h4>Adding a region constraint policy</h4>\n",
    "A <a href=\"https://support.workbench.verily.com/docs/how_to_guides/creating_data_collections/#region-constraint-policies\">region constraint policy</a> restricts which regions may be used to create cloud resources & environments in workspaces to which your data collection is added. Reach out to <a href=\"mailto:workbench-support@verily.com\">workbench-support@verily.com</a>, or your primary Verily Workbench contact, for support in setting a data collection’s region constraint policy, prior to sharing your data collection's underlying workspace. \n"
   ]
  },
  {
   "cell_type": "markdown",
   "metadata": {
    "tags": []
   },
   "source": [
    "### Create a new workspace for the data collection\n",
    "<a id=\"create-new-ws\"></a>\n",
    "\n",
    "In order to create a data collection, you must first create a new workspace. \n",
    "Run the cell below to create a widget, then populate the widget's input fields and click the button to create your new workspace.\n",
    "\n",
    "Widget input parameters include:\n",
    "- `Workspace Name`: Must be a string. This value is displayed in the Data Collection modal once the workspace is converted to a data collection, so the value should communicate the intended purpose (e.g. `<STUDY_NAME> Data Collection`).<br> While the Workbench UI and this widget require a workspace name to be provided, the CLI does not; if no workspace name is provided to the CLI, a UUID is generated instead. \n",
    "- `Description`: Must be a string. This description will stay with the workspace after it becomes a data collection. Before you convert a workspace to a data collection, you can update this value in the UI.\n",
    "- `Workspace ID`: Must be unique and consist only of lowercase letters, numbers and underscores. Provide a workspace ID that suggests something about the contents of the data collection you'd like to create and include the date of its creation, such as `<STUDY_NAME>_<YYMMDD>_dc_ws`. *You cannot change the workspace ID after workspace creation.* \n",
    "- `Version`: Must be unique from subsequent versions (e.g., you cannot have two versions of a given data collection, both named \"1.0\"). Represents the first version of the data collection.\n",
    "\n",
    "\n",
    "The output should resemble:\n",
    "\n",
    "```\n",
    "Workspace successfully created.\n",
    "ID:                <WORKSPACE_ID>\n",
    "Name:              <WORKSPACE_NAME>\n",
    "Description:       <DESCRIPTION>\n",
    "Cloud Platform:    GCP\n",
    "Google project:    <GOOGLE_PROJECT_ID>\n",
    "Cloud console:     https://console.cloud.google.com/home/dashboard?project=<GOOGLE_PROJECT_ID>\n",
    "Properties:\n",
    "  terra-type: workspace\n",
    "Created:           YYYY-MM-DD\n",
    "Last updated:      YYYY-MM-DD\n",
    "# Resources:       0\n",
    "Successfully converted <WORKSPACE_ID> to data collection.\n",
    "Created initial version of data collection: <VERSION>\n",
    "```"
   ]
  },
  {
   "cell_type": "code",
   "execution_count": null,
   "metadata": {
    "tags": []
   },
   "outputs": [],
   "source": [
    "class CreateWorkspaceWidget(object):\n",
    "    def __init__(self):\n",
    "        self.label = widgets.Label(value='Please provide appropriate values in the input boxes.')\n",
    "        self.warning = wu.WarningWidget('The workspace name provided will be shown in the data catalog once the workspace is converted to a data collection.').get()\n",
    "        self.input_name = wu.TextInputWidget(\"<WORKSPACE_NAME>\",\"Workspace Name:\").get()\n",
    "        self.input_description = wu.TextInputWidget(\"<DESCRIPTION>\",\"Description:\").get()\n",
    "        self.input_workspace_id = wu.TextInputWidget(\"<WORKSPACE_ID>\",\"Workspace ID:\").get()\n",
    "        self.output_workspace_id = widgets.Text()\n",
    "        self.output_workspace_id.value = self.input_workspace_id.value\n",
    "        self.button = wu.StyledButton('Create workspace','Click to create a new workspace','plus').get()\n",
    "        self.button.on_click(self.create_workspace)\n",
    "        self.output = widgets.Output()\n",
    "        self.vb = widgets.VBox(\n",
    "            children = [self.label, self.warning,\n",
    "                        self.input_name, self.input_description,\n",
    "                        self.input_workspace_id,\n",
    "                        self.button, self.output],\n",
    "            layout = wu.vbox_layout)\n",
    "        \n",
    "    def get_workspace_id(self):\n",
    "        return self.input_workspace_id.value.strip()\n",
    "\n",
    "    def create_workspace(self,b):\n",
    "        with self.output:\n",
    "            createWorkspaceCommandList = [\n",
    "                \"terra\", \"workspace\", \"create\",\n",
    "                f\"--id={self.input_workspace_id.value.strip()}\",\n",
    "                f\"--description={self.input_description.value.strip()}\",\n",
    "                f\"--name={self.input_name.value.strip()}\",\n",
    "            ]\n",
    "            print('Running command to create workspace...')\n",
    "            print('\\n'.join(createWorkspaceCommandList))\n",
    "            print('')\n",
    "            print(\"Your workspace will be ready in less than one minute...\")\n",
    "            result = subprocess.run(createWorkspaceCommandList, capture_output = True, text = True, timeout=180, check=True)\n",
    "            print(result.stderr) if not result.stdout else print(result.stdout)\n",
    "\n",
    "create_ws_widget = CreateWorkspaceWidget()\n",
    "display(create_ws_widget.vb)"
   ]
  },
  {
   "cell_type": "markdown",
   "metadata": {
    "tags": []
   },
   "source": [
    "### Convert new workspace to data collection\n",
    "<a id=\"convert-to-dc\"></a>\n",
    "\n",
    "Now you'll convert your newly created workspace, to which you have added resources, into a data collection which can be shared with others and added to other workspaces. \n",
    "Run the cell below to create a widget, then populate the widget's input fields and click the button to convert the workspace to a data collection. Please note that until you <a href=\"#publish-version\">publish a version</a> in the next section, your data collection will not appear in the data catalog.\n",
    "\n",
    "Widget input parameters include:\n",
    "- `workspace_id`: Automatically populated with the workspace ID of the workspace created in the previous step.\n",
    "- `short-description`: Must be a string. This description will be visible in the Add a Data Collection modal and should summarize the purpose and/or contents of your data collection.\n",
    "\n",
    "The output should resemble:\n",
    "```\n",
    "Workspace properties successfully updated.\n",
    "ID:                <STUDY_NAME>_<YYMMDD>_dc_ws\n",
    "Name:               <STUDY_NAME>-Data-<YYMMDD>\n",
    "Description:       <DESCRIPTION>\n",
    "Cloud Platform:    GCP\n",
    "Google project:    <GOOGLE_PROJECT_ID>\n",
    "Cloud console:     https://console.cloud.google.com/home/dashboard?project=<GOOGLE_PROJECT_ID>\n",
    "Properties:\n",
    "  terra-workspace-short-description: <DESCRIPTION>\n",
    "  terra-type: data-collection\n",
    "Created:           YYYY-MM-DD\n",
    "Last updated:      YYYY-MM-DD\n",
    "# Resources:       <NUMBER_OF_RESOURCES>\n",
    "Workspace properties successfully updated.\n",
    "```"
   ]
  },
  {
   "cell_type": "code",
   "execution_count": null,
   "metadata": {
    "tags": []
   },
   "outputs": [],
   "source": [
    "class ConvertToDataCollectionWidget(object):\n",
    "    def __init__(self,prev_widget):\n",
    "        self.label = widgets.Label(value = 'Please provide appropriate values in the input boxes.')\n",
    "        self.workspace_ids = self.get_workspace_ids()\n",
    "        self.new_ws_id = prev_widget.get_workspace_id();\n",
    "        self.input_workspace_id = wu.DropdownInputWidget([self.new_ws_id],self.new_ws_id,\"Workspace ID:\").get()\n",
    "        self.input_short_description = wu.TextInputWidget(\"<SHORT_DESCRIPTION>\",\"Short Description:\").get()\n",
    "        self.button = wu.StyledButton('Convert to data collection','Click to convert to data collection','check').get()\n",
    "        self.button.on_click(self.convert_to_data_collection)\n",
    "        self.output = widgets.Output()\n",
    "        self.vb = widgets.VBox([\n",
    "            self.label,\n",
    "            self.input_workspace_id,\n",
    "            self.input_short_description,\n",
    "            self.button,\n",
    "            self.output\n",
    "        ], layout=wu.vbox_layout)\n",
    "    \n",
    "    def get_workspace_id(self):\n",
    "        return self.input_workspace_id.value.strip()\n",
    "\n",
    "    def get_workspace_ids(self):\n",
    "        result = subprocess.run([\"terra\",\"workspace\",\"list\",\"--format=JSON\"],capture_output=True,text=True)\n",
    "        ids_list = wu.list_workspace_ids(result.stdout)\n",
    "        # Insert empty string to display as value of dropdown until changed by user.\n",
    "        ids_list.insert(0, \" \")\n",
    "        return ids_list\n",
    "    \n",
    "    def convert_to_data_collection(self,b):\n",
    "        workspace_id = self.input_workspace_id.value\n",
    "        short_desc = self.input_short_description.value\n",
    "        with self.output:\n",
    "            prettyConvertToDataCollectionCommand = f\"\"\"terra workspace set-property \\\\\n",
    "            --workspace={workspace_id} \\\\\n",
    "            --properties=\\\"terra-type=data-collection,terra-workspace-short-description={short_desc}\\\"\n",
    "            \"\"\"\n",
    "            print(\"Running command to convert workspace to data collection...\")\n",
    "            print(prettyConvertToDataCollectionCommand)\n",
    "            print(\"Your data collection will be ready in less than one minute...\")\n",
    "            result = subprocess.run([\"terra\",\"workspace\",\"set-property\",\n",
    "                                     f\"--workspace={workspace_id}\",\n",
    "                                     f\"--properties=terra-type=data-collection,terra-workspace-short-description={short_desc}\"],\n",
    "                                    capture_output=True,text=True)\n",
    "            print(result.stderr) if not result.stdout else print(result.stdout)\n",
    "\n",
    "convert_to_dc_widget = ConvertToDataCollectionWidget(create_ws_widget)\n",
    "display(convert_to_dc_widget.vb)"
   ]
  },
  {
   "cell_type": "markdown",
   "metadata": {
    "tags": [],
    "toc-hr-collapsed": true
   },
   "source": [
    "### Publish an initial version of your data collection\n",
    "<a id=\"publish-version\"></a>\n",
    "\n",
    "Now you'll publish a version of your newly created data collection which can be shared with others and added to other workspaces. \n",
    "Run the cell below to create a widget, then populate the widget's input fields and click the button to create a version and publish it.\n",
    "\n",
    "Widget input parameters include:\n",
    "- `Workspace ID`: Automatically populated with the workspace ID of the workspace created in the previous step.\n",
    "- `Version`: Must be a string. This field is useful in particular if future releases of the data in this data collection are planned. It's suggested that the same versioning strategy be used for all releases of a data collection to make it transparent for users (e.g., if the first release is version `1.0`, the next release should be `2.0`, not `Version 2`).\n",
    "- `Description`: Must be a string. This field should describe this particular version of your data collection and is displayed in the data catalog.\n",
    "\n",
    "The output should resemble:\n",
    "```\n",
    "Workspace properties successfully updated.\n",
    "ID:                <STUDY_NAME>_<YYMMDD>_dc_ws\n",
    "Name:               <STUDY_NAME>-Data-<YYMMDD>\n",
    "Description:       <DESCRIPTION>\n",
    "Cloud Platform:    GCP\n",
    "Google project:    <GOOGLE_PROJECT_ID>\n",
    "Cloud console:     https://console.cloud.google.com/home/dashboard?project=<GOOGLE_PROJECT_ID>\n",
    "Properties:\n",
    "  terra-workspace-short-description: descriptive content\n",
    "  terra-workspace-version: 1.0\n",
    "  terra-type: data-collection\n",
    "Created:           YYYY-MM-DD\n",
    "Last updated:      YYYY-MM-DD\n",
    "# Resources:       Workspace properties successfully updated.\n",
    "ID:                <STUDY_NAME>_<YYMMDD>_dc_ws\n",
    "Name:              <STUDY_NAME> Data <YYMMDD>\n",
    "Description:       <DESCRIPTION>\n",
    "Cloud Platform:    GCP\n",
    "Google project:    <GOOGLE_PROJECT_ID>\n",
    "Cloud console:     https://console.cloud.google.com/home/dashboard?project=<GOOGLE_PROJECT_ID>\n",
    "Properties:\n",
    "  terra-workspace-short-description: <SHORT_DESCRIPTION>\n",
    "  terra-workspace-version: <VERSION>\n",
    "  terra-type: data-collection\n",
    "Created:           YYYY-MM-DD\n",
    "Last updated:      YYYY-MM-DD\n",
    "# Resources:       0\n",
    "```"
   ]
  },
  {
   "cell_type": "code",
   "execution_count": null,
   "metadata": {
    "tags": []
   },
   "outputs": [],
   "source": [
    "class PublishVersionWidget(object):\n",
    "    def __init__(self, prev_widget):\n",
    "        self.label = widgets.Label(value = 'Please provide appropriate values in the input boxes.')\n",
    "        self.data_collection_ids = self.get_data_collections()\n",
    "        self.new_ws_id = prev_widget.get_workspace_id();\n",
    "        self.input_workspace_id = wu.DropdownInputWidget([self.new_ws_id],self.new_ws_id,\"Workspace ID:\").get()\n",
    "        self.input_version = wu.TextInputWidget(\"<VERSION>\",\"Version:\").get()\n",
    "        self.input_description = wu.TextInputWidget(\"<DESCRIPTION>\",\"Description:\").get()        \n",
    "        self.button = wu.StyledButton('Publish version','Click to publish a new version','check').get()\n",
    "        self.button.on_click(self.publish_version)\n",
    "        self.output = widgets.Output()\n",
    "        self.vb = widgets.VBox([\n",
    "            self.label,\n",
    "            self.input_workspace_id,\n",
    "            self.input_version,\n",
    "            self.input_description,\n",
    "            self.button,\n",
    "            self.output\n",
    "        ], layout=wu.vbox_layout)\n",
    "\n",
    "    def get_data_collections(self):\n",
    "        result = subprocess.run([\"terra\",\"workspace\",\"list\",\"--format=JSON\"],capture_output=True,text=True)\n",
    "        ids_list = wu.list_data_collections(result.stdout)\n",
    "        # Insert empty string to display as value of dropdown until changed by user.\n",
    "        ids_list.insert(0,'')\n",
    "        return ids_list\n",
    "\n",
    "    def get_workspace_id(self):\n",
    "        return self.input_workspace_id.value.strip()\n",
    "    \n",
    "    def publish_version(self,b):\n",
    "        with self.output:\n",
    "            # Save values as variables for reuse.\n",
    "            workspace_id = self.input_workspace_id.value.strip()\n",
    "            version = self.input_version.value.strip()\n",
    "            description = self.input_description.value.strip()\n",
    "            \n",
    "            # 1) Point cloud env to target data-collection workspace.\n",
    "            setWorkspaceCommand = f\"terra workspace set --id={workspace_id}\"\n",
    "            setWorkspaceResult = subprocess.run(setWorkspaceCommand, shell = True, capture_output = True, text = True)\n",
    "            print(setWorkspaceResult.stderr) if not setWorkspaceResult.stdout else print(setWorkspaceResult.stdout)\n",
    "\n",
    "            # 2) Create version folder.            \n",
    "            if description is not None:\n",
    "                createVersionCommand = f\"terra folder create --name={version} --description=\\\"{description}\\\" --workspace={workspace_id}\"\n",
    "            else:\n",
    "                createVersionCommand = f\"terra folder create --name={version} --workspace={workspace_id}\"\n",
    "            createVersionResult = subprocess.run(createVersionCommand, capture_output = True, text = True, shell = True)\n",
    "            print(createVersionResult.stderr) if not createVersionResult.stdout else print(createVersionResult.stdout)\n",
    "            \n",
    "            # 3) Get file tree from Terra CLI.\n",
    "            folderTreeResult = subprocess.run([\"terra\", \"folder\", \"tree\", \"--format=JSON\"], capture_output = True, text = True)\n",
    "\n",
    "            # 4) Search tree for ID of desired version folder.\n",
    "            folder_id = vfu.get_folder_id(version,json.loads(folderTreeResult.stdout))\n",
    "\n",
    "            # 6) Publish desired folder as a version with today's date.\n",
    "            today = date.today()\n",
    "            formatted_date = today.strftime(\"%Y-%m-%d\")\n",
    "            publishVersionCommand = f\"terra folder set-property --properties=terra-published-date={formatted_date} --id={folder_id}\"\n",
    "            publishVersionResult = subprocess.run(publishVersionCommand, shell = True, capture_output = True, text = True, check = True)\n",
    "            print(publishVersionResult.stderr) if not publishVersionResult.stdout else print(publishVersionResult.stdout)\n",
    "\n",
    "publish_version_widget = PublishVersionWidget(convert_to_dc_widget)\n",
    "display(publish_version_widget.vb)"
   ]
  },
  {
   "cell_type": "markdown",
   "metadata": {
    "tags": []
   },
   "source": [
    "### Add resources to a data collection version\n",
    "<a id=\"add-resources\"></a>\n",
    "\n",
    "Resources in data collections live in \"versions\". To make a resource available in a published data collection version, it must be within the top-level workspace folder corresponding to that version. Controlled and/or referenced resources can be added to the top-level version folder in the workspace corresponding to the data collection created in the previous step in the following ways.\n",
    "* Navigate to the Workbench Resources tab for the workspace corresponding to your data collection. Move desired resources to the top-level folder named for your version. \n",
    "* Run the following Workbench CLI commands to get the version folder's ID, then move a resource to the version folder:\n",
    "\n",
    "        # Get ID for version folder\n",
    "        terra folder tree\n",
    "        # Move desired resource to version folder\n",
    "        terra resource move --folder-id=<FOLDER_ID> --name=<RESOURCE_NAME> --workspace=<WORKSPACE_ID>\n",
    "* Use the widgets provided in [../workspace_resource_examples.ipynb](../workspace_resource_examples.ipynb../workspace_resource_examples.ipynb) to create controlled and add referenced resources to the data collection's backing workspace, then move them to the version folder."
   ]
  },
  {
   "cell_type": "markdown",
   "metadata": {
    "tags": []
   },
   "source": [
    "### Add release notes to a data collection version\n",
    "<a id=\"add-resources\"></a>\n",
    "\n",
    "You may wish to add \"release notes\" for each version of your data collection. The release note will appear in the data catalog modal and in the data collections table within a workspace. Workbench supports adding notes that exist as text files at URLs (e.g. files stored on GitHub, in a GCS bucket, et cetera). To add release notes, run the cell below to create a widget, populate the widget input fields with appropriate values and click the button.\n",
    "\n",
    "Widget input parameters include:\n",
    "- `Workspace ID`: Automatically populated with the workspace ID of the workspace created in the previous step.\n",
    "- `Version`: Must be a string. Must match an existing published version of your data collection, which corresponds to a top-level folder in your data collection's underlying workspace.\n",
    "- `Notes URL`: Must be a string. URL should be formatted like `https://www.<DOMAIN>.com`. Notes at this URL will be shown in data catalog modal and in workspaces that add this data collection version.\n",
    "\n",
    "You should see output like:\n",
    "```\n",
    "Workspace successfully loaded.\n",
    "ID:                <WORSKPACE_ID>\n",
    "Name:              <WORKSPACE_ID>\n",
    "Description:       <DESCRIPTION>\n",
    "Cloud Platform:    GCP\n",
    "Google project:    <GOOGLE_PROJECT_ID>\n",
    "Cloud console:     https://console.cloud.google.com/home/dashboard?project=<GOOGLE_PROJECT_ID>\n",
    "Properties:\n",
    "  terra-workspace-short-description: <SHORT_DESCRIPTION>\n",
    "  terra-type: data-collection\n",
    "Created:           YYYY-MM-DD\n",
    "Last updated:      YYYY-MM-DD\n",
    "# Resources:       N\n",
    "Folder properties successfully updated.\n",
    "ID:          <FOLDER_ID>\n",
    "Name:        <VERSION>\n",
    "Description: <DESCRIPTION>\n",
    "Parent ID:   null\n",
    "Properties:\n",
    "  terra-release-notes-url: <RELEASE_NOTES_URL>\n",
    "  terra-published-date: <YYYY-MM-DD>\n",
    "```"
   ]
  },
  {
   "cell_type": "code",
   "execution_count": null,
   "metadata": {
    "tags": []
   },
   "outputs": [],
   "source": [
    "class AddReleaseNotesWidget(object):\n",
    "    def __init__(self, prev_widget):\n",
    "        self.label = widgets.Label(value = 'Please provide appropriate values in the input boxes.')\n",
    "        self.data_collection_ids = self.get_data_collections()\n",
    "        self.new_ws_id = prev_widget.get_workspace_id();\n",
    "        self.input_workspace_id = wu.DropdownInputWidget([self.new_ws_id],self.new_ws_id,\"Workspace ID:\").get()\n",
    "        self.input_version = wu.TextInputWidget(\"<VERSION>\",\"Version:\").get()\n",
    "        self.input_notes_url = wu.TextInputWidget(\"<NOTES_URL>\",\"Notes URL:\").get()        \n",
    "        self.button = wu.StyledButton('Attach notes','Click to attach release notes','check').get()\n",
    "        self.output = widgets.Output()\n",
    "        self.initial_fields = [\n",
    "            self.label,\n",
    "            self.input_workspace_id,\n",
    "            self.input_version,\n",
    "            self.input_notes_url,\n",
    "            self.button,\n",
    "            self.output\n",
    "        ]\n",
    "        self.vb = widgets.VBox(children=self.initial_fields, layout=wu.vbox_layout)\n",
    "        self.button.on_click(self.add_release_notes)\n",
    "\n",
    "    def get_data_collections(self):\n",
    "        result = subprocess.run([\"terra\",\"workspace\",\"list\",\"--format=JSON\"],capture_output=True,text=True)\n",
    "        ids_list = wu.list_data_collections(result.stdout)\n",
    "        # Insert empty string to display as value of dropdown until changed by user.\n",
    "        ids_list.insert(0,'')\n",
    "        return ids_list\n",
    "\n",
    "    def add_release_notes(self,b):\n",
    "        with self.output:\n",
    "            # Save values as variables for reuse.\n",
    "            workspace_id = self.input_workspace_id.value.strip()\n",
    "            version = self.input_version.value.strip()\n",
    "            notes_url = self.input_notes_url.value.strip()\n",
    "            \n",
    "            # 1) Point cloud env to target data-collection workspace.\n",
    "            setWorkspaceCommand = f\"terra workspace set --id={workspace_id}\"\n",
    "            setWorkspaceResult = subprocess.run(setWorkspaceCommand, shell = True, capture_output = True, text = True)\n",
    "            print(setWorkspaceResult.stderr) if not setWorkspaceResult.stdout else print(setWorkspaceResult.stdout)\n",
    "\n",
    "            # 2) Get file tree from Terra CLI.\n",
    "            folderTreeResult = subprocess.run([\"terra\", \"folder\", \"tree\", \"--format=JSON\"], capture_output = True, text = True)\n",
    "\n",
    "            # 3) Search tree for ID of desired version folder.\n",
    "            folder_id = vfu.get_folder_id(version,json.loads(folderTreeResult.stdout))\n",
    "\n",
    "            # 4) Run command to add release notes URL to version.\n",
    "            attachNotesCommand = [\"terra\", \"folder\", \"set-property\", f\"--properties=terra-release-notes-url={notes_url}\", f\"--id={folder_id}\", f\"--workspace={workspace_id}\"]\n",
    "            attachNotesResult = subprocess.run(attachNotesCommand, capture_output = True, text = True, check = True)\n",
    "            print(attachNotesResult.stderr) if not attachNotesResult.stdout else print(attachNotesResult.stdout)\n",
    "            \n",
    "add_release_notes_widget = AddReleaseNotesWidget(publish_version_widget)\n",
    "display(add_release_notes_widget.vb)"
   ]
  },
  {
   "cell_type": "markdown",
   "metadata": {
    "tags": []
   },
   "source": [
    "### Add data collection to workspace\n",
    "<a id=\"add-dc-to-ws\"></a>\n",
    "\n",
    "Follow the steps below to add your new data collection to a Workbench workspace.<br>The video below provides a visual walkthrough of these steps.\n",
    "\n",
    "1. In the [Workbench workspace UI](https://terra.verily.com/workspaces), select a workspace that is NOT the data collection workspace.\n",
    "1. Navigate to the Resources tab.\n",
    "1. Click the \"+ Data catalog\" button.\n",
    "1. Select your newly created data collection from those listed in the modal.\n",
    "1. Navigate through the steps in the modal to complete the addition of the data collection to your workspace.\n",
    "\n",
    "<video controls src=\"screencasts/add_data_collection_to_workspace.mp4\" width=600>Add data collection to workspace</video>"
   ]
  },
  {
   "cell_type": "markdown",
   "metadata": {
    "tags": []
   },
   "source": [
    "## Provenance\n",
    "\n",
    "Generate information about this notebook environment and the packages installed."
   ]
  },
  {
   "cell_type": "code",
   "execution_count": null,
   "metadata": {},
   "outputs": [],
   "source": [
    "!date"
   ]
  },
  {
   "cell_type": "markdown",
   "metadata": {},
   "source": [
    "Conda and pip installed packages:"
   ]
  },
  {
   "cell_type": "code",
   "execution_count": null,
   "metadata": {},
   "outputs": [],
   "source": [
    "!conda env export"
   ]
  },
  {
   "cell_type": "markdown",
   "metadata": {},
   "source": [
    "JupyterLab extensions:"
   ]
  },
  {
   "cell_type": "code",
   "execution_count": null,
   "metadata": {},
   "outputs": [],
   "source": [
    "!jupyter labextension list"
   ]
  },
  {
   "cell_type": "markdown",
   "metadata": {},
   "source": [
    "Number of cores:"
   ]
  },
  {
   "cell_type": "code",
   "execution_count": null,
   "metadata": {},
   "outputs": [],
   "source": [
    "!grep ^processor /proc/cpuinfo | wc -l"
   ]
  },
  {
   "cell_type": "markdown",
   "metadata": {},
   "source": [
    "Memory:"
   ]
  },
  {
   "cell_type": "code",
   "execution_count": null,
   "metadata": {},
   "outputs": [],
   "source": [
    "!grep \"^MemTotal:\" /proc/meminfo"
   ]
  },
  {
   "cell_type": "markdown",
   "metadata": {},
   "source": [
    "---\n",
    "Copyright 2023 Verily Life Sciences LLC\n",
    "\n",
    "Use of this source code is governed by a BSD-style   \n",
    "license that can be found in the LICENSE file or at   \n",
    "https://developers.google.com/open-source/licenses/bsd"
   ]
  }
 ],
 "metadata": {
  "environment": {
   "kernel": "python3",
   "name": "r-cpu.4-2.m110",
   "type": "gcloud",
   "uri": "gcr.io/deeplearning-platform-release/r-cpu.4-2:m110"
  },
  "kernelspec": {
   "display_name": "Python 3 (ipykernel)",
   "language": "python",
   "name": "python3"
  },
  "language_info": {
   "codemirror_mode": {
    "name": "ipython",
    "version": 3
   },
   "file_extension": ".py",
   "mimetype": "text/x-python",
   "name": "python",
   "nbconvert_exporter": "python",
   "pygments_lexer": "ipython3",
   "version": "3.7.12"
  }
 },
 "nbformat": 4,
 "nbformat_minor": 4
}
