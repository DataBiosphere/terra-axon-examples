{
 "cells": [
  {
   "cell_type": "markdown",
   "metadata": {},
   "source": [
    "# Working with data collections\n",
    "\n",
    "<table align=\"left\">\n",
    "\n",
    "  <td>\n",
    "    <a href=\"https://github.com/DataBiosphere/terra-axon-examples/blob/main/first_hour_on_terra/working_with_data_collections.ipynb\">\n",
    "      <img src=\"https://cloud.google.com/ml-engine/images/github-logo-32px.png\" alt=\"GitHub logo\">\n",
    "      View on GitHub\n",
    "    </a>\n",
    "  </td>\n",
    "  <td>\n",
    "    <a href=\"https://console.cloud.google.com/vertex-ai/workbench/deploy-notebook?download_url=https://github.com/DataBiosphere/terra-axon-examples/main/first_hour_on_terra/working_with_data_collections.ipynb\">\n",
    "      <img src=\"https://lh3.googleusercontent.com/UiNooY4LUgW_oTvpsNhPpQzsstV5W8F7rYgxgGBD85cWJoLmrOzhVs_ksK_vgx40SHs7jCqkTkCk=e14-rj-sc0xffffff-h130-w32\" alt=\"Vertex AI logo\">\n",
    "      Open in a Terra notebook instance\n",
    "    </a>\n",
    "  </td>                                                                                               \n",
    "</table>"
   ]
  },
  {
   "cell_type": "markdown",
   "metadata": {
    "id": "tvgnzT1CKxrO"
   },
   "source": [
    "## Overview\n",
    "\n",
    "This notebook provides examples of working with data collections in Terra. Build upon the best practices described in this notebook to create and share your own data collections. "
   ]
  },
  {
   "cell_type": "markdown",
   "metadata": {
    "id": "d975e698c9a4"
   },
   "source": [
    "### Objective\n",
    "\n",
    "Perform common workspace resource operations including:\n",
    "\n",
    "1. Create a new data collection from cloud data.\n",
    "1. Share the data collection with collaborators.\n",
    "1. Add the data collection as a resource to a new workspace.\n",
    "\n",
    "#### How to run this notebook\n",
    "\n",
    "Please run the setup section before running any other section in this notebook.\n",
    "\n",
    "#### Costs\n",
    "\n",
    "This notebook takes less than a minute to run, which will typically cost less than $0.01 of compute time on your cloud environment."
   ]
  },
  {
   "cell_type": "markdown",
   "metadata": {
    "tags": []
   },
   "source": [
    "### Setup\n",
    "\n",
    "Run the cell below to capture the ID of the current workspace. You'll use this value to return to the current workspace after you've created a new workspace as part of the process of creating a data collection."
   ]
  },
  {
   "cell_type": "code",
   "execution_count": null,
   "metadata": {},
   "outputs": [],
   "source": [
    "import json\n",
    "from ipywidgets import Button, Layout\n",
    "\n",
    "CURRENT_WORKSPACE_ID = !terra workspace describe --format=json | jq --raw-output \".id\""
   ]
  },
  {
   "cell_type": "markdown",
   "metadata": {
    "tags": []
   },
   "source": [
    "## Create a data collection\n",
    "\n",
    "The process of creating a data collection requires you to specify the following:\n",
    "1. What data do you want to share? What type of resources--Cloud Storage buckets or objects, BigQuery tables, GitHUb repositories--will be made available via this data collection?\n",
    "1. With whom do you wish to share this data? Will you be sharing the data collection with all members of an existing Terra group (e.g. for your organization or team), or will you need to create a new Terra group in order to restrict access to the data collection?\n",
    "1. Will you update the data collection by releasing future versions?\n",
    "\n",
    "<div class=\"alert alert-block alert-success\">\n",
    "<b>Note:</b> \n",
    "    If you'd like to restrict access to your data collection to members of a specific group, you'll need to provide the <a href=\"https://et-docs-tests.googleplex.com/docs/reference/glossary/#policy\">group policy constraint</a> at the time of workspace creation. See <a href=\"../creating_a_group.ipynb\">../creating_a_group.ipynb</a> for details on how to create a Terra group that can be used for group policy constraints on workspaces and data collections. </div>"
   ]
  },
  {
   "cell_type": "markdown",
   "metadata": {
    "tags": []
   },
   "source": [
    "### Create a new workspace\n",
    "\n",
    "In order to create a data collection, you must first create a new workspace. Run the cell below to create a new workspace. The output should resemble:\n",
    "\n",
    "```\n",
    "Workspace successfully created.\n",
    "ID:                <GOOGLE_PROJECT_ID>-dc-ws\n",
    "Name:              <TERRA_USER_EMAIL>-Data\n",
    "Description:       A new workspace which I will transform into a data collection.\n",
    "Cloud Platform:    GCP\n",
    "Google project:    <GOOGLE_PROJECT_ID>\n",
    "Cloud console:     https://console.cloud.google.com/home/dashboard?project=terra-vpp-arctic-mustard-2133\n",
    "Properties:\n",
    "  terra-type: workspace\n",
    "Created:           YYYY-MM-DD\n",
    "Last updated:      YYYY-MM-DD\n",
    "# Resources:       0\n",
    "```"
   ]
  },
  {
   "cell_type": "code",
   "execution_count": null,
   "metadata": {},
   "outputs": [],
   "source": [
    "input_style= {'description_width':'initial'}\n",
    "buttonOutput = 'Please provide appropriate values in the input boxes.'\n",
    "\n",
    "input_workspace_id = widgets.Text(\n",
    " placeholder=\"<WORKSPACE_ID>\",\n",
    " description=\"Workspace ID:\",\n",
    " style=input_style\n",
    ")\n",
    "output_workspace_id = widgets.Text()\n",
    "input_description = widgets.Text(\n",
    " placeholder=\"<DESCRIPTION>\",\n",
    " description=\"Description:\",\n",
    " style=input_style\n",
    " )\n",
    "input_name = widgets.Text(\n",
    " placeholder=\"<RESOURCE_NAME>\",\n",
    " description=\"Resource Name:\",\n",
    " style=input_style\n",
    " )\n",
    "display(input_workspace_id)\n",
    "display(input_description)\n",
    "display(input_name)\n",
    "\n",
    "# Define function to bind inputs to outputs.\n",
    "def bind_input_to_output(sender):\n",
    "    output_workspace_id.value = input_workspace_id.value\n",
    "\n",
    "# define a function for the button to call\n",
    "def button_click_event(b):\n",
    "    with output:\n",
    "        global buttonOutput\n",
    "        terraCommand = \"\"\"terra workspace create \\\\\n",
    "        --id={0} \\\\\n",
    "        --description=\\\"{1}\\\" \\\\\n",
    "        --name={2}\"\"\".format(input_workspace_id.value,input_description.value,input_version.value)       \n",
    "        print(terraCommand)\n",
    "        os.system(terraCommand)\n",
    "\n",
    "# get a reference to the widget output\n",
    "output = widgets.Output()\n",
    "input_workspace_id.observe(bind_input_to_output)\n",
    "button = widgets.Button(\n",
    "    description='Create workspace',\n",
    "    disabled=False,\n",
    "    button_style='',\n",
    "    tooltip='Click to create a new workspace',\n",
    "    icon='check',\n",
    "    layout=Layout(width='50%', height='40px')\n",
    ")\n",
    "\n",
    "#bind the button_click_event to the button call event\n",
    "button.on_click(button_click_event)\n",
    "\n",
    "# show the current state of the output\n",
    "print(buttonOutput)\n",
    "\n",
    "#display the button\n",
    "display(button, output)"
   ]
  },
  {
   "cell_type": "markdown",
   "metadata": {
    "jp-MarkdownHeadingCollapsed": true,
    "tags": []
   },
   "source": [
    "### Add resources to data collection\n",
    "\n",
    "Add new controlled and/or referenced resources to the workspace created in the previous step using the Terra CLI or the Terra UI Resources tab. To easily add resources, use the widgets provided in [../workspace_resource_examples.ipynb](../workspace_resource_examples.ipynb../workspace_resource_examples.ipynb)."
   ]
  },
  {
   "cell_type": "markdown",
   "metadata": {},
   "source": [
    "### Convert workspace to data collection\n",
    "\n",
    "Run the cell below to change the type of the workspace you created to 'data collection'. The output should resemble:\n",
    "```\n",
    "Workspace properties successfully updated.\n",
    "ID:                emmarogge-getting-started-data-collection-ws\n",
    "Name:              emmarogge@google.com-data\n",
    "Description:       A new workspace which will become a data collection.\n",
    "Cloud Platform:    GCP\n",
    "Google project:    terra-vpp-amiable-haricot-324\n",
    "Cloud console:     https://console.cloud.google.com/home/dashboard?project=terra-vpp-amiable-haricot-324\n",
    "Properties:\n",
    "  terra-workspace-short-description: descriptive content\n",
    "  terra-workspace-version: 1.0\n",
    "  terra-type: data-collection\n",
    "Created:           2023-05-03\n",
    "Last updated:      2023-05-03\n",
    "# Resources:       0Workspace properties successfully updated.\n",
    "ID:                emmarogge-getting-started-data-collection-ws\n",
    "Name:              emmarogge@google.com-data\n",
    "Description:       A new workspace which will become a data collection.\n",
    "Cloud Platform:    GCP\n",
    "Google project:    terra-vpp-amiable-haricot-324\n",
    "Cloud console:     https://console.cloud.google.com/home/dashboard?project=terra-vpp-amiable-haricot-324\n",
    "Properties:\n",
    "  terra-workspace-short-description: descriptive content\n",
    "  terra-workspace-version: 1.0\n",
    "  terra-type: data-collection\n",
    "Created:           2023-05-03\n",
    "Last updated:      2023-05-03\n",
    "# Resources:       0\n",
    "```"
   ]
  },
  {
   "cell_type": "code",
   "execution_count": null,
   "metadata": {},
   "outputs": [],
   "source": [
    "input_dc_workspace_id = widgets.Text(\n",
    " placeholder=\"<WORKSPACE_ID>\",\n",
    " description=\"Workspace ID:\",\n",
    " style=input_style,\n",
    " value=output_workspace_id.value\n",
    ")\n",
    "widgetLink = widgets.jslink((input_dc_workspace_id,'value'),(input_workspace_id,'value'))\n",
    "input_short_description = widgets.Text(\n",
    " placeholder=\"<DESCRIPTION>\",\n",
    " description=\"Description:\",\n",
    " style=input_style\n",
    " )\n",
    "input_version = widgets.Text(\n",
    " placeholder=\"<VERSION>\",\n",
    " description=\"Version:\",\n",
    " style=input_style\n",
    " )\n",
    "display(input_workspace_id)\n",
    "display(input_short_description)\n",
    "display(input_version)\n",
    "\n",
    "# define a variable that will be reset when the button is pressed\n",
    "buttonOutput = 'Please provide appropriate values in the input boxes.'\n",
    "\n",
    "# define a function for the button to call\n",
    "def button_click_event(b):\n",
    "    with output:\n",
    "        global buttonOutput\n",
    "        terraCommand = \"\"\"terra workspace set-property \\\\\n",
    "        --workspace={0} \\\\\n",
    "        --properties=\"terra-type=data-collection,terra-workspace-short-description={1},terra-workspace-version={2}\"       \"\"\".format(input_workspace_id.value,input_short_description.value,input_version.value)       \n",
    "        # print(terraCommand)\n",
    "        os.system(terraCommand)\n",
    "\n",
    "# get a reference to the widget output\n",
    "output = widgets.Output()\n",
    "\n",
    "button = widgets.Button(\n",
    "    description='Convert to data collection',\n",
    "    disabled=False,\n",
    "    button_style='',\n",
    "    tooltip='Click to convert to data collection',\n",
    "    icon='check',\n",
    "    layout=Layout(width='50%', height='40px')\n",
    ")\n",
    "\n",
    "#bind the button_click_event to the button call event\n",
    "button.on_click(button_click_event)\n",
    "\n",
    "# show the current state of the output\n",
    "print(buttonOutput)\n",
    "\n",
    "#display the button\n",
    "display(button, output)"
   ]
  },
  {
   "cell_type": "markdown",
   "metadata": {
    "tags": []
   },
   "source": [
    "### Add data collection to workspace\n",
    "\n",
    "Follow the steps below to add your new data collection to an Enterprise Terra workspace.<br>The video below provides a visual walkthrough of these steps.\n",
    "\n",
    "1. In the [Enterprise Terra workspace UI](https://terra.verily.com/workspaces), select a workspace.\n",
    "1. Navigate to the Resources tab.\n",
    "1. Click the \"+ Data catalog\" button.\n",
    "1. Select your newly created data collection from those listed in the modal.\n",
    "1. Navigate through the steps in the modal to complete the addition of the data collection to your workspace.\n",
    "1. On a cloud environment terminal in your workspace, run `terra resource list` to confirm the data collection has been added.\n",
    "\n",
    "<video controls src=\"screencasts/add_data_collection_to_workspace.mp4\" width=600>Add data collection to workspace</video>"
   ]
  },
  {
   "cell_type": "markdown",
   "metadata": {
    "tags": []
   },
   "source": [
    "## Provenance\n",
    "\n",
    "Generate information about this notebook environment and the packages installed."
   ]
  },
  {
   "cell_type": "code",
   "execution_count": null,
   "metadata": {},
   "outputs": [],
   "source": [
    "!date"
   ]
  },
  {
   "cell_type": "markdown",
   "metadata": {},
   "source": [
    "Conda and pip installed packages:"
   ]
  },
  {
   "cell_type": "code",
   "execution_count": null,
   "metadata": {},
   "outputs": [],
   "source": [
    "!conda env export"
   ]
  },
  {
   "cell_type": "markdown",
   "metadata": {},
   "source": [
    "JupyterLab extensions:"
   ]
  },
  {
   "cell_type": "code",
   "execution_count": null,
   "metadata": {},
   "outputs": [],
   "source": [
    "!jupyter labextension list"
   ]
  },
  {
   "cell_type": "markdown",
   "metadata": {},
   "source": [
    "Number of cores:"
   ]
  },
  {
   "cell_type": "code",
   "execution_count": null,
   "metadata": {},
   "outputs": [],
   "source": [
    "!grep ^processor /proc/cpuinfo | wc -l"
   ]
  },
  {
   "cell_type": "markdown",
   "metadata": {},
   "source": [
    "Memory:"
   ]
  },
  {
   "cell_type": "code",
   "execution_count": null,
   "metadata": {},
   "outputs": [],
   "source": [
    "!grep \"^MemTotal:\" /proc/meminfo"
   ]
  },
  {
   "cell_type": "markdown",
   "metadata": {},
   "source": [
    "---\n",
    "Copyright 2022 Verily Life Sciences LLC\n",
    "\n",
    "Use of this source code is governed by a BSD-style   \n",
    "license that can be found in the LICENSE file or at   \n",
    "https://developers.google.com/open-source/licenses/bsd"
   ]
  }
 ],
 "metadata": {
  "environment": {
   "kernel": "python3",
   "name": "r-cpu.4-2.m107",
   "type": "gcloud",
   "uri": "gcr.io/deeplearning-platform-release/r-cpu.4-2:m107"
  },
  "kernelspec": {
   "display_name": "Python 3",
   "language": "python",
   "name": "python3"
  },
  "language_info": {
   "codemirror_mode": {
    "name": "ipython",
    "version": 3
   },
   "file_extension": ".py",
   "mimetype": "text/x-python",
   "name": "python",
   "nbconvert_exporter": "python",
   "pygments_lexer": "ipython3",
   "version": "3.7.12"
  }
 },
 "nbformat": 4,
 "nbformat_minor": 4
}
