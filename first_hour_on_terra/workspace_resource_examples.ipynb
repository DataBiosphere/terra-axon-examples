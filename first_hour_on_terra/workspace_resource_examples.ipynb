{
 "cells": [
  {
   "cell_type": "markdown",
   "metadata": {},
   "source": [
    "# Workspace resources\n",
    "\n",
    "<table align=\"left\">\n",
    "\n",
    "  <td>\n",
    "    <a href=\"https://github.com/DataBiosphere/terra-axon-examples/blob/main/first_hour_on_terra/workspace_resources.ipynb\">\n",
    "      <img src=\"https://cloud.google.com/ml-engine/images/github-logo-32px.png\" alt=\"GitHub logo\">\n",
    "      View on GitHub\n",
    "    </a>\n",
    "  </td>\n",
    "  <td>\n",
    "    <a href=\"https://console.cloud.google.com/vertex-ai/workbench/deploy-notebook?download_url=https://github.com/DataBiosphere/terra-axon-examples/main/first_hour_on_terra/workspace_resources.ipynb\">\n",
    "      <img src=\"https://lh3.googleusercontent.com/UiNooY4LUgW_oTvpsNhPpQzsstV5W8F7rYgxgGBD85cWJoLmrOzhVs_ksK_vgx40SHs7jCqkTkCk=e14-rj-sc0xffffff-h130-w32\" alt=\"Vertex AI logo\">\n",
    "      Open in a Terra notebook instance\n",
    "    </a>\n",
    "  </td>                                                                                               \n",
    "</table>"
   ]
  },
  {
   "cell_type": "markdown",
   "metadata": {
    "id": "tvgnzT1CKxrO"
   },
   "source": [
    "## Overview\n",
    "\n",
    "This notebook provides examples of working with workspace resources. Build upon the best practices described in this notebook to include and share resources in your own workspaces. "
   ]
  },
  {
   "cell_type": "markdown",
   "metadata": {
    "id": "d975e698c9a4",
    "tags": []
   },
   "source": [
    "### Objective\n",
    "\n",
    "Perform common workspace resource operations including:\n",
    "\n",
    "1. Viewing the resources available in an existing workspace.\n",
    "1. Creating new resources in an existing workspace.\n",
    "1. Viewing data from a cloud resource in your Terra cloud environment.\n",
    "#### How to run this notebook\n",
    "\n",
    "Run this notebook cell by cell to set up your workspace. All setup steps are optional, but highly recommended so that your workspace is compatible with the Enterprise Terra tutorials.\n",
    "\n",
    "#### Costs\n",
    "\n",
    "This notebook takes less than a minute to run, which will typically cost less than $0.01 of compute time on your cloud environment."
   ]
  },
  {
   "cell_type": "markdown",
   "metadata": {},
   "source": [
    "### Notebook setup"
   ]
  },
  {
   "cell_type": "markdown",
   "metadata": {},
   "source": [
    "#### Set up utility functions"
   ]
  },
  {
   "cell_type": "code",
   "execution_count": null,
   "metadata": {},
   "outputs": [],
   "source": [
    "import json\n",
    "\n",
    "'''\n",
    "Resolves bucket URL from bucket reference in workspace.\n",
    "'''\n",
    "def get_bucket_url_from_reference(bucket_reference):\n",
    "    BUCKET_CMD_OUTPUT = !terra resolve --name={bucket_reference}\n",
    "    BUCKET = BUCKET_CMD_OUTPUT[0]\n",
    "    return BUCKET\n",
    "\n",
    "'''\n",
    "Resolves current workspace ID from workspace description.\n",
    "'''\n",
    "CURRENT_WORKSPACE_ID = !terra workspace describe --format=json | jq --raw-output \".id\""
   ]
  },
  {
   "cell_type": "markdown",
   "metadata": {
    "tags": []
   },
   "source": [
    "#### Workspace setup\n",
    "<div class=\"alert alert-block alert-info\">\n",
    "<b>Note:</b> This notebook assumes that <a href=\"../../terra-axon-examples/workspace_setup.ipynb\">`workspace_setup.ipynb`</a> has been run.\n",
    "</div>\n",
    "    \n",
    "`workspace_setup.ipynb` creates two Cloud Storage buckets for your workspace files with workspace reference names: \n",
    "\n",
    " - ws_files   \n",
    " - ws_files_autodelete_after_two_weeks      \n",
    "    \n",
    "The code in this notebook will write output files to the \"autodelete\" bucket by default.  \n",
    "    Any file in this bucket will be automatically deleted <b>two weeks</b> after it is written.  \n",
    "    This alleviates the need for you to remember to clean up temporary and example files manually.  \n",
    "    If you want to write outputs to a durable location, simply change the assignment of the `BUCKET_REFERENCE` variable in the cell below and re-run the notebook. "
   ]
  },
  {
   "cell_type": "code",
   "execution_count": null,
   "metadata": {},
   "outputs": [],
   "source": [
    "# Change this to \"ws_files\" to use the durable workspace bucket instead of the autodelete bucket.\n",
    "BUCKET_REFERENCE = \"ws_files_autodelete_after_two_weeks\""
   ]
  },
  {
   "cell_type": "code",
   "execution_count": null,
   "metadata": {},
   "outputs": [],
   "source": [
    "MY_BUCKET = get_bucket_url_from_reference(BUCKET_REFERENCE)\n",
    "print(f'Bucket ID: {MY_BUCKET}')"
   ]
  },
  {
   "cell_type": "code",
   "execution_count": null,
   "metadata": {},
   "outputs": [],
   "source": [
    "WORKSPACE_ID = get_current_workspace_id()\n",
    "print(f'Workspace ID: {WORKSPACE_ID}')"
   ]
  },
  {
   "cell_type": "markdown",
   "metadata": {},
   "source": [
    "### Add referenced resources\n",
    "\n",
    "For each type of referenced resource, this notebook provides\n",
    "1. A **widget** which runs a Terra CLI command to add a referenced resource.<br>simply fill in the inputs with your desired values and click the button.\n",
    "1. A **video** showing how to create that type of resource in the Enterprise Terra UI.\n",
    "\n"
   ]
  },
  {
   "cell_type": "code",
   "execution_count": null,
   "metadata": {},
   "outputs": [],
   "source": [
    "# Widget utilities used in two or more commands\n",
    "import ipywidgets, os\n",
    "\n",
    "input_style= {'description_width':'initial'}\n",
    "\n",
    "cloningDropDown = widgets.Dropdown(\n",
    " options=['COPY_NOTHING','COPY_DEFINITION','COPY_RESOURCE','COPY_REFERENCE'],\n",
    " value='COPY_REFERENCE',\n",
    " description=\"Cloning:\",\n",
    " disabled=False,\n",
    " )"
   ]
  },
  {
   "cell_type": "markdown",
   "metadata": {},
   "source": [
    "#### 1. Add a GitHub repository\n",
    "\n",
    "Both public and private GitHub repositories can be added to data collections. In order to add a private GitHub repository, you must first [set up your Terra SSH key](https://terra-docs.api.verily.com/docs/how_to_guides/terra_ssh_key_guide/https://terra-docs.api.verily.com/docs/how_to_guides/terra_ssh_key_guide/) and should provide a repo URL of the format `git@github.com` instead of `http://`. No additional setup is required to add a public GitHub repository.\n",
    "\n",
    "Replace the placeholder values in the cell below and run to add a GitHub repository to your data collection. You should see output resembling:\n",
    "```\n",
    "Successfully added referenced git repo.\n",
    "Name:         dc-public-repo\n",
    "Description:  A public GitHub repo\n",
    "Type:         GIT_REPO\n",
    "Stewardship:  REFERENCED\n",
    "Cloning:      COPY_REFERENCE\n",
    "Properties:   class Properties {\n",
    "    []\n",
    "}\n",
    "Git repo Url: https://github.com/<YOUR_REPO> Successfully added referenced git repo.\n",
    "Name:         dc-public-repo\n",
    "Description:  A public GitHub repo\n",
    "Type:         GIT_REPO\n",
    "Stewardship:  REFERENCED\n",
    "Cloning:      COPY_REFERENCE\n",
    "Properties:   class Properties {\n",
    "    []\n",
    "}\n",
    "Git repo Url: https://github.com/<YOUR_REPO>\n",
    "```"
   ]
  },
  {
   "cell_type": "code",
   "execution_count": null,
   "metadata": {},
   "outputs": [],
   "source": [
    "input_name = widgets.Text(\n",
    " placeholder=\"<REPO_NAME>\",\n",
    " description=\"Name:\"\n",
    " )\n",
    "input_description = widgets.Text(\n",
    " placeholder=\"<REPO_DESCRIPTION>\",\n",
    " description=\"Description:\"\n",
    " )\n",
    "input_repo_url = widgets.Text(\n",
    " placeholder=\"<REPO_URL>\",\n",
    " description=\"URL:\"\n",
    " )\n",
    "\n",
    "display(cloningDropDown)\n",
    "display(input_name)\n",
    "display(input_description)\n",
    "display(input_repo_url)\n",
    "\n",
    "# define a variable that will be reset when the button is pressed\n",
    "buttonOutput = 'Please provide appropriate values in the input boxes.'\n",
    "\n",
    "# define a function for the button to call\n",
    "def button_click_event(b):\n",
    "    with output:\n",
    "        global buttonOutput\n",
    "        \n",
    "        terraCommand = \"\"\"terra resource add-ref git-repo \\\\\n",
    "        --cloning={0} \\\\\n",
    "        --description={1} \\\\\n",
    "        --name={2} \\\\\n",
    "        --repo-url={3} \\\\\n",
    "        --workspace={4}        \"\"\".format(cloningDropDown.value,input_description.value,input_name.value,input_repo_url.value,WORKSPACE_ID)       \n",
    "        print(terraCommand)\n",
    "        os.system(terraCommand)\n",
    "\n",
    "# get a reference to the widget output\n",
    "output = widgets.Output()\n",
    "\n",
    "button = widgets.Button(\n",
    "    description='Add resource',\n",
    "    disabled=False,\n",
    "    button_style='',\n",
    "    tooltip='abcd',\n",
    "    icon='plus'\n",
    ")\n",
    "\n",
    "#bind the button_click_event to the button call event\n",
    "button.on_click(button_click_event)\n",
    "\n",
    "# show the current state of the output\n",
    "print(buttonOutput)\n",
    "\n",
    "#display the button\n",
    "display(button, output)"
   ]
  },
  {
   "cell_type": "markdown",
   "metadata": {},
   "source": [
    "#### 2. Add a BigQuery dataset\n",
    "\n",
    "Replace the placeholder values in the cell below and run to add a GitHub repository to your data collection. You should see output resembling:"
   ]
  },
  {
   "cell_type": "code",
   "execution_count": null,
   "metadata": {},
   "outputs": [],
   "source": [
    "input_dataset_id = widgets.Text(\n",
    " placeholder=\"<DATASET_ID>\",\n",
    " description=\"Dataset ID:\"\n",
    " )\n",
    "input_description = widgets.Text(\n",
    " placeholder=\"<REPO_DESCRIPTION>\",\n",
    " description=\"Description:\"\n",
    " )\n",
    "input_name = widgets.Text(\n",
    " placeholder=\"<NAME>\",\n",
    " description=\"Name:\"\n",
    " )\n",
    "input_path = widgets.Text(\n",
    " placeholder=\"<PATH>\",\n",
    " description=\"Path:\"\n",
    " )\n",
    "input_project_id= widgets.Text(\n",
    " placeholder=\"<GCP_PROJECT_ID>\",\n",
    " description=\"GCP Project ID:\",\n",
    " style=input_style\n",
    " )\n",
    "display(cloningDropDown)\n",
    "display(input_dataset_id)\n",
    "display(input_description)\n",
    "display(input_name)\n",
    "display(input_path)\n",
    "display(input_project_id)\n",
    "\n",
    "# define a variable that will be reset when the button is pressed\n",
    "buttonOutput = 'Please provide appropriate values in the input boxes.'\n",
    "\n",
    "# define a function for the button to call\n",
    "def button_click_event(b):\n",
    "    with output:\n",
    "        global buttonOutput\n",
    "        \n",
    "        terraCommand = \"\"\"terra resource add-ref git-repo \\\\\n",
    "        --cloning={0} \\\\\n",
    "        --dataset_id={1} \\\\\n",
    "        --description={2} \\\\\n",
    "        --name={3} \\\\\n",
    "        --path={4} \\\\\n",
    "        --project_id={5} \\\\\n",
    "        --workspace={6}\n",
    "        \"\"\".format(cloningDropDown.value,input_dataset_id.value,input_description.value,input_name.value,input_path.value,input_project_id.value,WORKSPACE_ID)       \n",
    "        print(terraCommand)\n",
    "        os.system(terraCommand)\n",
    "\n",
    "# get a reference to the widget output\n",
    "output = widgets.Output()\n",
    "\n",
    "button = widgets.Button(\n",
    "    description='Add resource',\n",
    "    disabled=False,\n",
    "    button_style='',\n",
    "    tooltip='abcd',\n",
    "    icon='plus'\n",
    ")\n",
    "\n",
    "#bind the button_click_event to the button call event\n",
    "button.on_click(button_click_event)\n",
    "\n",
    "# show the current state of the output\n",
    "print(buttonOutput)\n",
    "\n",
    "#display the button\n",
    "display(button, output)"
   ]
  },
  {
   "cell_type": "markdown",
   "metadata": {},
   "source": [
    "#### 3. Add a BigQuery table"
   ]
  },
  {
   "cell_type": "code",
   "execution_count": null,
   "metadata": {},
   "outputs": [],
   "source": [
    "input_dataset_id = widgets.Text(\n",
    " placeholder=\"<DATASET_ID>\",\n",
    " description=\"Dataset ID:\"\n",
    " )\n",
    "input_description = widgets.Text(\n",
    " placeholder=\"<REPO_DESCRIPTION>\",\n",
    " description=\"Description:\"\n",
    " )\n",
    "input_name = widgets.Text(\n",
    " placeholder=\"<NAME>\",\n",
    " description=\"Name:\"\n",
    " )\n",
    "input_path = widgets.Text(\n",
    " placeholder=\"<PATH>\",\n",
    " description=\"Path:\"\n",
    " )\n",
    "input_project_id= widgets.Text(\n",
    " placeholder=\"<GCP_PROJECT_ID>\",\n",
    " description=\"GCP Project ID:\",\n",
    " style=input_style\n",
    " )\n",
    "input_table_id= widgets.Text(\n",
    " placeholder=\"<TABLE_ID>\",\n",
    " description=\"Table ID:\",\n",
    " style=input_style\n",
    " )\n",
    "display(cloningDropDown)\n",
    "display(input_dataset_id)\n",
    "display(input_description)\n",
    "display(input_name)\n",
    "display(input_path)\n",
    "display(input_project_id)\n",
    "display(input_table_id)\n",
    "\n",
    "# define a variable that will be reset when the button is pressed\n",
    "buttonOutput = 'Please provide appropriate values in the input boxes.'\n",
    "\n",
    "# define a function for the button to call\n",
    "def button_click_event(b):\n",
    "    with output:\n",
    "        global buttonOutput\n",
    "        \n",
    "        terraCommand = \"\"\"terra resource add-ref git-repo \\\\\n",
    "        --cloning={0} \\\\\n",
    "        --dataset_id={1} \\\\\n",
    "        --description={2} \\\\\n",
    "        --name={3} \\\\\n",
    "        --path={4} \\\\\n",
    "        --project_id={5} \\\\\n",
    "        --table_id={6} \\\\\n",
    "        --workspace={7}\n",
    "        \"\"\".format(cloningDropDown.value,input_dataset_id.value,input_description.value,input_name.value,input_path.value,input_project_id.value,input_table_id.value,WORKSPACE_ID)       \n",
    "        print(terraCommand)\n",
    "        os.system(terraCommand)\n",
    "\n",
    "# get a reference to the widget output\n",
    "output = widgets.Output()\n",
    "\n",
    "button = widgets.Button(\n",
    "    description='Add resource',\n",
    "    disabled=False,\n",
    "    button_style='',\n",
    "    tooltip='Click to add a BigQuery table as a referenced resource.',\n",
    "    icon='plus'\n",
    ")\n",
    "\n",
    "#bind the button_click_event to the button call event\n",
    "button.on_click(button_click_event)\n",
    "\n",
    "# show the current state of the output\n",
    "print(buttonOutput)\n",
    "\n",
    "#display the button\n",
    "display(button, output)"
   ]
  },
  {
   "cell_type": "markdown",
   "metadata": {},
   "source": [
    "#### 4. Add a Google Cloud Storage bucket"
   ]
  },
  {
   "cell_type": "markdown",
   "metadata": {},
   "source": [
    "#### 5. Add Google Cloud Storage object"
   ]
  },
  {
   "cell_type": "markdown",
   "metadata": {},
   "source": [
    "## Provenance\n",
    "\n",
    "Generate information about this notebook environment and the packages installed."
   ]
  },
  {
   "cell_type": "code",
   "execution_count": null,
   "metadata": {},
   "outputs": [],
   "source": [
    "!date"
   ]
  },
  {
   "cell_type": "markdown",
   "metadata": {},
   "source": [
    "Conda and pip installed packages:"
   ]
  },
  {
   "cell_type": "code",
   "execution_count": null,
   "metadata": {},
   "outputs": [],
   "source": [
    "!conda env export"
   ]
  },
  {
   "cell_type": "markdown",
   "metadata": {},
   "source": [
    "JupyterLab extensions:"
   ]
  },
  {
   "cell_type": "code",
   "execution_count": null,
   "metadata": {},
   "outputs": [],
   "source": [
    "!jupyter labextension list"
   ]
  },
  {
   "cell_type": "markdown",
   "metadata": {},
   "source": [
    "Number of cores:"
   ]
  },
  {
   "cell_type": "code",
   "execution_count": null,
   "metadata": {},
   "outputs": [],
   "source": [
    "!grep ^processor /proc/cpuinfo | wc -l"
   ]
  },
  {
   "cell_type": "markdown",
   "metadata": {},
   "source": [
    "Memory:"
   ]
  },
  {
   "cell_type": "code",
   "execution_count": null,
   "metadata": {},
   "outputs": [],
   "source": [
    "!grep \"^MemTotal:\" /proc/meminfo"
   ]
  },
  {
   "cell_type": "markdown",
   "metadata": {},
   "source": [
    "---\n",
    "Copyright 2022 Verily Life Sciences LLC\n",
    "\n",
    "Use of this source code is governed by a BSD-style   \n",
    "license that can be found in the LICENSE file or at   \n",
    "https://developers.google.com/open-source/licenses/bsd"
   ]
  }
 ],
 "metadata": {
  "environment": {
   "kernel": "python3",
   "name": "r-cpu.4-2.m107",
   "type": "gcloud",
   "uri": "gcr.io/deeplearning-platform-release/r-cpu.4-2:m107"
  },
  "kernelspec": {
   "display_name": "Python 3",
   "language": "python",
   "name": "python3"
  },
  "language_info": {
   "codemirror_mode": {
    "name": "ipython",
    "version": 3
   },
   "file_extension": ".py",
   "mimetype": "text/x-python",
   "name": "python",
   "nbconvert_exporter": "python",
   "pygments_lexer": "ipython3",
   "version": "3.7.12"
  }
 },
 "nbformat": 4,
 "nbformat_minor": 4
}
