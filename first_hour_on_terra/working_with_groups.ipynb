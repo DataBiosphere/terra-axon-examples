{
 "cells": [
  {
   "cell_type": "markdown",
   "metadata": {},
   "source": [
    "# Working with Verily Workbench groups\n",
    "\n",
    "<table align=\"left\">\n",
    "\n",
    "  <td>\n",
    "    <a href=\"https://github.com/DataBiosphere/terra-axon-examples/blob/main/first_hour_on_terra/working_with_groups.ipynb\">\n",
    "      <img src=\"https://cloud.google.com/ml-engine/images/github-logo-32px.png\" alt=\"GitHub logo\">\n",
    "      View on GitHub\n",
    "    </a>\n",
    "  </td>\n",
    "  <td>\n",
    "    <a href=\"https://console.cloud.google.com/vertex-ai/workbench/deploy-notebook?download_url=https://github.com/DataBiosphere/terra-axon-examples/main/first_hour_on_terra/working_with_groups.ipynb\">\n",
    "      <img src=\"https://lh3.googleusercontent.com/UiNooY4LUgW_oTvpsNhPpQzsstV5W8F7rYgxgGBD85cWJoLmrOzhVs_ksK_vgx40SHs7jCqkTkCk=e14-rj-sc0xffffff-h130-w32\" alt=\"Vertex AI logo\">\n",
    "      Open in a Verily Workbench notebook instance\n",
    "    </a>\n",
    "  </td>                                                                                               \n",
    "</table>"
   ]
  },
  {
   "cell_type": "markdown",
   "metadata": {
    "id": "tvgnzT1CKxrO"
   },
   "source": [
    "## Overview\n",
    "\n",
    "This notebook provides examples of working with groups in Verily Workbench. Build upon the best practices described in this notebook to create and modify your own groups. "
   ]
  },
  {
   "cell_type": "markdown",
   "metadata": {
    "id": "d975e698c9a4"
   },
   "source": [
    "### Objective\n",
    "\n",
    "Perform common workspace resource operations including:\n",
    "\n",
    "1. Create a new Verily Workbench group.\n",
    "1. Add and remove collaborators to your Verily Workbench group.\n",
    "\n",
    "#### How to run this notebook\n",
    "\n",
    "Please run the Setup section before running any other sections in this worksapce. \n",
    "\n",
    "#### Costs\n",
    "\n",
    "This notebook takes less than a minute to run, which will typically cost less than $0.01 of compute time on your cloud environment."
   ]
  },
  {
   "cell_type": "markdown",
   "metadata": {
    "tags": []
   },
   "source": [
    "## Setup\n",
    "\n",
    "Run the cell below to set up utilities for the widgets provided in this workspace."
   ]
  },
  {
   "cell_type": "code",
   "execution_count": null,
   "metadata": {},
   "outputs": [],
   "source": [
    "# Widget utilities\n",
    "import subprocess\n",
    "import ipywidgets as widgets\n",
    "from IPython.display import display, HTML\n",
    "import json\n",
    "import widget_tables\n",
    "\n",
    "from ipywidgets.embed import embed_minimal_html\n",
    "\n",
    "input_style = {\n",
    "    'description_width':'initial'\n",
    "}\n",
    "\n",
    "input_layout = widgets.Layout(\n",
    "    width='400px',\n",
    "    justify_content='flex-start'\n",
    ")\n",
    "\n",
    "output_style = {\n",
    "    'description_width':'initial',\n",
    "}"
   ]
  },
  {
   "cell_type": "markdown",
   "metadata": {
    "tags": []
   },
   "source": [
    "## View your Verily Workbench group memberships\n",
    "\n",
    "Run the command below to view a list of the Verily Workbench groups in which you are a member. You should be a member of at least one group, specific to your organization, which will have the name `<ORGANIZATION>-users`."
   ]
  },
  {
   "cell_type": "code",
   "execution_count": null,
   "metadata": {},
   "outputs": [],
   "source": [
    "!terra group list"
   ]
  },
  {
   "cell_type": "markdown",
   "metadata": {},
   "source": [
    "To investigate the membership of your group, replace `<NAME>` with the group name in the output above, then run the following cell."
   ]
  },
  {
   "cell_type": "markdown",
   "metadata": {
    "jp-MarkdownHeadingCollapsed": true,
    "tags": []
   },
   "source": [
    "## View members of your Verily Workbench group\n",
    "\n",
    "In order to view the members of a Verily Workbench group, you must be an owner of that group. Run the command below to view a list of the Verily Workbench groups in which you are a member. You should be a member of at least one group, specific to your organization, which will have the name `<ORGANIZATION>-users`."
   ]
  },
  {
   "cell_type": "code",
   "execution_count": null,
   "metadata": {},
   "outputs": [],
   "source": [
    "input_group_name = widgets.Text(\n",
    "    placeholder='<GROUP_NAME>',\n",
    "    value='',\n",
    "    description=\"Group Name:\",\n",
    "    disabled=False,\n",
    "    layout=input_layout,\n",
    "    style=input_style\n",
    " )\n",
    "display(input_group_name)\n",
    "\n",
    "# define a variable that will be reset when the button is pressed\n",
    "buttonOutput = 'Please provide the name for a Verily Workbench group of which you are an ADMIN.'\n",
    "print(buttonOutput)\n",
    "\n",
    "# get a reference to the widget output\n",
    "output = widgets.Output()\n",
    "\n",
    "# define a function for the button to call\n",
    "def button_click_event(b):\n",
    "    with output:\n",
    "        output.clear_output()\n",
    "        terraCommand = \"terra group list-users --name={0} --format=text\".format(input_group_name.value)       \n",
    "        result = subprocess.check_output(terraCommand, shell=True).decode()\n",
    "        output.append_display_data(HTML(widget_tables.users_table(result)))\n",
    "\n",
    "button = widgets.Button(\n",
    "    description='List users in group',\n",
    "    disabled=False,\n",
    "    button_style='',\n",
    "    tooltip='Click to list users in this Verily Workbench group.',\n",
    "    icon='check'\n",
    ")\n",
    "\n",
    "#bind the button_click_event to the button call event\n",
    "button.on_click(button_click_event)\n",
    "\n",
    "display(button, output)"
   ]
  },
  {
   "cell_type": "markdown",
   "metadata": {
    "tags": []
   },
   "source": [
    "## Create a new Verily Workbench group\n",
    "\n",
    "Run the cell below to create a widget, then populate the widget's fields and click the button to create a new Verily Workbench group. You should see output resembling:\n",
    "\n",
    "```\n",
    "Terra group created.\n",
    "<GROUP_NAME>\n",
    "  Email: <GROUP_NAME>@verily.com\n",
    "  # Members: 1\n",
    "  Current user's policies: ADMIN\n",
    "```"
   ]
  },
  {
   "cell_type": "code",
   "execution_count": null,
   "metadata": {},
   "outputs": [],
   "source": [
    "input_group_name = widgets.Text(\n",
    "    placeholder='<GROUP_NAME>',\n",
    "    value='',\n",
    "    description=\"Group Name:\",\n",
    "    disabled=False,\n",
    "    layout=input_layout,\n",
    "    style=input_style\n",
    " )\n",
    "display(input_group_name)\n",
    "\n",
    "# define a variable that will be reset when the button is pressed\n",
    "buttonOutput = 'Please provide the name for a Verily Workbench group of which you are an ADMIN.'\n",
    "print(buttonOutput)\n",
    "\n",
    "# get a reference to the widget output\n",
    "output = widgets.Output()\n",
    "\n",
    "# define a function for the button to call\n",
    "def button_click_event(b):\n",
    "    with output:\n",
    "        output.clear_output()\n",
    "        terraCommand = \"terra group create --name={0} --format=text\".format(input_group_name.value)       \n",
    "        result = str(subprocess.check_output(terraCommand, shell=True).decode())\n",
    "        print(result)\n",
    "\n",
    "button = widgets.Button(\n",
    "    description='Create group',\n",
    "    disabled=False,\n",
    "    button_style='',\n",
    "    tooltip='Click to create a Verily Workbench group.',\n",
    "    icon='plus'\n",
    ")\n",
    "\n",
    "#bind the button_click_event to the button call event\n",
    "button.on_click(button_click_event)\n",
    "\n",
    "display(button, output)"
   ]
  },
  {
   "cell_type": "markdown",
   "metadata": {
    "jp-MarkdownHeadingCollapsed": true,
    "tags": []
   },
   "source": [
    "## Manage Verily Workbench group membership\n",
    "\n",
    "In order to view the members of a Verily Workbench group, you must be an owner of that group. Run the command below to view a list of the Verily Workbench groups in which you are a member. You should be a member of at least one group, specific to your organization, which will have the name `<ORGANIZATION>-users`."
   ]
  },
  {
   "cell_type": "markdown",
   "metadata": {
    "jp-MarkdownHeadingCollapsed": true,
    "tags": []
   },
   "source": [
    "## Delete your Verily Workbench group \n",
    "### [Note: Not recommended for groups in active use]\n",
    "\n",
    "In order to view the members of a Verily Workbench group, you must be an owner of that group. Run the command below to view a list of the Verily Workbench groups in which you are a member. You should be a member of at least one group, specific to your organization, which will have the name `<ORGANIZATION>-users`."
   ]
  },
  {
   "cell_type": "markdown",
   "metadata": {},
   "source": [
    "## Provenance\n",
    "\n",
    "Generate information about this notebook environment and the packages installed."
   ]
  },
  {
   "cell_type": "code",
   "execution_count": null,
   "metadata": {},
   "outputs": [],
   "source": [
    "!date"
   ]
  },
  {
   "cell_type": "markdown",
   "metadata": {},
   "source": [
    "Conda and pip installed packages:"
   ]
  },
  {
   "cell_type": "code",
   "execution_count": null,
   "metadata": {},
   "outputs": [],
   "source": [
    "!conda env export"
   ]
  },
  {
   "cell_type": "markdown",
   "metadata": {},
   "source": [
    "JupyterLab extensions:"
   ]
  },
  {
   "cell_type": "code",
   "execution_count": null,
   "metadata": {},
   "outputs": [],
   "source": [
    "!jupyter labextension list"
   ]
  },
  {
   "cell_type": "markdown",
   "metadata": {},
   "source": [
    "Number of cores:"
   ]
  },
  {
   "cell_type": "code",
   "execution_count": null,
   "metadata": {},
   "outputs": [],
   "source": [
    "!grep ^processor /proc/cpuinfo | wc -l"
   ]
  },
  {
   "cell_type": "markdown",
   "metadata": {},
   "source": [
    "Memory:"
   ]
  },
  {
   "cell_type": "code",
   "execution_count": null,
   "metadata": {},
   "outputs": [],
   "source": [
    "!grep \"^MemTotal:\" /proc/meminfo"
   ]
  },
  {
   "cell_type": "markdown",
   "metadata": {},
   "source": [
    "---\n",
    "Copyright 2022 Verily Life Sciences LLC\n",
    "\n",
    "Use of this source code is governed by a BSD-style   \n",
    "license that can be found in the LICENSE file or at   \n",
    "https://developers.google.com/open-source/licenses/bsd"
   ]
  }
 ],
 "metadata": {
  "environment": {
   "kernel": "python3",
   "name": "r-cpu.4-2.m107",
   "type": "gcloud",
   "uri": "gcr.io/deeplearning-platform-release/r-cpu.4-2:m107"
  },
  "kernelspec": {
   "display_name": "Python 3",
   "language": "python",
   "name": "python3"
  },
  "language_info": {
   "codemirror_mode": {
    "name": "ipython",
    "version": 3
   },
   "file_extension": ".py",
   "mimetype": "text/x-python",
   "name": "python",
   "nbconvert_exporter": "python",
   "pygments_lexer": "ipython3",
   "version": "3.7.12"
  }
 },
 "nbformat": 4,
 "nbformat_minor": 4
}
