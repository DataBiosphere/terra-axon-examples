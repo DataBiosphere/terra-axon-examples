{
 "cells": [
  {
   "cell_type": "markdown",
   "id": "6cebe274-d350-4864-9c36-bf7b5f2c11a5",
   "metadata": {},
   "source": [
    "# IGV example notebook\n",
    "\n",
    "This notebook shows an example of using the [Integrative Genomics Viewer](https://igv.org/doc/desktop/)'s [jupyter extension](https://pypi.org/project/igv-jupyter/) with some public data (GATK test data and the 1000 Genomes data)."
   ]
  },
  {
   "cell_type": "markdown",
   "id": "bdd29ebe-27d9-4261-ab18-582bef8bda8a",
   "metadata": {},
   "source": [
    "## Setup and configuration\n",
    "\n",
    "Install the necessary IGV libraries, then restart the kernel.\n",
    "You only need to run these installation commands once per notebook environment."
   ]
  },
  {
   "cell_type": "code",
   "execution_count": null,
   "id": "fc4da5a0-10dc-407a-8e86-cece445dee1b",
   "metadata": {},
   "outputs": [],
   "source": [
    "!pip install igv-jupyter\n",
    "!pip install igv-notebook==v0.3.1 "
   ]
  },
  {
   "cell_type": "markdown",
   "id": "acdd47e6-b39d-4198-a097-2224c748f23d",
   "metadata": {},
   "source": [
    "### Copy some data files to the local drive\n",
    "\n",
    "You only need to run these copy commands once per notebook environment.\n",
    "\n",
    "If you are running this notebook in the context of the \"IGV\" workspace, you can instead leverage the automounted GCS resources, and do not need to do the downloads."
   ]
  },
  {
   "cell_type": "code",
   "execution_count": null,
   "id": "cb484751-3ed3-4872-a101-c9ac89f80bd4",
   "metadata": {},
   "outputs": [],
   "source": [
    "!gsutil cp gs://gatk-test-data-terra-cordial-corn-7928/gatk-test-data/1kgp/downsampled_vcf_hg38/1kgp-50-exomes.vcf.gz ./1kgp-50-exomes.vcf.gz"
   ]
  },
  {
   "cell_type": "code",
   "execution_count": null,
   "id": "74043229-e6a5-4146-8b0c-cf0e430c9ed9",
   "metadata": {},
   "outputs": [],
   "source": [
    "!gsutil cp gs://gatk-test-data-terra-cordial-corn-7928/gatk-test-data/1kgp/downsampled_vcf_hg38/1kgp-50-exomes.vcf.gz.tbi ./1kgp-50-exomes.vcf.gz.tbi"
   ]
  },
  {
   "cell_type": "code",
   "execution_count": null,
   "id": "9fc4e97d-69d8-4a23-aa92-cec9df5e20ff",
   "metadata": {},
   "outputs": [],
   "source": [
    "!gsutil cp gs://genomics-public-data/ftp-trace.ncbi.nih.gov/1000genomes/ftp/phase3/data/HG00096/alignment/HG00096.chrom11.ILLUMINA.bwa.GBR.low_coverage.20120522.bam ./HG00096.chrom11.ILLUMINA.bwa.GBR.low_coverage.20120522.bam"
   ]
  },
  {
   "cell_type": "code",
   "execution_count": null,
   "id": "a0628661-96aa-4816-b441-47e0a9de1a72",
   "metadata": {},
   "outputs": [],
   "source": [
    "!gsutil cp gs://genomics-public-data/ftp-trace.ncbi.nih.gov/1000genomes/ftp/phase3/data/HG00096/alignment/HG00096.chrom11.ILLUMINA.bwa.GBR.low_coverage.20120522.bam.bai ./HG00096.chrom11.ILLUMINA.bwa.GBR.low_coverage.20120522.bam.bai"
   ]
  },
  {
   "cell_type": "code",
   "execution_count": null,
   "id": "687ae71e-c703-45c0-a66c-f0ce9026bc57",
   "metadata": {},
   "outputs": [],
   "source": [
    "import os\n",
    "import uuid\n",
    "import sys"
   ]
  },
  {
   "cell_type": "markdown",
   "id": "00326d66-e335-47d7-bd94-07823da475c1",
   "metadata": {},
   "source": [
    "Run the following cell once per notebook:"
   ]
  },
  {
   "cell_type": "code",
   "execution_count": null,
   "id": "82fe1e95-d21b-42cd-9fe4-43162c1695fd",
   "metadata": {},
   "outputs": [],
   "source": [
    "import igv_notebook\n",
    "igv_notebook.init()"
   ]
  },
  {
   "cell_type": "code",
   "execution_count": null,
   "id": "77b7a4be-3f1b-45a1-b4ef-ebf76a4e2bb9",
   "metadata": {},
   "outputs": [],
   "source": [
    "b = igv_notebook.Browser(\n",
    "    {\n",
    "        \"genome\": \"hg18\",\n",
    "        \"locus\": \"chr22\",\n",
    "        \"tracks\": [\n",
    "            {\n",
    "                \"url\": \"1kgp-50-exomes.vcf.gz\",\n",
    "                \"indexURL\": \"1kgp-50-exomes.vcf.gz.tbi\",\n",
    "                \"name\": \"Color by table, SVTYPE\",\n",
    "                \"visibilityWindow\": -1,\n",
    "                \"colorBy\": \"SVTYPE\",\n",
    "                \"colorTable\": {\n",
    "                    \"DEL\": \"#ff2101\",\n",
    "                    \"INS\": \"#001888\",\n",
    "                    \"DUP\": \"#028401\",\n",
    "                    \"INV\": \"#008688\",\n",
    "                    \"CNV\": \"#8931ff\",\n",
    "                    \"BND\": \"#891100\",\n",
    "                    \"*\": \"#002eff\"\n",
    "                }\n",
    "            }]\n",
    "    })"
   ]
  },
  {
   "cell_type": "markdown",
   "id": "26cf6235-ff50-40fe-ac3d-d3ecad0b41ac",
   "metadata": {},
   "source": [
    "If running in the context of the \"IGV\" workspace, use the fusemounted resource paths this time:"
   ]
  },
  {
   "cell_type": "code",
   "execution_count": null,
   "id": "6e0e26a3-e21f-4ec6-b698-f5901ed61ffd",
   "metadata": {},
   "outputs": [],
   "source": [
    "b = igv_notebook.Browser(\n",
    "    {\n",
    "        \"genome\": \"hg18\",\n",
    "        \"locus\": \"chr22\",\n",
    "        \"tracks\": [\n",
    "            {\n",
    "                \"url\": \"workspace/version1/downsampled_vcf_hg38/1kgp-50-exomes.vcf.gz\",\n",
    "                \"indexURL\": \"workspace/version1/downsampled_vcf_hg38/1kgp-50-exomes.vcf.gz.tbi\",\n",
    "                \"name\": \"Color by table, SVTYPE\",\n",
    "                \"visibilityWindow\": -1,\n",
    "                \"colorBy\": \"SVTYPE\",\n",
    "                \"colorTable\": {\n",
    "                    \"DEL\": \"#ff2101\",\n",
    "                    \"INS\": \"#001888\",\n",
    "                    \"DUP\": \"#028401\",\n",
    "                    \"INV\": \"#008688\",\n",
    "                    \"CNV\": \"#8931ff\",\n",
    "                    \"BND\": \"#891100\",\n",
    "                    \"*\": \"#002eff\"\n",
    "                }\n",
    "            }]\n",
    "    })"
   ]
  },
  {
   "cell_type": "code",
   "execution_count": null,
   "id": "3f021271-54f4-4210-8ad1-e8ac55cb6df4",
   "metadata": {},
   "outputs": [],
   "source": [
    "import igv_notebook\n",
    "\n",
    "igv_notebook.init()\n",
    "\n",
    "b = igv_notebook.Browser(\n",
    "    {\n",
    "        \"genome\": \"hg18\",\n",
    "        \"locus\": \"chr22\",\n",
    "        \"tracks\": [\n",
    "            {\n",
    "                \"url\": \"1kgp-50-exomes.vcf.gz\",\n",
    "                \"indexURL\": \"1kgp-50-exomes.vcf.gz.tbi\",\n",
    "                \"name\": \"Color by ALT\",\n",
    "                \"colorBy\": \"ALT\",\n",
    "                \"colorTable\": {\n",
    "                    \"<DEL>\": \"#ff2101\",\n",
    "                    \"<INS>\": \"#001888\",\n",
    "                    \"<DUP>\": \"#028401\",\n",
    "                    \"<INV>\": \"#008688\",\n",
    "                    \"<CNV>\": \"#8931ff\",\n",
    "                    \"<BND>\": \"#891100\",\n",
    "                    \"*\": \"#002eff\"\n",
    "                },\n",
    "                \"visibilityWindow\": -1\n",
    "            }]\n",
    "    })"
   ]
  },
  {
   "cell_type": "markdown",
   "id": "6610bf4c-de0a-478e-b736-8112b6175d53",
   "metadata": {},
   "source": [
    "use the fusemounted resource paths:"
   ]
  },
  {
   "cell_type": "code",
   "execution_count": null,
   "id": "f5ed5061-3ad1-4648-bb5a-2ba516cf12ee",
   "metadata": {},
   "outputs": [],
   "source": [
    "import igv_notebook\n",
    "\n",
    "igv_notebook.init()\n",
    "\n",
    "b = igv_notebook.Browser(\n",
    "    {\n",
    "        \"genome\": \"hg18\",\n",
    "        \"locus\": \"chr22\",\n",
    "        \"tracks\": [\n",
    "            {\n",
    "                \"url\": \"workspace/version1/downsampled_vcf_hg38/1kgp-50-exomes.vcf.gz\",\n",
    "                \"indexURL\": \"workspace/version1/downsampled_vcf_hg38/1kgp-50-exomes.vcf.gz.tbi\",\n",
    "                \"name\": \"Color by ALT\",\n",
    "                \"colorBy\": \"ALT\",\n",
    "                \"colorTable\": {\n",
    "                    \"<DEL>\": \"#ff2101\",\n",
    "                    \"<INS>\": \"#001888\",\n",
    "                    \"<DUP>\": \"#028401\",\n",
    "                    \"<INV>\": \"#008688\",\n",
    "                    \"<CNV>\": \"#8931ff\",\n",
    "                    \"<BND>\": \"#891100\",\n",
    "                    \"*\": \"#002eff\"\n",
    "                },\n",
    "                \"visibilityWindow\": -1\n",
    "            }]\n",
    "    })"
   ]
  },
  {
   "cell_type": "code",
   "execution_count": null,
   "id": "1cd11ed1-c43d-4c8b-b72f-0082cf247a0e",
   "metadata": {},
   "outputs": [],
   "source": [
    "import igv_notebook\n",
    "\n",
    "igv_notebook.init()\n",
    "\n",
    "b = igv_notebook.Browser(\n",
    "    {\n",
    "        \"genome\": \"hg18\",\n",
    "        \"locus\": \"chr22:24,376,166-24,376,456\",\n",
    "        \"tracks\": [\n",
    "            {\n",
    "                \"name\": \"BAM\",\n",
    "                \"url\": \"HG00096.chrom11.ILLUMINA.bwa.GBR.low_coverage.20120522.bam\",\n",
    "                \"indexURL\": \"HG00096.chrom11.ILLUMINA.bwa.GBR.low_coverage.20120522.bam.bai\",\n",
    "                \"format\": \"bam\",\n",
    "                \"type\": \"alignment\"\n",
    "            }\n",
    "        ]\n",
    "    })\n",
    "\n",
    "\n",
    "b.zoom_in()"
   ]
  },
  {
   "cell_type": "markdown",
   "id": "c141dcf5-7c42-403c-bede-0063befb813b",
   "metadata": {},
   "source": [
    "Using the fusemounted resource paths:"
   ]
  },
  {
   "cell_type": "code",
   "execution_count": null,
   "id": "2de06837-9d17-4553-9e21-92c2bbc97e88",
   "metadata": {},
   "outputs": [],
   "source": [
    "import igv_notebook\n",
    "\n",
    "igv_notebook.init()\n",
    "\n",
    "b = igv_notebook.Browser(\n",
    "    {\n",
    "        \"genome\": \"hg18\",\n",
    "        \"locus\": \"chr22:24,376,166-24,376,456\",\n",
    "        \"tracks\": [\n",
    "            {\n",
    "                \"name\": \"BAM\",\n",
    "                \"url\": \"workspace/version1/HG00096_alignment/HG00096.chrom11.ILLUMINA.bwa.GBR.low_coverage.20120522.bam\",\n",
    "                \"indexURL\": \"workspace/version1/HG00096_alignment/HG00096.chrom11.ILLUMINA.bwa.GBR.low_coverage.20120522.bam.bai\",\n",
    "                \"format\": \"bam\",\n",
    "                \"type\": \"alignment\"\n",
    "            }\n",
    "        ]\n",
    "    })\n",
    "\n",
    "\n",
    "b.zoom_in()"
   ]
  },
  {
   "cell_type": "markdown",
   "id": "f275038e-bde7-40ab-a37c-e9fbc3991c06",
   "metadata": {},
   "source": []
  }
 ],
 "metadata": {
  "environment": {
   "kernel": "python3",
   "name": "tf2-cpu.2-11.m109",
   "type": "gcloud",
   "uri": "gcr.io/deeplearning-platform-release/tf2-cpu.2-11:m109"
  },
  "kernelspec": {
   "display_name": "Python 3",
   "language": "python",
   "name": "python3"
  },
  "language_info": {
   "codemirror_mode": {
    "name": "ipython",
    "version": 3
   },
   "file_extension": ".py",
   "mimetype": "text/x-python",
   "name": "python",
   "nbconvert_exporter": "python",
   "pygments_lexer": "ipython3",
   "version": "3.7.12"
  }
 },
 "nbformat": 4,
 "nbformat_minor": 5
}
