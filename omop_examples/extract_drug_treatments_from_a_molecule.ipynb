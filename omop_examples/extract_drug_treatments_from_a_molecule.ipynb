{
 "cells": [
  {
   "cell_type": "markdown",
   "id": "d4753f46-ea81-471e-9cfb-fdab151e6267",
   "metadata": {
    "tags": []
   },
   "source": [
    "# CMS SynPuf: How to extract drug treatments containing a specific molecule\n",
    "\n",
    "This notebook queries the [CMS SynPuf dataset](https://console.cloud.google.com/marketplace/product/hhs/synpuf?pli=1), a public synthetic patient data in OMOP. This notebook is intended to be used as an example for how to query the public OMOP dataset, and how to do basic visualizations.\n",
    "\n",
    "> If you are **previewing** this notebook from Verily Workbench, please create a cloud environment and look for this file in the `repos/terra-axon-examples/omop_examples/` directory. Instructions for creating a cloud environment are available in the workspace description."
   ]
  },
  {
   "cell_type": "markdown",
   "id": "7f8336bd-793c-4cba-9217-0927e1b16f87",
   "metadata": {},
   "source": [
    "## Import python libraries"
   ]
  },
  {
   "cell_type": "code",
   "execution_count": null,
   "id": "71671891-b357-4b3d-9af1-1b5a67a1f340",
   "metadata": {},
   "outputs": [],
   "source": [
    "import pandas as pd\n",
    "from google.cloud import bigquery\n",
    "\n",
    "# Enable IPython to display matplotlib graphs.\n",
    "import matplotlib.pyplot as plt\n",
    "%matplotlib inline"
   ]
  },
  {
   "cell_type": "markdown",
   "id": "ab938992-40b0-4fee-976a-150665bb0903",
   "metadata": {},
   "source": [
    "## Notebook setup"
   ]
  },
  {
   "cell_type": "code",
   "execution_count": null,
   "id": "3725ee38-87f0-408d-bb14-6a027ab7409f",
   "metadata": {},
   "outputs": [],
   "source": [
    "'''\n",
    "Resolves BQ dataset from reference in workspace.\n",
    "'''\n",
    "def get_bq_dataset_from_reference(resource_name):\n",
    "    BQ_CMD_OUTPUT = !terra resolve --name={resource_name}\n",
    "    BQ_DATASET = BQ_CMD_OUTPUT[0]\n",
    "    return BQ_DATASET"
   ]
  },
  {
   "cell_type": "markdown",
   "id": "642ed933-7ff9-455e-ab8c-795ed34c6d6c",
   "metadata": {},
   "source": [
    "## Connect to the BQ database"
   ]
  },
  {
   "cell_type": "code",
   "execution_count": null,
   "id": "6805ba9d-82a9-4598-8279-2a5d60667d48",
   "metadata": {},
   "outputs": [],
   "source": [
    "# The following line resolves the workspace resource named cms_synthetic_patient_data_omop. \n",
    "BQ_dataset = get_bq_dataset_from_reference('cms_synthetic_patient_data_omop')\n",
    "# The above line will fail if you don't have this resource in your workspace.\n",
    "\n",
    "# If that is the case, you can hard code the BQ_dataset instead by uncommenting the following line. \n",
    "# BQ_dataset = 'bigquery-public-data.cms_synthetic_patient_data_omop'"
   ]
  },
  {
   "cell_type": "code",
   "execution_count": null,
   "id": "e04796e5-b48a-46f5-a952-d9d0fefde5b3",
   "metadata": {},
   "outputs": [],
   "source": [
    "job_query_config = bigquery.QueryJobConfig(default_dataset=BQ_dataset)\n",
    "client = bigquery.Client(default_query_job_config=job_query_config)"
   ]
  },
  {
   "cell_type": "markdown",
   "id": "c59ab9e0-9cb4-4dc3-9118-cd12aaf42518",
   "metadata": {},
   "source": [
    "## Example for medications containing Quinapril"
   ]
  },
  {
   "cell_type": "markdown",
   "id": "55c223d1-6706-42c6-b1ab-a8d31329597e",
   "metadata": {},
   "source": [
    "The purpose of this example is to calculate the number of participants who were treated with drugs containing\n",
    "the Quinapril molecule, a Beta Blocker.\n",
    "As a starting point for this study, we need to find the RxCUI code of the Quinapril molecule with the [RxNav tool](https://mor.nlm.nih.gov/RxNav/) (https://mor.nlm.nih.gov/RxNav/search?searchBy=String&searchTerm=quinapril):\n",
    "- Quinapril RxCUI: `35208`\n",
    "\n",
    "For this purpose, it is necessary to perform the following steps:\n",
    "1. **Converting the RxCUI code of Quinapril molecule to concept ID**:\n",
    "This step consists of finding the concept ID associated with the `35208` RxCUI code. To do this, we will use the `concept` table of the OMOP vocabulary and the `concept_code` equal to the RxCUI code for the `vocabulary_id` equal to \"RxNorm\". See the CTE `quinapril_RxNorm_concept_id` in the SQL query below.\n",
    "\n",
    "2. **Find the drug standard concept IDs**:\n",
    "Drugs are coded with a standard concept ID (corresponding to a RxNorm code). Therefore, We need to find the concept IDs linked to drugs containing the Quinapril molecule. The CTE `medications_with_quinapril` in the SQL query below consists of extracting all the descendants of the ingredient concept ID from step 1, which are all the drugs containing the Metropol ingredient.\n",
    "\n",
    "3. **Find all drug concept IDs**:\n",
    "Because some of the drugs may be coded using non-standard concept IDs, we recommend mapping the standard concept IDs identified in step 2 to obtain a comprehensive set of relevant concept IDs. This mapping is performed using the concept_relationship table of the OMOP vocabulary, where concept_id_2 is the standard concept ID(s) identified in step 1, and the relationship_id is 'Maps to'. See the CTE `all_medications_with_quinapril` in the SQL query below.\n",
    "\n",
    "4. **Calculate the number of participants who were treated with Quinapril**:\n",
    "The next step is to extract and count the participants with at least one Quinapril drug exposure. We will use the `drug_exposure` table and filter only the drugs coded with a `drug_concept_id` corresponding to a concept ID of the previously extracted list. See the CTE `nb_of_participants_treated_with_quinapril` in the SQL query below.\n",
    "\n",
    "5. **Calculate the percentage of participants who were treated with Quinapril**:\n",
    "Finally, the last step is to calculate the percentage who were treated with Quinapril out of the total number of participants. We will use the number of participants in the `person` table and calculate the percentage. See the CTE `nb_total_of_participants` in the SQL query below."
   ]
  },
  {
   "cell_type": "code",
   "execution_count": null,
   "id": "49fc6862-6ce9-4b29-a214-127747923aef",
   "metadata": {},
   "outputs": [],
   "source": [
    "query = \"\"\"\n",
    "    WITH quinapril_RxNorm_concept_id AS (\n",
    "        SELECT \n",
    "            concept_id\n",
    "        FROM\n",
    "            `concept`\n",
    "        WHERE\n",
    "            concept_code = \"35208\"\n",
    "            AND vocabulary_id = \"RxNorm\"\n",
    "    ),\n",
    "    medications_with_quinapril AS (\n",
    "        SELECT\n",
    "            ancestor.descendant_concept_id AS concept_id\n",
    "        FROM\n",
    "            `concept_ancestor` AS ancestor\n",
    "        INNER JOIN\n",
    "            quinapril_RxNorm_concept_id AS quinapril\n",
    "        ON\n",
    "            ancestor.ancestor_concept_id = quinapril.concept_id\n",
    "        INNER JOIN\n",
    "            `concept` AS concept\n",
    "        ON\n",
    "            ancestor.descendant_concept_id = concept.concept_id\n",
    "        WHERE\n",
    "            concept.standard_concept = 'S'\n",
    "    ),\n",
    "    all_medications_with_quinapril AS (\n",
    "        SELECT\n",
    "            DISTINCT concept_id\n",
    "        FROM (\n",
    "            SELECT\n",
    "                *\n",
    "            FROM\n",
    "                medications_with_quinapril\n",
    "        ) UNION ALL (\n",
    "            SELECT\n",
    "                concept_id_1 AS concept_id\n",
    "            FROM\n",
    "                `concept_relationship`\n",
    "            WHERE\n",
    "                relationship_id = 'Maps to' \n",
    "                AND concept_id_2 IN (\n",
    "                    SELECT\n",
    "                        concept_id\n",
    "                    FROM\n",
    "                        medications_with_quinapril\n",
    "                )\n",
    "        )\n",
    "    ),\n",
    "    nb_of_participants_treated_with_quinapril AS (\n",
    "        SELECT\n",
    "            COUNT(DISTINCT person_id) AS nb_of_participants_with_quinapril\n",
    "        FROM\n",
    "            `drug_exposure`\n",
    "        INNER JOIN \n",
    "            all_medications_with_quinapril\n",
    "        ON\n",
    "            drug_concept_id = concept_id\n",
    "    ),\n",
    "    nb_total_of_participants AS (\n",
    "        SELECT\n",
    "            COUNT(DISTINCT person_id) AS nb_of_participants\n",
    "        FROM\n",
    "            `person`\n",
    "    )\n",
    "    SELECT\n",
    "        100*nb_of_participants_with_quinapril/nb_of_participants AS with_quinapril,\n",
    "        100-(100*nb_of_participants_with_quinapril/nb_of_participants) AS without_quinapril,\n",
    "    FROM\n",
    "        nb_total_of_participants,\n",
    "        nb_of_participants_treated_with_quinapril\n",
    "\"\"\""
   ]
  },
  {
   "cell_type": "markdown",
   "id": "af2c22ac-5448-4465-b0e5-6a2d90b9df2b",
   "metadata": {},
   "source": [
    "# Execute query\n",
    "The below code will send a request to BigQuery to execute the query. The results will be stored in a Pandas dataframe."
   ]
  },
  {
   "cell_type": "code",
   "execution_count": null,
   "id": "09c4b5e6-0629-41ee-8433-26f203ea8941",
   "metadata": {},
   "outputs": [],
   "source": [
    "df = client.query(query).result().to_dataframe()\n",
    "df"
   ]
  },
  {
   "cell_type": "markdown",
   "id": "977f7a1a-4335-43f0-b61b-e19d9342b12e",
   "metadata": {},
   "source": [
    "# Plot visualization\n",
    "The below code uses matplotlib to plot a simple histogram of the results."
   ]
  },
  {
   "cell_type": "code",
   "execution_count": null,
   "id": "8581cafd-df77-4c6f-a0da-de32ca4d836a",
   "metadata": {},
   "outputs": [],
   "source": [
    "ax = df.transpose().plot.pie(y=0, autopct='%.2f%%', title='Percentage of participants who were treated with Quinapril', ylabel='', legend=False)\n",
    "plt.show()"
   ]
  }
 ],
 "metadata": {
  "environment": {
   "kernel": "python3",
   "name": "r-cpu.4-2.m109",
   "type": "gcloud",
   "uri": "gcr.io/deeplearning-platform-release/r-cpu.4-2:m109"
  },
  "kernelspec": {
   "display_name": "Python 3",
   "language": "python",
   "name": "python3"
  },
  "language_info": {
   "codemirror_mode": {
    "name": "ipython",
    "version": 3
   },
   "file_extension": ".py",
   "mimetype": "text/x-python",
   "name": "python",
   "nbconvert_exporter": "python",
   "pygments_lexer": "ipython3",
   "version": "3.7.12"
  }
 },
 "nbformat": 4,
 "nbformat_minor": 5
}
