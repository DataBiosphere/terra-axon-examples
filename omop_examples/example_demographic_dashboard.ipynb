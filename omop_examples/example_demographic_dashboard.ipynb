{
 "cells": [
  {
   "cell_type": "markdown",
   "id": "68278f5d-5780-4c93-94b6-76a731316856",
   "metadata": {},
   "source": [
    "# CMS SynPuf: Example demographics dashboard\n",
    "\n",
    "This notebook queries the [CMS SynPuf dataset](https://console.cloud.google.com/marketplace/product/hhs/synpuf?pli=1), a public synthetic patient data in OMOP. This notebook is intended to be used as an example for how to query the public OMOP dataset, and how to do create an example dashboard.\n",
    "\n",
    "> If you are **previewing** this notebook from Verily Workbench, please create a cloud environment and look for this file in the `~/repos/terra-axon-examples/omop_examples/` directory. Instructions for creating a cloud environment are available in the workspace description."
   ]
  },
  {
   "cell_type": "markdown",
   "id": "51a23daf-f359-4201-b7a4-29a2f26baea2",
   "metadata": {},
   "source": [
    "## Import python libraries"
   ]
  },
  {
   "cell_type": "code",
   "execution_count": null,
   "id": "26266091-0bad-40ec-b4d2-6808fd005af8",
   "metadata": {},
   "outputs": [],
   "source": [
    "import pandas as pd\n",
    "from google.cloud import bigquery\n",
    "\n",
    "import numpy as np \n",
    "import seaborn as sns \n",
    "import matplotlib.pyplot as plt \n",
    "from ipywidgets import interact, interactive, fixed, interact_manual\n",
    "import ipywidgets as widgets"
   ]
  },
  {
   "cell_type": "markdown",
   "id": "f3204b73-c11e-488b-8aee-e1d8d37f3265",
   "metadata": {},
   "source": [
    "## Notebook setup"
   ]
  },
  {
   "cell_type": "code",
   "execution_count": null,
   "id": "35e784eb-9f19-40e3-98c4-2246c144cc30",
   "metadata": {},
   "outputs": [],
   "source": [
    "'''\n",
    "Resolves BQ dataset from reference in workspace.\n",
    "'''\n",
    "def get_bq_dataset_from_reference(resource_name):\n",
    "    BQ_CMD_OUTPUT = !terra resolve --name={resource_name}\n",
    "    BQ_DATASET = BQ_CMD_OUTPUT[0]\n",
    "    return BQ_DATASET"
   ]
  },
  {
   "cell_type": "markdown",
   "id": "b0ea2b18-2d2e-40be-9be5-a27b512e48b4",
   "metadata": {},
   "source": [
    "## Connect to the BQ database"
   ]
  },
  {
   "cell_type": "code",
   "execution_count": null,
   "id": "f32444d9-b66a-48d9-ad78-727315c7bb12",
   "metadata": {},
   "outputs": [],
   "source": [
    "# The following line resolves the workspace resource named cms_synthetic_patient_data_omop. \n",
    "BQ_dataset = get_bq_dataset_from_reference('cms_synthetic_patient_data_omop')\n",
    "# The above line will fail if you don't have this resource in your workspace.\n",
    "\n",
    "# If that is the case, you can hard code the BQ_dataset instead by uncommenting the following line. \n",
    "# BQ_dataset = 'bigquery-public-data.cms_synthetic_patient_data_omop'"
   ]
  },
  {
   "cell_type": "code",
   "execution_count": null,
   "id": "2cac6d65-e162-4fca-b6fc-0ad36f730ed3",
   "metadata": {},
   "outputs": [],
   "source": [
    "job_query_config = bigquery.QueryJobConfig(default_dataset=BQ_dataset)\n",
    "client = bigquery.Client(default_query_job_config=job_query_config)"
   ]
  },
  {
   "cell_type": "markdown",
   "id": "16c68fdb-1b20-4e52-85ab-5c859d065a91",
   "metadata": {},
   "source": [
    "# Execute queries\n",
    "The below code will send a request to BigQuery to execute the query. The results will be stored in a Pandas dataframe."
   ]
  },
  {
   "cell_type": "code",
   "execution_count": null,
   "id": "5a254944-d4e0-4b63-9c86-01149e426433",
   "metadata": {},
   "outputs": [],
   "source": [
    "race_concept_query = \"\"\"\n",
    "SELECT concept_id as race_concept_id, concept_name as race FROM `concept` where domain_id = \"Race\"\n",
    "\"\"\"\n",
    "race_concept_df = client.query(race_concept_query).result().to_dataframe()\n",
    "race_concept_df.head(5)"
   ]
  },
  {
   "cell_type": "code",
   "execution_count": null,
   "id": "1a12e0e0-58a3-43e7-b0a6-9bba7bdc8230",
   "metadata": {},
   "outputs": [],
   "source": [
    "gender_concept_query = \"\"\"\n",
    "SELECT concept_id as gender_concept_id, concept_name as gender FROM `concept` where domain_id = \"Gender\"\n",
    "\"\"\"\n",
    "gender_concept_df = client.query(gender_concept_query).result().to_dataframe()\n",
    "gender_concept_df.head(5)"
   ]
  },
  {
   "cell_type": "code",
   "execution_count": null,
   "id": "3658d3f9-ab44-458f-948e-58e175a338fc",
   "metadata": {},
   "outputs": [],
   "source": [
    "people_query = \"\"\"\n",
    "SELECT \n",
    "  person_id,\n",
    "  race_concept_id,\n",
    "  gender_concept_id,\n",
    "  year_of_birth,\n",
    "  month_of_birth\n",
    "FROM \n",
    "  `person`\n",
    "WHERE RAND() < 10000/2326856\n",
    "\"\"\"\n",
    "\n",
    "cms_syn_df = client.query(people_query).result().to_dataframe()\n",
    "cms_syn_df.head(5)"
   ]
  },
  {
   "cell_type": "code",
   "execution_count": null,
   "id": "b48a7001-252f-4571-a68f-1ad1385327be",
   "metadata": {},
   "outputs": [],
   "source": [
    "merged_df = pd.merge(cms_syn_df, race_concept_df, on=\"race_concept_id\")\n",
    "merged_df = pd.merge(merged_df, gender_concept_df, on=\"gender_concept_id\")\n",
    "merged_df.head(5)"
   ]
  },
  {
   "cell_type": "markdown",
   "id": "21f81ad6-f877-4097-a727-dcd480abba43",
   "metadata": {},
   "source": [
    "# Build example interactive dashboard"
   ]
  },
  {
   "cell_type": "code",
   "execution_count": null,
   "id": "40d49097-182f-4f09-8ac6-698b0d0cf1ca",
   "metadata": {},
   "outputs": [],
   "source": [
    "def plot_histogram(bins = 10, hue = 'race', palette = 'Blues', x_range_1 = (1900,2000)): \n",
    "    plt.figure(dpi = 120)\n",
    "    sns.histplot(data = merged_df, \n",
    "                        x = 'year_of_birth',\n",
    "                        palette=palette, \n",
    "                        bins = bins, \n",
    "                        hue = hue,\n",
    "                       )\n",
    "    plt.xlim(x_range_1)"
   ]
  },
  {
   "cell_type": "code",
   "execution_count": null,
   "id": "90beea2d-99c8-4832-b988-25508db5d3d6",
   "metadata": {},
   "outputs": [],
   "source": [
    "_ = interact(\n",
    "    plot_histogram,\n",
    "    palette = widgets.Dropdown(\n",
    "        options = ['pastel','husl','Set2','flare','crest','magma','icefire']\n",
    "    ),\n",
    "    hue = widgets.ToggleButtons(\n",
    "        options = ['race','gender'],\n",
    "        disabled = False,\n",
    "        button_style = 'success'\n",
    "    ),\n",
    "    bins = widgets.IntSlider(\n",
    "        value = 10,\n",
    "        min = 3,\n",
    "        max = 15,\n",
    "        step = 1\n",
    "    ),\n",
    "    x_range_1 = widgets.IntRangeSlider(\n",
    "        value = [1900,2000], \n",
    "        min = 1900,\n",
    "        max = 2000,\n",
    "    ),\n",
    ")"
   ]
  },
  {
   "cell_type": "markdown",
   "id": "c9039736-2cc4-4cac-a72d-397f18d1003c",
   "metadata": {
    "tags": []
   },
   "source": [
    "## Provenance\n",
    "\n",
    "Generate information about this notebook environment and the packages installed."
   ]
  },
  {
   "cell_type": "code",
   "execution_count": null,
   "id": "f212d292-92bd-4114-a4c1-8244a1e2ac4a",
   "metadata": {},
   "outputs": [],
   "source": [
    "!date"
   ]
  },
  {
   "cell_type": "markdown",
   "id": "aa4e01b3-ce8f-4753-9f21-c323c03f1544",
   "metadata": {},
   "source": [
    "Conda and pip installed packages:\n"
   ]
  },
  {
   "cell_type": "code",
   "execution_count": null,
   "id": "cbfd38cf-54bb-4f09-8df3-ffb9b085bec2",
   "metadata": {},
   "outputs": [],
   "source": [
    "!conda env export"
   ]
  },
  {
   "cell_type": "markdown",
   "id": "2bcacbcf-7a9d-4be8-866c-1feb70bf5b21",
   "metadata": {},
   "source": [
    "JupyterLab extensions:"
   ]
  },
  {
   "cell_type": "code",
   "execution_count": null,
   "id": "c36071f4-c7f1-4d87-814b-ecb6a78fbad6",
   "metadata": {},
   "outputs": [],
   "source": [
    "!jupyter labextension list"
   ]
  },
  {
   "cell_type": "markdown",
   "id": "47f99f88-c63a-4bdf-88b6-b38ee6e0ef37",
   "metadata": {},
   "source": [
    "Number of cores:"
   ]
  },
  {
   "cell_type": "code",
   "execution_count": null,
   "id": "28ea5586-d2b3-4d55-9f62-578211bc503e",
   "metadata": {},
   "outputs": [],
   "source": [
    "!grep ^processor /proc/cpuinfo | wc -l"
   ]
  },
  {
   "cell_type": "markdown",
   "id": "d6b03a55-8b1b-4d27-8522-15dcd4f3ad1b",
   "metadata": {},
   "source": [
    "Memory:"
   ]
  },
  {
   "cell_type": "code",
   "execution_count": null,
   "id": "6c3ca1be-7ffb-4f9f-a956-9ce3e536ffce",
   "metadata": {},
   "outputs": [],
   "source": [
    "!grep \"^MemTotal:\" /proc/meminfo"
   ]
  },
  {
   "cell_type": "markdown",
   "id": "ae7a13fe-fb73-4066-a069-8bda2da055e7",
   "metadata": {},
   "source": [
    "---\n",
    "\n",
    "Copyright 2023 Verily Life Sciences LLC\n",
    "\n",
    "Use of this source code is governed by a BSD-style  \n",
    "license that can be found in the LICENSE file or at  \n",
    "https://developers.google.com/open-source/licenses/bsd\n"
   ]
  }
 ],
 "metadata": {
  "environment": {
   "kernel": "python3",
   "name": "r-cpu.4-2.m109",
   "type": "gcloud",
   "uri": "gcr.io/deeplearning-platform-release/r-cpu.4-2:m109"
  },
  "kernelspec": {
   "display_name": "Python 3",
   "language": "python",
   "name": "python3"
  },
  "language_info": {
   "codemirror_mode": {
    "name": "ipython",
    "version": 3
   },
   "file_extension": ".py",
   "mimetype": "text/x-python",
   "name": "python",
   "nbconvert_exporter": "python",
   "pygments_lexer": "ipython3",
   "version": "3.7.12"
  }
 },
 "nbformat": 4,
 "nbformat_minor": 5
}
