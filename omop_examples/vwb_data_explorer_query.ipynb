{
 "cells": [
  {
   "cell_type": "markdown",
   "id": "6ad95a4d-35bd-41b0-91df-686e59bb0b99",
   "metadata": {},
   "source": [
    "# Execute VWB Data Explorer queries\n",
    "\n",
    "This notebook is intended to be a guide on how to view and further analyze cohorts built from [VWB Data Explorer](https://tanagra-dev.api.verily.com/#/underlays/cms_synpuf).\n",
    "\n",
    "This notebook guides you through:\n",
    "  1. Run a cohort query in BigQuery and save the results to a dataframe.\n",
    "  2. Display simple visualizations on the resulting data.\n",
    "  3. View exported VWB Data Explorer files in a dataframe.\n",
    "  \n",
    "> If you are **previewing** this notebook from Verily Workbench, please create a cloud environment and look for this file in the `repos/terra-axon-examples/omop_examples/` directory. Instructions for creating a cloud environment are available in the workspace description."
   ]
  },
  {
   "cell_type": "code",
   "execution_count": null,
   "id": "e5307130-433b-4199-aa6f-f34a7897eead",
   "metadata": {},
   "outputs": [],
   "source": [
    "import pandas as pd\n",
    "import os\n",
    "from google.cloud import bigquery\n",
    "\n",
    "# Enable IPython to display matplotlib graphs.\n",
    "import matplotlib.pyplot as plt\n",
    "%matplotlib inline"
   ]
  },
  {
   "cell_type": "markdown",
   "id": "712b2061-dd5b-4632-b9cf-aa739b87230a",
   "metadata": {},
   "source": [
    "## Copy and paste query from VWB Data Explorer below"
   ]
  },
  {
   "cell_type": "code",
   "execution_count": null,
   "id": "cb168746-2ee0-4e64-a94d-c45a4cc30b84",
   "metadata": {},
   "outputs": [],
   "source": [
    "query = \"\"\"\n",
    "\n",
    "\"\"\""
   ]
  },
  {
   "cell_type": "code",
   "execution_count": null,
   "id": "23ef807f-b742-45a8-bc0e-853e8be156c5",
   "metadata": {},
   "outputs": [],
   "source": [
    "job_query_config = bigquery.QueryJobConfig()\n",
    "client = bigquery.Client()"
   ]
  },
  {
   "cell_type": "code",
   "execution_count": null,
   "id": "652c0abc-d99f-46a4-9691-f893d8b2c14d",
   "metadata": {},
   "outputs": [],
   "source": [
    "df = client.query(query).result().to_dataframe()\n",
    "df"
   ]
  },
  {
   "cell_type": "markdown",
   "id": "ac5fe62b-5727-4507-a84a-6b31f7b4a788",
   "metadata": {},
   "source": [
    "## Display visualizations\n",
    "\n",
    "Now that the results are stored in a dataframe, we can use libraries like pandas and matplotlib to display visualizations.\n",
    "\n",
    "Provided are histogram examples."
   ]
  },
  {
   "cell_type": "code",
   "execution_count": null,
   "id": "f2a7aeef-6251-4b3b-b9fe-bf980ebcef61",
   "metadata": {},
   "outputs": [],
   "source": [
    "df.t_display_gender.value_counts().plot(kind='bar')"
   ]
  },
  {
   "cell_type": "code",
   "execution_count": null,
   "id": "09d0a821-d0d7-4304-96e1-32467c56abbb",
   "metadata": {},
   "outputs": [],
   "source": [
    "df.t_display_ethnicity.value_counts().plot(kind='bar')"
   ]
  },
  {
   "cell_type": "markdown",
   "id": "b98ed3ff-1f25-433e-816d-dffaac30ddf7",
   "metadata": {},
   "source": [
    "## View exported VWB Data Explorer files\n",
    "1. Replace the BUCKET_NAME variable with the name of the bucket contaning the exports.\n",
    "4. Run the code."
   ]
  },
  {
   "cell_type": "code",
   "execution_count": null,
   "id": "84b18669-41f0-41a7-9413-e4faff3230cc",
   "metadata": {},
   "outputs": [],
   "source": [
    "BUCKET_NAME = \"??\""
   ]
  },
  {
   "cell_type": "code",
   "execution_count": null,
   "id": "3ef49368-7206-4bec-b6e3-6fe8e0e1594a",
   "metadata": {},
   "outputs": [],
   "source": [
    "def find_first_csv_string(strings_list):\n",
    "    for string in strings_list:\n",
    "        if string.endswith(\".csv\"):\n",
    "            return string\n",
    "    return None\n",
    "\n",
    "terra_resource_output = !terra resource resolve --name={BUCKET_NAME}\n",
    "gcs_bucket = terra_resource_output[0]\n",
    "gcs_path = f\"{gcs_bucket}/storage.googleapis.com/verily-tanagra-dev-export-bucket/\"\n",
    "filelist = !gsutil ls {gcs_path}\n",
    "csv_full_path = find_first_csv_string(filelist)\n",
    "!gsutil cp {csv_full_path} .\n",
    "csv_filename = os.path.basename(csv_full_path)\n",
    "csv_filename"
   ]
  },
  {
   "cell_type": "code",
   "execution_count": null,
   "id": "2d90b375-bc56-4bc1-a2df-cfbb3cda4720",
   "metadata": {},
   "outputs": [],
   "source": [
    "csv_df = pd.read_csv(csv_filename)\n",
    "csv_df"
   ]
  },
  {
   "cell_type": "code",
   "execution_count": null,
   "id": "b070e9e4-3f44-425e-b207-cc4ff8b78d5a",
   "metadata": {},
   "outputs": [],
   "source": []
  }
 ],
 "metadata": {
  "environment": {
   "kernel": "python3",
   "name": "r-cpu.4-2.m109",
   "type": "gcloud",
   "uri": "gcr.io/deeplearning-platform-release/r-cpu.4-2:m109"
  },
  "kernelspec": {
   "display_name": "Python 3",
   "language": "python",
   "name": "python3"
  },
  "language_info": {
   "codemirror_mode": {
    "name": "ipython",
    "version": 3
   },
   "file_extension": ".py",
   "mimetype": "text/x-python",
   "name": "python",
   "nbconvert_exporter": "python",
   "pygments_lexer": "ipython3",
   "version": "3.7.12"
  }
 },
 "nbformat": 4,
 "nbformat_minor": 5
}
