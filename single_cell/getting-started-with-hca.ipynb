{
 "cells": [
  {
   "cell_type": "markdown",
   "id": "hawaiian-chassis",
   "metadata": {},
   "source": [
    "# Getting Started with the Human Cell Atlas\n",
    "\n",
    "## Overview\n",
    "\n",
    "[Human Cell Atlas (HCA)](https://humancellatlas.org) data is organized into \"Projects\" which can be discovered through the Catalog. You can interactively [browse the Catalog](https://data.humancellatlas.org/explore/projects) or access it via the public [Data Browser API](https://data.humancellatlas.org/apis/api-documentation/data-browser-api).\n",
    "\n",
    "This notebook demonstrates how to:\n",
    "\n",
    "- access the Catalog\n",
    "- access metadata for a Project\n",
    "- download the data for a Project\n",
    "\n",
    "Examples illustrated in this notebook are based on [examples](https://github.com/DataBiosphere/azul/blob/prod/docs/) in the [Azul](https://github.com/DataBiosphere/azul) repository."
   ]
  },
  {
   "cell_type": "markdown",
   "id": "incorporated-economy",
   "metadata": {
    "tags": []
   },
   "source": [
    "## Setup\n",
    "\n",
    "Run the cell below to set up libraries and utilities for this notebook."
   ]
  },
  {
   "cell_type": "markdown",
   "id": "f2f769dd-526e-4904-a68c-2c7ace565643",
   "metadata": {},
   "source": [
    "### Install libraries"
   ]
  },
  {
   "cell_type": "code",
   "execution_count": null,
   "id": "painful-mandate",
   "metadata": {},
   "outputs": [],
   "source": [
    "# Import the standard \"requests\" library for programmatic access of HTTP URLs\n",
    "import requests\n",
    "\n",
    "# Import the standard \"os\" module for URL path manipulation\n",
    "import os\n",
    "\n",
    "# Import \"tqdm\" to display a progress bar during downloads\n",
    "from tqdm import tqdm"
   ]
  },
  {
   "cell_type": "markdown",
   "id": "4bf5238c-a88e-4fbc-9f72-7be3d1d18fa2",
   "metadata": {
    "tags": []
   },
   "source": [
    "### Set notebook globals\n",
    "\n",
    "The notebook needs to know:\n",
    "    \n",
    "- URL endpoint for the HCA catalog\n",
    "- Where to save downloaded files\n",
    "- An example project's UUID to download"
   ]
  },
  {
   "cell_type": "code",
   "execution_count": null,
   "id": "residential-techno",
   "metadata": {},
   "outputs": [],
   "source": [
    "CATALOG = 'dcp30'\n",
    "ENDPOINT_URL = f'https://service.azul.data.humancellatlas.org/index/projects'\n",
    "\n",
    "HCA_EXAMPLES_DIR = os.path.expanduser('~/terra-tutorials/hca')\n",
    "OUTPUT_DIR = os.path.join(HCA_EXAMPLES_DIR, 'data')\n",
    "\n",
    "!mkdir -p \"{OUTPUT_DIR}\""
   ]
  },
  {
   "cell_type": "markdown",
   "id": "6674304b-1ee6-430d-9238-36992281140b",
   "metadata": {
    "tags": []
   },
   "source": [
    "### Create utility routines"
   ]
  },
  {
   "cell_type": "markdown",
   "id": "7b82cbfe-7f7b-4760-8722-9e810337df0f",
   "metadata": {
    "tags": []
   },
   "source": [
    "#### download_file \n",
    "\n",
    "Downloads the content of the specified URL to a local output path,\n",
    "while displaying a progress bar."
   ]
  },
  {
   "cell_type": "code",
   "execution_count": null,
   "id": "painful-monitoring",
   "metadata": {},
   "outputs": [],
   "source": [
    "def download_file(url: str, output_path: str) -> None:\n",
    "    # Start the request stream\n",
    "    response = requests.get(url, stream=True)\n",
    "    response.raise_for_status()\n",
    "\n",
    "    # Get the content length so the progress bar can display accurate progress\n",
    "    total = int(response.headers.get('content-length', 0))\n",
    "    print(f'Downloading to: {output_path}', flush=True)\n",
    "    \n",
    "    # Fetch the content in chunks, updating the progress bar\n",
    "    with open(output_path, 'wb') as f:\n",
    "        with tqdm(total=total, unit='B', unit_scale=True, unit_divisor=1024) as bar:\n",
    "            for chunk in response.iter_content(chunk_size=1024):\n",
    "                size = f.write(chunk)\n",
    "                bar.update(size)"
   ]
  },
  {
   "cell_type": "markdown",
   "id": "49efcf24-7e1f-411c-8fc2-5628104daf2d",
   "metadata": {},
   "source": [
    "#### fetch_projects \n",
    "\n",
    "Fetch the list of projects in the HCA catalog."
   ]
  },
  {
   "cell_type": "code",
   "execution_count": null,
   "id": "e60613bb-4f25-4afe-a45a-ffc419a1762c",
   "metadata": {},
   "outputs": [],
   "source": [
    "def fetch_projects(catalog: str, max_projects: int) -> list:\n",
    "\n",
    "    # Set up request parameters\n",
    "    params = {\n",
    "      'catalog': catalog,\n",
    "      'size': max_projects,\n",
    "      'sort': 'projectTitle',\n",
    "      'order': 'asc'\n",
    "    }\n",
    "    \n",
    "    # Fetch the Catalog\n",
    "    response = requests.get(ENDPOINT_URL, params=params)\n",
    "    response.raise_for_status()\n",
    "    \n",
    "    return response"
   ]
  },
  {
   "cell_type": "markdown",
   "id": "783664cc-3d26-4282-9c3e-6690c07cfdac",
   "metadata": {
    "tags": []
   },
   "source": [
    "#### list_projects \n",
    "\n",
    "Fetch the list of projects in the HCA catalog.\n",
    "Return a list of project titles and UUIDs."
   ]
  },
  {
   "cell_type": "code",
   "execution_count": null,
   "id": "2ecb8bf4-de7c-4ea6-ab2d-c464a107ba84",
   "metadata": {},
   "outputs": [],
   "source": [
    "def list_projects(catalog: str, max_projects: int) -> list:\n",
    "\n",
    "    # Fetch the Catalog\n",
    "    response = fetch_projects(catalog, max_projects)\n",
    "    response_json = response.json()\n",
    "\n",
    "    # Allocate a list to populate for return\n",
    "    project_list = []\n",
    "    \n",
    "    # Iterate over results, printing out some high level details\n",
    "    print(f\"First {max_projects} projects:\")\n",
    "    for hit in response_json['hits']:\n",
    "        uuid = hit['entryId']\n",
    "        shortname = hit['projects'][0]['projectShortname']\n",
    "        title = hit['projects'][0]['projectTitle']\n",
    "\n",
    "        print(\"-----------------------\")\n",
    "        print(f\"Title: {title}\")\n",
    "        print(f\"Shortname: {shortname}\")\n",
    "        print(f\"Id: {uuid}\")\n",
    "\n",
    "        project_list.append({'title': title, 'uuid': uuid})\n",
    "\n",
    "        # Handle response pagination\n",
    "        next_url = response_json['pagination']['next']\n",
    "        if next_url:\n",
    "            url = next_url\n",
    "            params = None\n",
    "        else:\n",
    "            break\n",
    "\n",
    "    return project_list"
   ]
  },
  {
   "cell_type": "markdown",
   "id": "9ff84e06-5d11-4aad-986d-1ceb74abc7ab",
   "metadata": {
    "tags": []
   },
   "source": [
    "#### iterate_matrices_tree\n",
    "\n",
    "Recursively traverse a matrix tree and yield the leaf nodes which\n",
    "contain the details for each matrix file (e.g. file name, url, size).\n",
    "\n",
    "The matrix format specification can be found [here](https://github.com/HumanCellAtlas/dcp2/blob/main/docs/dcp2_system_design.rst)."
   ]
  },
  {
   "cell_type": "code",
   "execution_count": null,
   "id": "proper-joining",
   "metadata": {},
   "outputs": [],
   "source": [
    "def iterate_matrices_tree(tree, keys=()):\n",
    "    if isinstance(tree, dict):\n",
    "        for k, v in tree.items():\n",
    "            yield from iterate_matrices_tree(v, keys=(*keys, k))\n",
    "    elif isinstance(tree, list):\n",
    "        for file in tree:\n",
    "            yield keys, file\n",
    "    else:\n",
    "        assert False"
   ]
  },
  {
   "cell_type": "markdown",
   "id": "7a092d83-058d-4864-a098-aabcb5351416",
   "metadata": {},
   "source": [
    "#### download_project_files\n",
    "\n",
    "Fetch a project's metadata, find the file URLs, and download the contents."
   ]
  },
  {
   "cell_type": "code",
   "execution_count": null,
   "id": "d88ec245-8f3b-47b0-8874-ae3fa880df28",
   "metadata": {},
   "outputs": [],
   "source": [
    "def download_project_files(catalog: str, project_uuid: str, output_path: str):\n",
    "    # Fetch the project metadata\n",
    "    project_url = f'{ENDPOINT_URL}/{project_uuid}'\n",
    "    response = requests.get(project_url, params={'catalog': catalog})\n",
    "    response.raise_for_status()\n",
    "    response_json = response.json()\n",
    "\n",
    "    # Grab the project from the response\n",
    "    project = response_json['projects'][0]\n",
    "\n",
    "    # It is posssible for a matrix file to be included multiple times in the projects response,\n",
    "    # so a list of downloaded URLs is maintained to prevent downloading any file more than once.\n",
    "    file_urls = set()\n",
    "    \n",
    "    # Iterate over the matrices and the contributed analyses to find project files\n",
    "    for key in ('matrices', 'contributedAnalyses'):\n",
    "        tree = project[key]\n",
    "        for path, file_info in iterate_matrices_tree(tree):\n",
    "            url = file_info['url']\n",
    "            if url not in file_urls:\n",
    "                dest_path = os.path.join(output_path, file_info['name'])\n",
    "                download_file(url, dest_path)\n",
    "                file_urls.add(url)"
   ]
  },
  {
   "cell_type": "markdown",
   "id": "7f8effd3-a1a7-40ae-8859-a9e448f6618a",
   "metadata": {
    "tags": []
   },
   "source": [
    "## Access HCA"
   ]
  },
  {
   "cell_type": "markdown",
   "id": "67eba0e1-0d9b-4552-80b0-b6558cba5885",
   "metadata": {},
   "source": [
    "### Fetch project list\n",
    "\n",
    "From the catalog get a short list of projects and print them."
   ]
  },
  {
   "cell_type": "code",
   "execution_count": null,
   "id": "dfff11b6-44cf-4be3-9ffb-f341879dc338",
   "metadata": {},
   "outputs": [],
   "source": [
    "PROJECT_LIST = list_projects(CATALOG, 10)"
   ]
  },
  {
   "cell_type": "markdown",
   "id": "affiliated-warrant",
   "metadata": {},
   "source": [
    "### Download project files\n",
    "\n",
    "Download the files for the first project in our list."
   ]
  },
  {
   "cell_type": "code",
   "execution_count": null,
   "id": "foster-sheffield",
   "metadata": {},
   "outputs": [],
   "source": [
    "TARGET_PROJECT = PROJECT_LIST[0]\n",
    "\n",
    "print(\"Downloading files for project {TARGET_PROJECT['title']}\")\n",
    "download_project_files(CATALOG, TARGET_PROJECT['uuid'], OUTPUT_DIR)\n",
    "print(\"Downloads Complete.\")"
   ]
  },
  {
   "cell_type": "markdown",
   "id": "f07d06ec-a072-4f99-9072-5696a2af7570",
   "metadata": {},
   "source": [
    "## Provenance\n",
    "\n",
    "Generate information about this notebook environment and the packages installed."
   ]
  },
  {
   "cell_type": "code",
   "execution_count": null,
   "id": "197634e6-f0c5-4685-95fd-98accabf618c",
   "metadata": {},
   "outputs": [],
   "source": [
    "!date"
   ]
  },
  {
   "cell_type": "markdown",
   "id": "d6e2eb91-6750-468e-a374-a74ddb88e858",
   "metadata": {},
   "source": [
    "Conda and pip installed packages:"
   ]
  },
  {
   "cell_type": "code",
   "execution_count": null,
   "id": "1b594cfc-d8f3-4973-b3e5-2d883dee9900",
   "metadata": {
    "tags": []
   },
   "outputs": [],
   "source": [
    "!conda env export"
   ]
  },
  {
   "cell_type": "markdown",
   "id": "e0498853-a023-4605-9018-6be1aa1ad2bf",
   "metadata": {},
   "source": [
    "JupyterLab extensions:"
   ]
  },
  {
   "cell_type": "code",
   "execution_count": null,
   "id": "d2ac6edc-1b0b-4b5c-8a5d-023abaa0514e",
   "metadata": {},
   "outputs": [],
   "source": [
    "!jupyter labextension list"
   ]
  },
  {
   "cell_type": "markdown",
   "id": "5ae921b2-909f-4c53-968a-a3c6fd7d7bed",
   "metadata": {},
   "source": [
    "Number of cores:"
   ]
  },
  {
   "cell_type": "code",
   "execution_count": null,
   "id": "84051844-614e-4d56-8d23-8c953da1c064",
   "metadata": {},
   "outputs": [],
   "source": [
    "!grep ^processor /proc/cpuinfo | wc -l"
   ]
  },
  {
   "cell_type": "markdown",
   "id": "66ff7ec3-8fec-4dcd-8cca-f92e55e4a836",
   "metadata": {},
   "source": [
    "Memory:"
   ]
  },
  {
   "cell_type": "code",
   "execution_count": null,
   "id": "b7be4898-21b1-4612-add6-ad7fb4b8973b",
   "metadata": {},
   "outputs": [],
   "source": [
    "!grep \"^MemTotal:\" /proc/meminfo"
   ]
  },
  {
   "cell_type": "markdown",
   "id": "728f9d84-8444-4bbf-be45-77e48dd11fcf",
   "metadata": {},
   "source": [
    "---\n",
    "\n",
    "Copyright 2023 Verily Life Sciences LLC\n",
    "\n",
    "Use of this source code is governed by a BSD-style\n",
    "license that can be found in the LICENSE file or at\n",
    "https://developers.google.com/open-source/licenses/bsd"
   ]
  }
 ],
 "metadata": {
  "environment": {
   "kernel": "python3",
   "name": "r-cpu.4-2.m110",
   "type": "gcloud",
   "uri": "gcr.io/deeplearning-platform-release/r-cpu.4-2:m110"
  },
  "kernelspec": {
   "display_name": "Python 3",
   "language": "python",
   "name": "python3"
  },
  "language_info": {
   "codemirror_mode": {
    "name": "ipython",
    "version": 3
   },
   "file_extension": ".py",
   "mimetype": "text/x-python",
   "name": "python",
   "nbconvert_exporter": "python",
   "pygments_lexer": "ipython3",
   "version": "3.7.12"
  }
 },
 "nbformat": 4,
 "nbformat_minor": 5
}
