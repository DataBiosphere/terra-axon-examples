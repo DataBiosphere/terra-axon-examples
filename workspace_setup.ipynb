{
 "cells": [
  {
   "cell_type": "markdown",
   "metadata": {},
   "source": [
    "# Workspace setup\n",
    "\n",
    "<table align=\"left\">\n",
    "\n",
    "  <td>\n",
    "    <a href=\"https://github.com/DataBiosphere/terra-axon-examples/blob/main/workspace_setup.ipynb\">\n",
    "      <img src=\"https://cloud.google.com/ml-engine/images/github-logo-32px.png\" alt=\"GitHub logo\">\n",
    "      View on GitHub\n",
    "    </a>\n",
    "  </td>\n",
    "  <td>\n",
    "    <a href=\"https://console.cloud.google.com/vertex-ai/workbench/deploy-notebook?download_url=https://github.com/DataBiosphere/terra-axon-examples/main/workspace_setup.ipynb\">\n",
    "      <img src=\"https://lh3.googleusercontent.com/UiNooY4LUgW_oTvpsNhPpQzsstV5W8F7rYgxgGBD85cWJoLmrOzhVs_ksK_vgx40SHs7jCqkTkCk=e14-rj-sc0xffffff-h130-w32\" alt=\"Vertex AI logo\">\n",
    "      Open in a Terra notebook instance\n",
    "    </a>\n",
    "  </td>                                                                                               \n",
    "</table>"
   ]
  },
  {
   "cell_type": "markdown",
   "metadata": {
    "id": "tvgnzT1CKxrO"
   },
   "source": [
    "## Overview\n",
    "\n",
    "This notebook sets up some reasonable defaults for your workspace and some resources expected to exist for TVC tutorials. Add more setup to this notebook to meet your needs."
   ]
  },
  {
   "cell_type": "markdown",
   "metadata": {
    "id": "d975e698c9a4"
   },
   "source": [
    "### Objective\n",
    "\n",
    "Perform common workspace setup tasks including:\n",
    "\n",
    "1. Configuring the user name and email address to use for your git commits.\n",
    "1. Creating the Cloud Storage buckets used in TVC tutorials.\n",
    "1. Creating the BigQuery dataset used in TVC tutorials.\n",
    "1. Creating a directory on this machine for Python virtual environments used in TVC tutorials.\n",
    "\n",
    "#### How to run this notebook\n",
    "\n",
    "Run this notebook cell by cell to set up your workspace. All setup steps are optional, but highly recommended so that your workspace is compatible with the TVC tutorials.\n",
    "\n",
    "#### Costs\n",
    "\n",
    "This notebook takes less than a minute to run, which will typically cost less than $0.01 of compute time on your cloud environment."
   ]
  },
  {
   "cell_type": "markdown",
   "metadata": {},
   "source": [
    "## Setup and Configuration"
   ]
  },
  {
   "cell_type": "code",
   "execution_count": null,
   "metadata": {},
   "outputs": [],
   "source": [
    "import os"
   ]
  },
  {
   "cell_type": "code",
   "execution_count": null,
   "metadata": {},
   "outputs": [],
   "source": [
    "if not os.getenv('GOOGLE_CLOUD_PROJECT'):\n",
    "    raise Exception('Expected environment variables are not available. Please let terra-support@verily.com know.')"
   ]
  },
  {
   "cell_type": "markdown",
   "metadata": {},
   "source": [
    "### Set up source control"
   ]
  },
  {
   "cell_type": "markdown",
   "metadata": {},
   "source": [
    "Edit [git configuration](https://git-scm.com/book/en/v2/Customizing-Git-Git-Configuration) to tell git the name and email address to use for **all** your commits. This is optional. If this is not set globally, JupyterLab will prompt for the name and email address to use upon the first commit to a newly clone repository.\n",
    "\n",
    "<div class=\"alert alert-block alert-info\">\n",
    "<b>Tip:</b> Also <a href=\"https://terra-solutions-tvcdocs-stage.uc.r.appspot.com/docs/getting_started/web_ui/#creating-an-ssh-key\">set up the Terra-provided GitHub SSH key</a> for convenient interaction with source control.\n",
    "</div>\n"
   ]
  },
  {
   "cell_type": "code",
   "execution_count": null,
   "metadata": {},
   "outputs": [],
   "source": [
    "# [Optional] EDIT THIS CELL If you wish to set your name and email address for all git repositories, change these\n",
    "# values to be correct for you. All other cells in this notebook work fine unchanged.\n",
    "\n",
    "# Uncomment the following line if you want to use your Terra email address as your Git email address.\n",
    "#GIT_EMAIL = os.environ['TERRA_USER_EMAIL']\n",
    "GIT_EMAIL = None\n",
    "\n",
    "GIT_NAME = None"
   ]
  },
  {
   "cell_type": "code",
   "execution_count": null,
   "metadata": {},
   "outputs": [],
   "source": [
    "!git config --global --list"
   ]
  },
  {
   "cell_type": "code",
   "execution_count": null,
   "metadata": {},
   "outputs": [],
   "source": [
    "if GIT_NAME is not None:\n",
    "    !git config --global user.name \"{GIT_NAME}\"\n",
    "\n",
    "if GIT_EMAIL is not None:\n",
    "    !git config --global user.email \"{GIT_EMAIL}\"\n",
    "\n",
    "!git config --global --list | grep user"
   ]
  },
  {
   "cell_type": "markdown",
   "metadata": {},
   "source": [
    "Specify any other useful [git configuration](https://git-scm.com/book/en/v2/Customizing-Git-Git-Configuration)."
   ]
  },
  {
   "cell_type": "code",
   "execution_count": null,
   "metadata": {},
   "outputs": [],
   "source": [
    "# [Optional] EDIT THIS CELL If you wish to set the text editor when using git\n",
    "# in the terminal instead of via the JupyterLab git extension.\n",
    "\n",
    "# !git config --global core.editor emacs"
   ]
  },
  {
   "cell_type": "markdown",
   "metadata": {},
   "source": [
    "### Use the Terra CLI to create some default workspace resources"
   ]
  },
  {
   "cell_type": "markdown",
   "metadata": {},
   "source": [
    "These default workspace resources are used by TVC training material and assumed to exist. Specfifically the \"self-cleaning\" Google Cloud Storage bucket and BigQuery dataset are useful for tutorials. Those tutorials can create GCS files and BigQuery tables that you don't need to remember to clean up after the tutorial has been completed because they are created in the \"self-cleaning\" storage resources."
   ]
  },
  {
   "cell_type": "markdown",
   "metadata": {},
   "source": [
    "First, run the following cell to confirm that you are using the workspace that you intend to work in. (You can also run `terra workspace list` to see your list of workspaces)."
   ]
  },
  {
   "cell_type": "code",
   "execution_count": null,
   "metadata": {},
   "outputs": [],
   "source": [
    "!terra status"
   ]
  },
  {
   "cell_type": "markdown",
   "metadata": {},
   "source": [
    "Take a look at your workspace resources prior to creating these default resources."
   ]
  },
  {
   "cell_type": "code",
   "execution_count": null,
   "metadata": {},
   "outputs": [],
   "source": [
    "!terra resource list"
   ]
  },
  {
   "cell_type": "markdown",
   "metadata": {},
   "source": [
    "#### Create Cloud Storage buckets\n",
    "\n",
    "Create two Cloud Storage buckets in your workspace with the following workspace reference names:\n",
    "\n",
    "- `ws_files`: The TVC utility to share notebooks with other TVC users will write files to this durable default bucket.\n",
    "- `ws_files_autodelete_after_two_weeks`: The code in TVC tutorials will write output files to the \"autodelete\" bucket by default. Any file in this bucket will be automatically deleted two weeks after it is written. This alleviates the need for you to remember to clean up temporary and example files manually."
   ]
  },
  {
   "cell_type": "code",
   "execution_count": null,
   "metadata": {},
   "outputs": [],
   "source": [
    "!terra resource resolve --name ws_files || terra resource create gcs-bucket \\\n",
    "    --name=ws_files \\\n",
    "    --bucket-name=${GOOGLE_CLOUD_PROJECT}-ws-files \\\n",
    "    --cloning=COPY_NOTHING \\\n",
    "    --description=\"Bucket for reports and provenance records.\""
   ]
  },
  {
   "cell_type": "code",
   "execution_count": null,
   "metadata": {},
   "outputs": [],
   "source": [
    "!terra resource resolve --name ws_files_autodelete_after_two_weeks || terra resource create gcs-bucket \\\n",
    "    --name=ws_files_autodelete_after_two_weeks \\\n",
    "    --bucket-name=${GOOGLE_CLOUD_PROJECT}-autodelete-after-two-weeks \\\n",
    "    --cloning=COPY_NOTHING \\\n",
    "    --auto-delete=14 \\\n",
    "    --description=\"Bucket for temporary storage of file data. Send test outputs here for automatic cleanup after two weeks.\""
   ]
  },
  {
   "cell_type": "markdown",
   "metadata": {},
   "source": [
    "#### Create a BigQuery dataset\n",
    "\n",
    "Create a BigQuery dataset in your workspace with reference name `tabular_data_autodelete_after_two_weeks`.\n",
    "The code in TVC tutorials will write BigQuery tables to the \"autodelete\"' dataset by default.\n",
    "Any table in this dataset will be automatically deleted two weeks after it is written.\n",
    "This alleviates the need for you to remember to clean up temporary and example tables manually."
   ]
  },
  {
   "cell_type": "code",
   "execution_count": null,
   "metadata": {},
   "outputs": [],
   "source": [
    "!terra resource resolve --name tabular_data_autodelete_after_two_weeks || terra resource create bq-dataset \\\n",
    "    --name=tabular_data_autodelete_after_two_weeks \\\n",
    "    --dataset-id=tabular_data_autodelete_after_two_weeks \\\n",
    "    --cloning=COPY_NOTHING \\\n",
    "    --default-table-lifetime=1209600 \\\n",
    "    --description=\"BigQuery dataset for temporary storage of tabular data. Send test outputs here for automatic cleanup after two weeks.\""
   ]
  },
  {
   "cell_type": "markdown",
   "metadata": {},
   "source": [
    "Take a look at your workspace resources after creating these default resources."
   ]
  },
  {
   "cell_type": "code",
   "execution_count": null,
   "metadata": {},
   "outputs": [],
   "source": [
    "!terra resource list"
   ]
  },
  {
   "cell_type": "markdown",
   "metadata": {},
   "source": [
    "### Create a local directory for Python virtual environments\n",
    "\n",
    "Several of the TVC tutorials create [Python virtual environments](https://docs.python.org/3/tutorial/venv.html). They will all be placed in this subdirectory.\n",
    "\n",
    "> A virtual environment is a Python tool for dependency management and project isolation. They allow Python site packages (third party libraries) to be installed locally in an isolated directory for a particular project, as opposed to being installed globally (i.e. as part of a system-wide Python) [[1]](https://towardsdatascience.com/virtual-environments-104c62d48c54#:~:text=A%20virtual%20environment%20is%20a,a%20system%2Dwide%20Python)."
   ]
  },
  {
   "cell_type": "code",
   "execution_count": null,
   "metadata": {},
   "outputs": [],
   "source": [
    "!mkdir -p ~/venvs"
   ]
  },
  {
   "cell_type": "markdown",
   "metadata": {},
   "source": [
    "## Provenance\n",
    "\n",
    "Generate information about this notebook environment and the packages installed."
   ]
  },
  {
   "cell_type": "code",
   "execution_count": null,
   "metadata": {},
   "outputs": [],
   "source": [
    "!date"
   ]
  },
  {
   "cell_type": "markdown",
   "metadata": {},
   "source": [
    "Conda and pip installed packages:"
   ]
  },
  {
   "cell_type": "code",
   "execution_count": null,
   "metadata": {},
   "outputs": [],
   "source": [
    "!conda env export"
   ]
  },
  {
   "cell_type": "markdown",
   "metadata": {},
   "source": [
    "JupyterLab extensions:"
   ]
  },
  {
   "cell_type": "code",
   "execution_count": null,
   "metadata": {},
   "outputs": [],
   "source": [
    "!jupyter labextension list"
   ]
  },
  {
   "cell_type": "markdown",
   "metadata": {},
   "source": [
    "Number of cores:"
   ]
  },
  {
   "cell_type": "code",
   "execution_count": null,
   "metadata": {},
   "outputs": [],
   "source": [
    "!grep ^processor /proc/cpuinfo | wc -l"
   ]
  },
  {
   "cell_type": "markdown",
   "metadata": {},
   "source": [
    "Memory:"
   ]
  },
  {
   "cell_type": "code",
   "execution_count": null,
   "metadata": {},
   "outputs": [],
   "source": [
    "!grep \"^MemTotal:\" /proc/meminfo"
   ]
  },
  {
   "cell_type": "markdown",
   "metadata": {},
   "source": [
    "---\n",
    "Copyright 2022 Verily Life Sciences LLC\n",
    "\n",
    "Use of this source code is governed by a BSD-style   \n",
    "license that can be found in the LICENSE file or at   \n",
    "https://developers.google.com/open-source/licenses/bsd"
   ]
  }
 ],
 "metadata": {
  "environment": {
   "kernel": "python3",
   "name": "r-cpu.4-1.m95",
   "type": "gcloud",
   "uri": "gcr.io/deeplearning-platform-release/r-cpu.4-1:m95"
  },
  "kernelspec": {
   "display_name": "Python 3",
   "language": "python",
   "name": "python3"
  },
  "language_info": {
   "codemirror_mode": {
    "name": "ipython",
    "version": 3
   },
   "file_extension": ".py",
   "mimetype": "text/x-python",
   "name": "python",
   "nbconvert_exporter": "python",
   "pygments_lexer": "ipython3",
   "version": "3.7.12"
  }
 },
 "nbformat": 4,
 "nbformat_minor": 4
}
