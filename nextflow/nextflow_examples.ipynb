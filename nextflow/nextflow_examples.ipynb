{
 "cells": [
  {
   "attachments": {},
   "cell_type": "markdown",
   "id": "75b832f5-b010-4dc6-92f9-d7217b44a5d7",
   "metadata": {
    "tags": []
   },
   "source": [
    "# Nextflow in Terra\n",
    "<table align=\"left\">\n",
    "<td>\n",
    "<a href=\"https://github.com/DataBiosphere/terra-axon-examples/blob/main/nextflow/nextflow_examples.ipynb\">\n",
    "<img src=\"https://cloud.google.com/ml-engine/images/github-logo-32px.png\" alt=\"GitHub logo\">\n",
    "    View on GitHub\n",
    "</a>\n",
    "</td>\n",
    "<td>\n",
    "<a href=\"https://console.cloud.google.com/vertex-ai/workbench/deploy-notebook?download_url=https://github.com/DataBiosphere/terra-axon-examples/blob/main/nextflow/nextflow_examples.ipynb\">\n",
    "<img src=\"https://lh3.googleusercontent.com/UiNooY4LUgW_oTvpsNhPpQzsstV5W8F7rYgxgGBD85cWJoLmrOzhVs_ksK_vgx40SHs7jCqkTkCk=e14-rj-sc0xffffff-h130-w32\" alt=\"Vertex AI logo\">\n",
    "Open in a Terra notebook instance\n",
    "</a>\n",
    "</td>\n",
    "</table>"
   ]
  },
  {
   "attachments": {},
   "cell_type": "markdown",
   "id": "7d3e1fba",
   "metadata": {
    "tags": []
   },
   "source": [
    "## Introduction"
   ]
  },
  {
   "attachments": {},
   "cell_type": "markdown",
   "id": "61d34c2a",
   "metadata": {
    "jp-MarkdownHeadingCollapsed": true,
    "tags": []
   },
   "source": [
    "### What is Nextflow?\n",
    "Nextflow is an open-source workflow orchestrator that simplifies writing and deploying data-intensive computational pipelines on any infrastructure.  \n",
    "\n",
    "More information and additional examples can be found in the [Nextflow documentation](https://nextflow.io/docs/latest/index.html).\n",
    "\n",
    "### Objectives\n",
    "\n",
    "This notebook is intended to demonstrate how you can use the Nextflow engine on Terra to execute and manage workflows. By running the cells in this notebook, you will be able to:\n",
    "* Configure Nextflow to run on this cloud environment\n",
    "* Run Nextflow workflows on actual datasets\n",
    "* Check the status of submitted jobs\n",
    "* Leverage the Google Cloud Life Sciences API to execute workflow tasks in parallel\n",
    "* View the logs for each step of the workflows executed\n",
    "* Clean up intermediate results to reduce cloud storage use\n",
    "\n",
    "Note that all of the commands demonstrated with the prefix `!` are shell commands, which you can also run from a command-line such as a Jupyter terminal."
   ]
  },
  {
   "attachments": {},
   "cell_type": "markdown",
   "id": "50dd37b1",
   "metadata": {
    "tags": []
   },
   "source": [
    "### Notebook setup <a id=\"workspace_setup\"> \n",
    "<div class=\"alert alert-block alert-info\">\n",
    "<b>Note:</b> This notebook assumes that you have run <a href=\"../workspace_setup.ipynb\">workspace_setup.ipynb</a> in the parent directory to create necessary workspace resources. Please note that you can skip creating a BigQuery dataset as that won't be used in this notebook's examples.\n",
    "</div>\n",
    "     Running the `workspace_setup.ipynb` notebook will create two Cloud Storage buckets for your workspace files with workspace reference names: \n",
    "\n",
    " - ws_files   \n",
    " - ws_files_autodelete_after_two_weeks      \n",
    "    \n",
    "The code in this notebook will write output files to the \"autodelete\" bucket by default. Any file in this bucket will be automatically deleted two weeks after it is written. This alleviates the need for you to remember to clean up temporary and example files manually. If you want to write outputs to a durable location, simply change the assignment of the `BUCKET_REFERENCE` variable in the cell below and re-run the notebook. "
   ]
  },
  {
   "cell_type": "code",
   "execution_count": null,
   "id": "9f48ea42",
   "metadata": {
    "tags": []
   },
   "outputs": [],
   "source": [
    "# Change this to \"ws_files\" to use the durable workspace bucket instead of the autodelete bucket.\n",
    "BUCKET_REFERENCE = \"ws_files_autodelete_after_two_weeks\"\n",
    "\n",
    "!terra resource resolve --name $BUCKET_REFERENCE || echo \"Be sure to run workspace_setup.ipynb before this notebook.\""
   ]
  },
  {
   "attachments": {},
   "cell_type": "markdown",
   "id": "df46666b-f7dc-4595-95f8-4a0f153b0213",
   "metadata": {
    "tags": []
   },
   "source": [
    "### Install `nf-core` tool\n",
    "\n",
    "In order to interact with `nf-core` pipelines in this notebook,  you'll need to install the [`nf-core` companion tool](https://nf-co.re/tools), a command-line interface.\n",
    "\n",
    "1. Run the first cell below to install the tool in your Terra cloud environment. \n",
    "2. Once installation has completed, navigate to the **Kernel** dropdown in the JupyterLab menu and select **Restart Kernel**. \n",
    "3. Once the kernel has restarted, run the second cell below to import the tool."
   ]
  },
  {
   "cell_type": "code",
   "execution_count": null,
   "id": "881e8faa-a865-4fb3-ba69-7f4df579931a",
   "metadata": {
    "tags": []
   },
   "outputs": [],
   "source": [
    "try:\n",
    "    import nf_core\n",
    "    print(\"nf-core is already installed\")\n",
    "except:\n",
    "    print(\"Installing nf-core...\")\n",
    "    !pip install nf-core"
   ]
  },
  {
   "cell_type": "code",
   "execution_count": null,
   "id": "450ea83f-f6f5-44d4-9649-7fdcca4c7288",
   "metadata": {
    "tags": []
   },
   "outputs": [],
   "source": [
    "try:\n",
    "    import nf_core\n",
    "    print(\"nf-core is already installed\")\n",
    "except:\n",
    "    print(\"Please restart the kernel before importing...\")"
   ]
  },
  {
   "attachments": {},
   "cell_type": "markdown",
   "id": "c95e5cd7-77c0-4214-bf82-8bf672b007ea",
   "metadata": {
    "tags": []
   },
   "source": [
    "### Environment variables\n",
    "\n",
    "One advantage of running your workflows in Terra is the ability to inject parameters into your commands from the workspace context. You can pass parameter values such as your Google Cloud Storage bucket's URL or your service account's email address with convenient, readable names in CLI commands, preventing you the tedious and error-prone copying and pasting of values otherwise required. (To view this workspace's environment variables and their corresponding values, you can run the command `terra app execute env | sort`.)"
   ]
  },
  {
   "attachments": {},
   "cell_type": "markdown",
   "id": "5babf59d",
   "metadata": {
    "tags": []
   },
   "source": [
    "### Check environment variables\n",
    "\n",
    "Upon running this notebook in a fresh cloud environment, you may discover that your environment variables are not available on your workspace context. Please run the cell below to check these variables. If the exception is raised, you should restart this cloud environment in the Terra UI."
   ]
  },
  {
   "cell_type": "code",
   "execution_count": null,
   "id": "57e37af4-bbbb-4cbf-bf31-b421908d67f9",
   "metadata": {
    "tags": []
   },
   "outputs": [],
   "source": [
    "from datetime import datetime\n",
    "import os\n",
    "\n",
    "def check_environment_variables():\n",
    "    '''\n",
    "    Check that the notebook VM's environment variables resolve to the \n",
    "    expected workspace context values.\n",
    "    ***Remove once https://broadworkbench.atlassian.net/browse/PF-2215 is addressed.***\n",
    "    '''\n",
    "    if not (os.getenv('GOOGLE_CLOUD_PROJECT')\n",
    "            and os.getenv('GOOGLE_SERVICE_ACCOUNT_EMAIL')\n",
    "            and os.getenv('TERRA_USER_EMAIL')) :\n",
    "        raise Exception('Restart your TVC Cloud Environment so that the TVC environment variables become available.')       \n",
    "    else:\n",
    "        print(\"Environment variables available as expected.\")\n",
    "check_environment_variables()"
   ]
  },
  {
   "attachments": {},
   "cell_type": "markdown",
   "id": "2f6088b1-8a81-4671-a6af-b7f48d982a69",
   "metadata": {},
   "source": [
    "Run the cell below to capture the <a href=\"https://cloud.google.com/life-sciences/docs/concepts/locations\">geographic location of the physical resources</a> where your cloud environment exists. You will provide this value when configuring jobs to run via the Google Life Sciences API in the exercises that follow. "
   ]
  },
  {
   "cell_type": "code",
   "execution_count": null,
   "id": "0a2d07b8-836e-4a60-b53c-fcede8cf9ddc",
   "metadata": {
    "tags": []
   },
   "outputs": [],
   "source": [
    "import subprocess\n",
    "\n",
    "REGION=subprocess.run(\"curl -s 'http://metadata.google.internal/computeMetadata/v1/instance/zone' -H 'Metadata-Flavor: Google' \\\n",
    "  | sed -e 's#^.*/##' -e 's#-[a-z]$##'\", stdout=subprocess.PIPE, shell=True)\n",
    "REGION=str(REGION.stdout, 'utf-8')\n",
    "print(REGION)"
   ]
  },
  {
   "attachments": {},
   "cell_type": "markdown",
   "id": "7be45251-315e-4134-a215-2891d0f21a1e",
   "metadata": {
    "tags": []
   },
   "source": [
    "### Do I need to install `Nextflow` or other dependencies in my Terra workspace?\n",
    "By default, Nextflow is installed in Terra workspaces, so you don't need to install anything to complete the exercises in this notebook."
   ]
  },
  {
   "attachments": {},
   "cell_type": "markdown",
   "id": "b0c1fd90-1500-4154-bf5e-f790da32e296",
   "metadata": {
    "tags": []
   },
   "source": [
    "## Example 1: Run a Nextflow workflow\n",
    "\n",
    "In this exercise, you'll run a Nextflow workflow on sample human data. Running this example will typically incur less than $1 in cloud costs.\n",
    "\n",
    "If desired, you can preview a fully-executed version of this notebook section by viewing [this notebook snapshot](https://terra-preprod-ui-terra.api.verily.com/workspaces/getting-started-with-workflows-workspace/resources/21ffa484-75b9-46ff-b70d-6ebeb2962eb2/notebook_snapshots/nextflow_examples_first_exercise_fully_executed.html). "
   ]
  },
  {
   "attachments": {},
   "cell_type": "markdown",
   "id": "eb9bd29c-cf25-4973-b621-d4ec9dd98d3b",
   "metadata": {
    "tags": []
   },
   "source": [
    "#### Clone Nextflow RNASeq project\n",
    "\n",
    "<div class=\"alert alert-block alert-success\">\n",
    "<b>Note:</b> \n",
    "To access private GitHub repositories from your Terra workspace, you'll need to <a href=\"https://et-docs-tests.googleplex.com/docs/how_to_guides/terra_ssh_key_guide/#set-up-your-tvc-ssh-key-with-github\">set up an SSH key</a> to connect your GitHub and Terra accounts. This is not necessary for the exercises in this notebook because the repositories you will need are publicly available.\n",
    "*NOTE* Until <a href=\"https://verily.atlassian.net/browse/TERRA-358?atlOrigin=eyJpIjoiYWQ2YTNlYWQ5OWVhNDM2Zjk1OTYxMGQ4YzdkMzJjN2UiLCJwIjoiaiJ9\"> the Workflows Notebooks are migrated to a public repository</a>, you actually DO need to have your Terra SSH key set up to run the exercises in this notebook.\n",
    "</div>\n",
    "\n",
    "Terra features built-in support for source control via [GitHub](https://github.com). Users who have set up the Terra SSH key can run `terra git` commands from their Terra workspaces without additional authentication.\n",
    "\n",
    "In this exercise, you will use files from a public [GitHub repository](https://github.com/nextflow-io/rnaseq-nf.git) which contains a basic pipeline for quantification of genomic features from short read data and some data upon which to run the workflow.\n",
    "\n",
    "Run the cell below to check whether the GitHub repo exists as a referenced resource in this workspace. **If your workspace isn't a clone of the [Getting Started with Workflows workspace](https://TODO),** the command below will add the referenced resource and clone it to your home directory. If you see an error message like:\n",
    "```\n",
    "fatal: destination path 'rnaseq-nf' already exists and is not an empty directory.\n",
    "Git clone for https://github.com/nextflow-io/rnaseq-nf.git failed\n",
    "```\n",
    "that simply means your resource exists as we expect. *Do not* create another resource with a different name; just proceed to the following cell."
   ]
  },
  {
   "cell_type": "code",
   "execution_count": null,
   "id": "48f22815",
   "metadata": {
    "tags": []
   },
   "outputs": [],
   "source": [
    "!terra resource resolve --name=rnaseq-nf || (terra resource add-ref git-repo \\\n",
    "    --name=rnaseq-nf \\\n",
    "    --description=\"Respository containing a Nextflow RNASeq pipeline and associated input data.\" \\\n",
    "    --repo-url='https://github.com/nextflow-io/rnaseq-nf.git')\n",
    "!cd /home/jupyter/repos && terra git clone --resource=rnaseq-nf"
   ]
  },
  {
   "attachments": {},
   "cell_type": "markdown",
   "id": "8c862cd8",
   "metadata": {
    "tags": []
   },
   "source": [
    "### `Nextflow` configuration"
   ]
  },
  {
   "attachments": {},
   "cell_type": "markdown",
   "id": "94ae2043-4642-4773-bab4-1b00ffb76164",
   "metadata": {
    "tags": []
   },
   "source": [
    "#### Modify Nextflow configuration file\n",
    "\n",
    "Next, run the cell below to inject the necessary parameters into the Nextflow configuration file and output its contents.  \n",
    "In the `gls` entry, note the parameters set to workspace context variables: \n",
    "* `$TERRA_{BUCKET_REFERENCE}`,\n",
    "* `$TERRA_{REGION}`,\n",
    "* `$GOOGLE_CLOUD_PROJECT` and \n",
    "* `$GOOGLE_SERVICE_ACCOUNT_EMAIL`. \n",
    "\n",
    "If you've created the workspace bucket resource after you created this notebook instance (either via the [Terra workspace UI](f'https://terra-devel-ui-terra.api.verily.com/workspaces/emmarogge-workflows-ws) or Terra CLI commands, your bucket reference may not resolve correctly due to a stale workspace context cache (see [bug](https://broadworkbench.atlassian.net/browse/PF-2302)). To resolve the variable, you'll need to run `terra resource list` to refresh the cached workspace context, then re-run the cell below.\n",
    "\n",
    "Please note that `google.region` specifies the [Google location(s)](https://cloud.google.com/life-sciences/docs/concepts/locations) where the job executions are deployed to the Cloud Life Sciences API, whereas `google.location` specifies the [Google region(s)](https://cloud.google.com/compute/docs/regions-zones/) where the computation is executed on Compute Engine VMs."
   ]
  },
  {
   "cell_type": "code",
   "execution_count": null,
   "id": "f7a0996e-d0ff-49a6-8c69-d0cd814b3b6a",
   "metadata": {
    "tags": []
   },
   "outputs": [],
   "source": [
    "import re\n",
    "\n",
    "def configure_nextflow_for_terra():\n",
    "    \"\"\"\n",
    "    Injects workspace context variables as parameters & configures Nextflow to use \n",
    "    Google's Cloud Life Sciences API to run the RNASeq pipeline.\n",
    "    Provides Google Cloud URL for transcriptome and read files.\n",
    "    \"\"\"\n",
    "    terra_gls_config = f\"\"\"gls {{\n",
    "        params.transcriptome = 'gs://rnaseq-nf/data/ggal/transcript.fa'\n",
    "        params.reads = 'gs://rnaseq-nf/data/ggal/gut_{{1,2}}.fq'\n",
    "        params.multiqc = 'gs://rnaseq-nf/multiqc'\n",
    "        process.executor = 'google-lifesciences'\n",
    "        process.container = 'nextflow/rnaseq-nf:latest'\n",
    "        workDir = \"${{TERRA_{BUCKET_REFERENCE}}}/nf\"\n",
    "        google.region  = \"{REGION}\"\n",
    "        google.project = \"$GOOGLE_CLOUD_PROJECT\"\n",
    "        google.lifeSciences.network = 'network'\n",
    "        google.lifeSciences.subnetwork = 'subnetwork'\n",
    "        google.lifeSciences.serviceAccountEmail = \"$GOOGLE_SERVICE_ACCOUNT_EMAIL\"\n",
    "        }}\"\"\"\n",
    "    \n",
    "    # Replace boilerplate with Terra-specific config for Google Lifesciences APIs.\n",
    "    regex = \"(?s)gls(\\s\\{.*?\\s\\})(?=\\s|$)\"\n",
    "    config_file = open(\"/home/jupyter/repos/rnaseq-nf/nextflow.config\", \"r\")\n",
    "    data = config_file.read()\n",
    "    config_file.close()\n",
    "    result = re.sub(regex, terra_gls_config, data, 1)\n",
    "\n",
    "    if result:\n",
    "        config_file = open(\"/home/jupyter/repos/rnaseq-nf/nextflow.config\", \"w\")\n",
    "        config_file.write(result)\n",
    "        config_file.close()\n",
    "\n",
    "# Copy existing configuration file before we modify it.\n",
    "!cp /home/jupyter/repos/rnaseq-nf/nextflow.config /home/jupyter/repos/rnaseq-nf/unmodified_nextflow.config\n",
    "\n",
    "# Inject configuration.\n",
    "configure_nextflow_for_terra()"
   ]
  },
  {
   "attachments": {},
   "cell_type": "markdown",
   "id": "bdbb6e0a-5499-4c5e-8ae7-314fab8735f6",
   "metadata": {
    "tags": []
   },
   "source": [
    "#### Inspect your Nextflow config\n",
    "\n",
    "Run the cell below to validate your configuration for Nextflow in this workspace.  \n",
    "In particular, inspect the output to ensure the parameters highlighted (your workspace project, GCS bucket, and service account email) have been resolved to the appropriate values.  \n",
    "You should see something like below, with the appropriate values substituted for the placeholders in curly braces:\n",
    "<code>\n",
    "Setting the gcloud project to the workspace project\n",
    "Updated property [core/project].\n",
    "manifest {\n",
    "   description = 'Proof of concept of a RNA-seq pipeline implemented with Nextflow'\n",
    "   author = 'Paolo Di Tommaso'\n",
    "   nextflowVersion = '>=20.07.0'\n",
    "}\n",
    "</code><code>\n",
    "params {\n",
    "   transcriptome = 'gs://rnaseq-nf/data/ggal/transcript.fa'\n",
    "   reads = 'gs://rnaseq-nf/data/ggal/gut_{1,2}.fq'\n",
    "   multiqc = 'gs://rnaseq-nf/multiqc'\n",
    "}\n",
    "</code><code>\n",
    "process {\n",
    "   executor = 'google-lifesciences'\n",
    "   container = 'nextflow/rnaseq-nf:latest'\n",
    "}\n",
    "   workDir =</code><code style=\"background:yellow;color:black\">'{MY_BUCKET}/nf'</code>\n",
    "<code>\n",
    "google {\n",
    "   location = 'us-central1'\n",
    "   region = 'us-central1'\n",
    "   project = <code style=\"background:yellow;color:black\">'{MY_PROJECT}'</code>\n",
    "<code>\n",
    "    lifeSciences {\n",
    "        network = 'network'\n",
    "        subnetwork = 'subnetwork'\n",
    "        serviceAccountEmail = <code style=\"background:yellow;color:black\">'{MY_PET_SA}'</code>\n",
    "   }\n",
    "    }</code>\n",
    "Restoring the original gcloud project configuration: {MY_PROJECT}\n",
    "Updated property [core/project].\n",
    "</code>"
   ]
  },
  {
   "cell_type": "code",
   "execution_count": null,
   "id": "ecddfb64-feb9-41bb-95be-e07e49ab166d",
   "metadata": {
    "tags": []
   },
   "outputs": [],
   "source": [
    "!terra nextflow -c /home/jupyter/repos/rnaseq-nf/nextflow.config config /home/jupyter/repos/rnaseq-nf/main.nf -profile gls"
   ]
  },
  {
   "attachments": {},
   "cell_type": "markdown",
   "id": "53754012-4fdf-47f1-b3c3-25b20a8f3cec",
   "metadata": {
    "tags": []
   },
   "source": [
    "### Launch RNASeq workflow\n",
    "\n",
    "Run the cell below to use the [Terra CLI](https://github.com/DataBiosphere/terra-cli) to launch a sample Nextflow workflow for [an RNA sequencing pipeline](https://github.com/nf-core/rnaseq),   \n",
    "which maps a collection of read-pairs to a given reference genome and outputs the respective transcript model.  \n",
    "The workflow should take about 10 minutes to complete. Once your job has completed, you should see output like:\n",
    "```\n",
    "Done! Open the following report in your browser --> results/multiqc_report.html\n",
    "\n",
    "Completed at: DD-Month-YYYY HH:MM:SS\n",
    "Duration    : 10m 41s\n",
    "CPU hours   : 0.2\n",
    "Succeeded   : 4\n",
    "```"
   ]
  },
  {
   "cell_type": "code",
   "execution_count": null,
   "id": "08f2421d-deb6-495f-a4e4-e1b05071d6fd",
   "metadata": {
    "tags": []
   },
   "outputs": [],
   "source": [
    "!terra nextflow -c /home/jupyter/repos/rnaseq-nf/nextflow.config run /home/jupyter/rnaseq-nf/main.nf -profile gls"
   ]
  },
  {
   "attachments": {},
   "cell_type": "markdown",
   "id": "2d7aa5df-24a6-478b-94f2-d32417ce1741",
   "metadata": {},
   "source": [
    "### View pipeline runs\n",
    "\n",
    "Run the cell below to print a history of the Nextflow pipelines you've executed. You should see something like:\n",
    "```\n",
    "TIMESTAMP               DURATION        RUN NAME                STATUS  REVISION ID     SESSION ID                                 COMMAND      \n",
    "YYYY-MM-DD 15:27:03\t10m 13s   \t<RUN_NAME>      \tOK    \t386f5387c7 \tfb368e91-ceab-4f8c-b17f-a575836e6d80\tnextflow -c rnaseq-nf/nextflow.config run rnaseq-nf/main.nf -profile gls   \n",
    "```"
   ]
  },
  {
   "cell_type": "code",
   "execution_count": null,
   "id": "8286ee13-ac11-426e-93bf-1764df7b22aa",
   "metadata": {
    "tags": []
   },
   "outputs": [],
   "source": [
    "!nextflow log"
   ]
  },
  {
   "attachments": {},
   "cell_type": "markdown",
   "id": "b438dc0e-57d4-44b2-85a0-63c2ad4120a1",
   "metadata": {},
   "source": [
    "### View execution details for a specific run\n",
    "\n",
    "To view the tasks executed by your pipeline during a specific run, replace the `RUN_NAME` parameter below with the run name corresponding to the nf_core RNASeq job from the output of the previous `nextflow log ...` command. Then run the cell below to see the tasks and their statuses."
   ]
  },
  {
   "cell_type": "code",
   "execution_count": null,
   "id": "58edeb19-d349-4ff2-96d9-3f3478a11d6e",
   "metadata": {
    "tags": []
   },
   "outputs": [],
   "source": [
    "!nextflow log <RUN_NAME> -f 'task_id,name,status,duration,cpus,container' | sort -n"
   ]
  },
  {
   "attachments": {},
   "cell_type": "markdown",
   "id": "79a61e5d-8cb4-421e-a8bb-ae97b0514905",
   "metadata": {
    "tags": []
   },
   "source": [
    "### View workflow results\n",
    "\n",
    "The result of a successful run of the example workflow includes an HTML report from [MultiQC](https://multiqc.info/).\n",
    "To view the results, you can navigate in the JupyterLab file browser to the `multiqc_report.html` file in the `results` directory.\n",
    "The first time you open the report, it may include a message about JavaScript being disabled.\n",
    "To resolve this, select the \"Trust HTML\" button as described in [this JupyterLab issue](https://github.com/jupyterlab/jupyterlab/issues/9738).\n",
    "Alternatively, you may right click and open the MultiQC report in a new browser tab, which will not require clicking a button."
   ]
  },
  {
   "attachments": {},
   "cell_type": "markdown",
   "id": "a70a5f93-bd62-44aa-8616-48f6e64b16f9",
   "metadata": {},
   "source": [
    "### Optional: Clean up intermediate results\n",
    "\n",
    "If you won't need to reference the intermediate results produced by each workflow step in the future and don't intend to run a pipeline again with the `--resume` flag, it's a good practice to remove the associated working directories & their contents from your workspace bucket. This reduces your storage cost and makes it easier to find results within your bucket when you do wish to inspect intermediate results from a particular run (i.e. for debugging or to analyze a particular step in the pipeline).   \n",
    "\n",
    "Once you've performed cleanup for a specific run, the associated cached intermediate results have been deleted and you can no longer resume pipeline execution from those results. Therefore, it's important to perform a dry-run of the cleanup first to view the directories that will be removed and ensure you don't inadvertently clean up any checkpointing you wish to keep. \n",
    "\n",
    "Run the cell below to perform a dry-run for a pipeline run by replacing `<RUN_NAME>` with the run name of your specific pipeline execution. If you'd like to cleanup for all previous pipeline runs, replace `<RUN_NAME>` with `$(nextflow log -q)` in the cell below."
   ]
  },
  {
   "cell_type": "code",
   "execution_count": null,
   "id": "8a7622c4-2c5b-45f7-a638-f437e8a21f1b",
   "metadata": {
    "tags": []
   },
   "outputs": [],
   "source": [
    "!nextflow clean -n <RUN_NAME>"
   ]
  },
  {
   "attachments": {},
   "cell_type": "markdown",
   "id": "d1d54a69-3bd8-4127-a477-da64f64baf36",
   "metadata": {},
   "source": [
    "If you're satisfied with deleting the pipeline working directories indicated above, replace `<RUN_NAME>` with the name of the desired pipeline execution in the cell below, then run the cell to permanently remove files associated with that run. \n",
    "\n",
    "If you'd prefer to clean up directories associated with all previous runs, you can replace `<RUN_NAME>` with `$(nextflow log -q)`."
   ]
  },
  {
   "cell_type": "code",
   "execution_count": null,
   "id": "3112675b-f728-445f-84c5-041f169cd76b",
   "metadata": {
    "tags": []
   },
   "outputs": [],
   "source": [
    "!nextflow clean -f <RUN_NAME>"
   ]
  },
  {
   "attachments": {},
   "cell_type": "markdown",
   "id": "6fbfec09-7790-4956-a807-08af4a250397",
   "metadata": {
    "tags": []
   },
   "source": [
    "## Example 2: Run an `nf-core` workflow\n",
    "\n",
    "Nextflow's `nf-core` is a curated collection of validated Nextflow pipelines, most of which can be run on almost any computing environment, including your Terra cloud environment. These pipelines are subject to transparent versioning and each version is run against automated testing prior to release. In this exercise, we will perform RNASeq on by running the nf-core/RNASeq pipeline from the [`nf_core` collection](https://nf-co.re/pipelines). The cost of running this example will typically be no more than $1.\n",
    "\n",
    "If desired, you can preview a fully-executed version of this notebook section by viewing [this notebook snapshot](https://terra-preprod-ui-terra.api.verily.com/workspaces/getting-started-with-workflows-workspace/resources/eebc2df6-fc9d-491e-874c-b87dbd3a68e1/notebook_snapshots/nextflow_examples_second_exercise_fully_executed.html). "
   ]
  },
  {
   "attachments": {},
   "cell_type": "markdown",
   "id": "5225b331-2bec-4cd7-ba57-5de4fdaf6526",
   "metadata": {},
   "source": [
    "### View available pipelines\n",
    "\n",
    "Dozens of commonly used bioinformatics pipelines are available via [nf-core](https://nf-co.re/pipelines). Now that you have installed `nf-core`'s companion tooling on this instance, run the cell below to  \n",
    "view a list of available Nextflow pipelines in the `nf-core` collection. "
   ]
  },
  {
   "cell_type": "code",
   "execution_count": null,
   "id": "1236ada0-6501-4bc9-91b6-460a2b644642",
   "metadata": {
    "tags": []
   },
   "outputs": [],
   "source": [
    "!nf-core list"
   ]
  },
  {
   "attachments": {},
   "cell_type": "markdown",
   "id": "dba08a1b-aadf-44b1-a1e4-48bdd0b40f10",
   "metadata": {
    "tags": []
   },
   "source": [
    "### Modify nf-core configuration file\n",
    "\n",
    "Next, run the cell below to inject the necessary parameters into the Nextflow configuration file and output its contents.  \n",
    "In the `gls` entry, note the parameters set to workspace context variables: \n",
    "* `$TERRA_{BUCKET_REFERENCE}`, \n",
    "* `$GOOGLE_CLOUD_PROJECT` and \n",
    "* `$GOOGLE_SERVICE_ACCOUNT_EMAIL`. \n",
    "\n",
    "If you've created the workspace bucket resource after you created this notebook instance (either via the [Terra workspace UI](f'https://terra-devel-ui-terra.api.verily.com/workspaces/emmarogge-workflows-ws) or Terra CLI commands, your bucket reference may not resolve correctly due to a stale workspace context cache (see [bug](https://broadworkbench.atlassian.net/browse/PF-2302)). To resolve the variable, you'll need to run `terra resource list` to refresh the cached workspace context, then re-run the cell below.\n"
   ]
  },
  {
   "cell_type": "code",
   "execution_count": null,
   "id": "b81682a4-fc87-4956-be15-262e821b32c1",
   "metadata": {
    "tags": []
   },
   "outputs": [],
   "source": [
    "import re, os\n",
    "\n",
    "def configure_nf_core_for_terra():\n",
    "    \"\"\"\n",
    "    Injects workspace context variables for parameters & configures Nextflow for nf_core RNASeq.\n",
    "    \"\"\"\n",
    "    if not os.path.exists('/home/jupyter/nextflow.config'):\n",
    "        os.mknod('/home/jupyter/nextflow.config')\n",
    "        \n",
    "    terra_nf_core_config = f\"\"\"\n",
    "    profiles {{\n",
    "        gls {{\n",
    "            // Uncomment below line for debugging\n",
    "            //process.echo = true\n",
    "            // Do not change\n",
    "            process.executor = 'google-lifesciences'\n",
    "            process.container = 'nextflow/rnaseq-nf:latest'\n",
    "            process.maxRetries = 5\n",
    "            process.genome = \"R64-1-1\"\n",
    "            process.errorStrategy = {{ task.exitStatus==14 ? 'retry' : 'terminate' }}\n",
    "            workDir = \"${{TERRA_ws_files_autodelete_after_two_weeks}}/nf_core/work\"\n",
    "            google.region  = \"us-central1\"\n",
    "            google.project = \"$GOOGLE_CLOUD_PROJECT\"\n",
    "            google.lifeSciences.network = 'network'\n",
    "            google.lifeSciences.subnetwork = 'subnetwork'\n",
    "            google.lifeSciences.bootDiskSize = '50 GB'\n",
    "            google.lifeSciences.serviceAccountEmail = \"$GOOGLE_SERVICE_ACCOUNT_EMAIL\"\n",
    "            email_on_fail = \"$OWNER_EMAIL\"\n",
    "            storage {{\n",
    "                parallelThreadCount=1\n",
    "        }}\n",
    "    }}\n",
    "  }}\"\"\"\n",
    "    with open(\"/home/jupyter/nextflow.config\", \"w+\") as config_file:\n",
    "        config_file.write(terra_nf_core_config)\n",
    "        print(terra_nf_core_config)\n",
    "        config_file.close()\n",
    "\n",
    "# Copy existing configuration file, if it exists, modifying it.\n",
    "![ -f \"/home/jupyter/nextflow.config\" ] && cp /home/jupyter/nextflow.config /home/jupyter/unmodified_nextflow.config\n",
    "\n",
    "# Inject configuration.\n",
    "configure_nf_core_for_terra()"
   ]
  },
  {
   "attachments": {},
   "cell_type": "markdown",
   "id": "e2cda28f-c014-4bcd-b5c2-a16001f70b10",
   "metadata": {},
   "source": [
    "### View expanded configuration\n",
    "\n",
    "Run the cell below to output the Nextflow configuration's fully-expanded values to the file `expanded_nf_core.config`, then print the parameters and their values (injected from the Terra workspace context and by the function above) to the console."
   ]
  },
  {
   "cell_type": "code",
   "execution_count": null,
   "id": "4defcfdd-53a4-4c96-bf41-61f3b5ede3f5",
   "metadata": {
    "tags": []
   },
   "outputs": [],
   "source": [
    "!terra nextflow -c /home/jupyter/nextflow.config config nf-core/rnaseq -profile gls > expanded_nf_core.config\n",
    "!grep 'workDir' expanded_nf_core.config\n",
    "!grep -A 25 'google {'  expanded_nf_core.config"
   ]
  },
  {
   "attachments": {},
   "cell_type": "markdown",
   "id": "c81deb92-c421-4f7e-932a-525b4988d641",
   "metadata": {},
   "source": [
    "### Get inputs for RNASeq"
   ]
  },
  {
   "attachments": {},
   "cell_type": "markdown",
   "id": "3141b4d6-c9d4-49f1-bd66-dfcfcbcc945d",
   "metadata": {},
   "source": [
    "The input for RNASeq is raw FastQ sequencing data. Given sequencing data and a reference genome, the pipeline performs [a series of operations](https://nf-co.re/rnaseq#pipeline-summary), ultimately producing results including alignments, gene counts and a quality-control report. \n",
    "<a id=\"workspace_setup\"> \n",
    "<div class=\"alert alert-block alert-success\">\n",
    "<b>Note:</b> Please run *only one* of the following two cells depending on whether:\n",
    "    <ul>\n",
    "    <li> This notebook exists in a workspace which you cloned from the <a href=\"TODO_LINK_TO_WS\">Getting Started with Nextflow workspace</a></li> OR\n",
    "    <li>You imported this notebook into a new or existing personal workspace which is not a clone of the <a href=\"TODO_LINK_TO_WS\">Getting Started with Nextflow workspace</a>.</li>\n",
    "</ul>"
   ]
  },
  {
   "attachments": {},
   "cell_type": "markdown",
   "id": "d5bc8401-120e-4bca-86bd-184a5ec3eb8e",
   "metadata": {},
   "source": [
    "**If your workspace is a clone of the [Getting Started with Nextflow workspace](http://todo),** the referenced resource, `test-datasets`, is already present. You'll need to check out the branch containing the RNASeq test data by running the following cell."
   ]
  },
  {
   "cell_type": "code",
   "execution_count": null,
   "id": "de765efb-01ee-4449-aa43-086323b223e3",
   "metadata": {
    "tags": []
   },
   "outputs": [],
   "source": [
    "!cd /home/jupyter/repos/test-datasets && git checkout rnaseq\n",
    "!cd /home/jupyter/repos/test-datasets && cat samplesheet/samplesheet_minimal.csv || echo \"Something's not quite right. Please ensure you've added the Git repo as referenced resource and checked out the RNASeq branch.\""
   ]
  },
  {
   "attachments": {},
   "cell_type": "markdown",
   "id": "7d872c44-451c-4e76-87b2-3ed6267822b5",
   "metadata": {},
   "source": [
    "**If your workspace is NOT a clone of the [Getting Started with Nextflow workspace](http://todo),** you'll need to run the cell below to clone the GitHub repository containing nf-core test data into this cloud environment, then check out the branch containing RNASeq-specific test datasets and sample sheets. Run the following cell to validate that the referenced resource exists and check out the appropriate branch."
   ]
  },
  {
   "cell_type": "code",
   "execution_count": null,
   "id": "5aceddab-e1c0-411d-8f50-07aca1b4d38a",
   "metadata": {
    "tags": []
   },
   "outputs": [],
   "source": [
    "![[ -f repos/test-datasets/samplesheet/samplesheet_minimal.csv ]] && echo \"Resource already exists\" || (terra resource add-ref git-repo --name=test-datasets --repo-url=git@github.com:nf-core/test-datasets.git && cd /home/jupyter/repos && terra git clone --resource=nf-core-sample-data-repo &&  git checkout rnaseq)"
   ]
  },
  {
   "attachments": {},
   "cell_type": "markdown",
   "id": "32a79377-dc63-49e0-a2d1-d03af407dc3e",
   "metadata": {
    "tags": []
   },
   "source": [
    "### Run the RNASeq pipeline from `nf-core`\n",
    "\n",
    "\n",
    "Run the cell below to launch the nf-core RNASeq pipeline with Google Cloud Life Sciences API as the executor on a dataset of reads from seven [_S. cerevisiae_](https://www.ncbi.nlm.nih.gov/data-hub/genome/GCF_000146045.2/) samples. Each run should take about one hour to complete. \n",
    "\n",
    "The nf_core RNASeq pipeline produces a large volume of informative output.\n",
    "When inspecting the output, take note each time the executor you configured, the Google Life Sciences API, is invoked to execute the workflow steps that comprise RNASeq, from initial processing to alignment and creation of BAM files to creation of the MultiQC output files.\n",
    "\n",
    "When the pipeline run has completed successfully, the last few lines of output should resemble:\n",
    "```\n",
    "Waiting for file transfers to complete (1 files)\n",
    "-[nf-core/rnaseq] Pipeline completed successfully-\n",
    "Completed at: DD-Month-YYY HH:SS:MM\n",
    "Duration    : 58m 56s\n",
    "CPU hours   : <HOURS>\n",
    "Succeeded   : <NUBMER of TASKS>\n",
    "\n",
    "Restoring the original gcloud project configuration: <GOOGLE-CLOUD-PROJECT-ID>\n",
    "Updated property [core/project].\n",
    "```"
   ]
  },
  {
   "cell_type": "code",
   "execution_count": null,
   "id": "e266fbc3-f018-42a4-9b18-9c3dec3a1f56",
   "metadata": {
    "tags": [
     "\"output_scroll\"",
     "\"scroll\":\"true\""
    ]
   },
   "outputs": [],
   "source": [
    "!terra nextflow -c /home/jupyter/nextflow.config run nf-core/rnaseq -profile gls \\\n",
    "-w $(terra resource resolve \\\n",
    "--name=ws_files_autodelete_after_two_weeks)/nf_core/wd -r 3.11.1 \\\n",
    "--outdir $(terra resource resolve --name=ws_files_autodelete_after_two_weeks)/nf_core/output \\\n",
    "--input /home/jupyter/repos/test-datasets/samplesheet/samplesheet_minimal.csv \\\n",
    "--genome 'R64-1-1'"
   ]
  },
  {
   "attachments": {},
   "cell_type": "markdown",
   "id": "6a8577fc-1a34-4643-8823-65d6a4c2a1b4",
   "metadata": {},
   "source": [
    "### View pipeline runs\n",
    "\n",
    "Run the cell below to print a history of the Nextflow pipelines you've executed. The latest entry should be something like:\n",
    "```\n",
    "TIMESTAMP               DURATION        RUN NAME                STATUS  REVISION ID     SESSION ID                                 COMMAND      \n",
    "YYYY-MM-DD HH:MM:SS     1h 3m 34s      <run_name> OK      6e1e448f53      8c1afd3c-d318-4d7d-bb07-139ecf711193       nextflow -c /home/jupyter/nextflow.config run nf-core/rnaseq -profile google -w 'gs://terra-vdevel-genial-olive-3455-ws-files/nf_core/wd' -r 3.10.1 --minAssignedFrags 1 --outdir 'gs://terra-vdevel-genial-olive-3455-autodelete-after-two-weeks/nf_core/output' --input /home/jupyter/terra-solutions-mc-terra-testing/1000_genomes/test-datasets/samplesheet/samplesheet_minimal.csv --genome R64-1-1 --google-debug true --save-reference true     \n",
    "```"
   ]
  },
  {
   "cell_type": "code",
   "execution_count": null,
   "id": "9ae4e202-652e-4197-a2c6-a466d1be9ac9",
   "metadata": {
    "tags": []
   },
   "outputs": [],
   "source": [
    "!nextflow log"
   ]
  },
  {
   "attachments": {},
   "cell_type": "markdown",
   "id": "e8257646-3704-4d75-9af0-141bf5266a89",
   "metadata": {
    "tags": []
   },
   "source": [
    "### Optional: Resume pipeline execution from cached data\n",
    "\n",
    "Nextflow pipelines can be run with the [`--resume` flag](https://www.nextflow.io/docs/latest/getstarted.html#modify-and-resume). This flag causes the pipeline run to rely on existing, cached intermediate results for some tasks; computation of new intermediate results is performed only where inputs or the pipeline have been modified. This feature allows greater efficiency and speed in pipeline development and debugging.\n",
    "\n",
    "To resume pipeline execution for a specific run, provide the session ID of the desired run following the `--resume` flag in the cell below (session ID should be output by the `nextflow log` command in previous cell). If no modifications have been made to the pipeline or its configuration, resuming a successful run should take about 20 minutes. \n",
    "\n",
    "\n",
    "<div class=\"alert alert-block alert-success\">\n",
    "<b>Note:</b> \n",
    " The output directory in the command to resume workflow execution (below) differs from the output directory in the original command to launch the workflow. This a necesssary workaround due to a <a href=\"https://github.com/nextflow-io/nextflow/issues/1189https://github.com/nextflow-io/nextflow/issues/1189\">known Nextflow bug</a> in which an error is thrown in instances where an output file of the same name already exists in the output directory (due to the previous run executing successfully and publishing the MultiQC report to the expected output path). If the workflow run you are resuming did not succeed, you may change the output directory to the original destination in the command below.\n",
    "</div>"
   ]
  },
  {
   "cell_type": "code",
   "execution_count": null,
   "id": "a48fdef8-2140-40fe-9686-37fd67d02285",
   "metadata": {
    "tags": [
     "\"output_scroll\""
    ]
   },
   "outputs": [],
   "source": [
    "!terra nextflow -c /home/jupyter/nextflow.config run nf-core/rnaseq -resume <SESSION_ID> -profile gls \\\n",
    "-w $(terra resource resolve --name=ws_files_autodelete_after_two_weeks)/nf_core/wd -r 3.11.1 \\\n",
    "--outdir $(terra resource resolve --name=ws_files_autodelete_after_two_weeks)/nf_core/output/resumed \\\n",
    "--input /home/jupyter/repos/test-datasets/samplesheet/samplesheet_minimal.csv \\\n",
    "--genome 'R64-1-1'"
   ]
  },
  {
   "attachments": {},
   "cell_type": "markdown",
   "id": "fb9b22bf-e591-4f69-8c3c-ebe364370136",
   "metadata": {},
   "source": [
    "### View execution details for a specific run\n",
    "To view the tasks executed by your pipeline during a specific run, replace the \"RUN_NAME\" parameter below with the run name corresponding to the nf_core RNASeq job from the output of the previous `nextflow log ...` command. Then run the cell below to see the tasks and their statuses."
   ]
  },
  {
   "cell_type": "code",
   "execution_count": null,
   "id": "4f19fcfb-3b51-4cfc-b1b5-72f5de77c6c1",
   "metadata": {
    "tags": []
   },
   "outputs": [],
   "source": [
    "!nextflow log <RUN_NAME> -f 'task_id,name,status,duration,cpus,memory,container' | sort -n"
   ]
  },
  {
   "attachments": {},
   "cell_type": "markdown",
   "id": "bef762a8-0b46-4e8b-8352-b46bb05a0d94",
   "metadata": {},
   "source": [
    "### View workflow results\n",
    "\n",
    "The result of a successful run of the example workflow includes an HTML report from [MultiQC](https://multiqc.info/).\n",
    "To view the results, you'll need to obtain this report from the workspace bucket in the output directory provided in a previous step. If you haven't changed the default, you can run the cell below to copy the report to the home directory of this cloud environment.\n",
    "\n",
    "The first time you open the report, it may include a message about JavaScript being disabled.\n",
    "To resolve this, select the \"Trust HTML\" button as described in [this JupyterLab issue](https://github.com/jupyterlab/jupyterlab/issues/9738).\n",
    "Alternatively, you may right click and open the MultiQC report in a new browser tab, which will not have the same issue."
   ]
  },
  {
   "cell_type": "code",
   "execution_count": null,
   "id": "e5d8248b-80bb-41c1-8077-b11d7e42e48d",
   "metadata": {
    "tags": []
   },
   "outputs": [],
   "source": [
    "!terra gsutil cp $(terra resource resolve --name=ws_files_autodelete_after_two_weeks)/nf_core/output/multiqc/star_salmon/multiqc_report.html /home/jupyter/nf_core_multiqc_report.html"
   ]
  },
  {
   "attachments": {},
   "cell_type": "markdown",
   "id": "f34fca73-b5b7-4920-b4f4-c733ffa743ba",
   "metadata": {},
   "source": [
    "### Optional: Clean up intermediate results\n",
    "\n",
    "If you won't need to reference the intermediate results produced by each workflow step in the future and don't intend to run a pipeline again with the `--resume` flag, it's a good practice to remove the associated working directories & their contents from your workspace bucket. This reduces your storage cost and makes it easier to find results within your bucket when you do wish to inspect intermediate results from a particular run (i.e. for debugging or to analyze a particular step in the pipeline).   \n",
    "\n",
    "Once you've performed cleanup for a specific run, the associated cached intermediate results have been deleted and you can no longer resume pipeline execution from those results. Therefore, it's important to perform a dry-run of the cleanup first to view the directories that will be removed and ensure you don't inadvertently clean up any checkpointing you wish to keep. \n",
    "\n",
    "Run the cell below to perform a dry-run for a pipeline run by replacing \"RUN_NAME\" with the run name of your specific pipeline execution. If you'd like to cleanup for all previous pipeline runs, replace `<RUN_NAME>` with `$(nextflow log -q)` in the cell below."
   ]
  },
  {
   "cell_type": "code",
   "execution_count": null,
   "id": "81209623-7952-41a3-aa3c-4e67185dfa95",
   "metadata": {
    "tags": []
   },
   "outputs": [],
   "source": [
    "!nextflow clean -n <RUN_NAME>"
   ]
  },
  {
   "attachments": {},
   "cell_type": "markdown",
   "id": "8f8b7859-4c96-45ef-bfcb-3947ed5a29ab",
   "metadata": {},
   "source": [
    "If you're satisfied with deleting the pipeline working directories indicated above, replace `<RUN_NAME>` with the name of the desired pipeline execution in the cell below, then run the cell to permanently remove files associated with that run. (If you'd prefer to clean up directories associated with all previous runs, you can replace `<RUN_NAME>` with `$(nextflow log -q)`.)"
   ]
  },
  {
   "cell_type": "code",
   "execution_count": null,
   "id": "d2cd68f3-0102-45dc-a4cc-f1ebee942c2f",
   "metadata": {
    "tags": []
   },
   "outputs": [],
   "source": [
    "!nextflow clean -f <RUN_NAME>"
   ]
  },
  {
   "attachments": {},
   "cell_type": "markdown",
   "id": "b4d3c885-b704-4341-9b6c-aa696fb125d3",
   "metadata": {
    "tags": []
   },
   "source": [
    "## Provenance\n",
    "\n",
    "Generate information about this notebook environment and the packages installed."
   ]
  },
  {
   "cell_type": "code",
   "execution_count": null,
   "id": "1cb87330-7ca7-4743-a2de-3a12ae3419e0",
   "metadata": {},
   "outputs": [],
   "source": [
    "!date"
   ]
  },
  {
   "attachments": {},
   "cell_type": "markdown",
   "id": "ac579eb8-8c5f-441f-b0dc-3c435c88ee6b",
   "metadata": {},
   "source": [
    "Conda and pip installed packages:"
   ]
  },
  {
   "cell_type": "code",
   "execution_count": null,
   "id": "3bf49e83-360b-4e02-a58c-dc0e4135261a",
   "metadata": {},
   "outputs": [],
   "source": [
    "!conda env export"
   ]
  },
  {
   "attachments": {},
   "cell_type": "markdown",
   "id": "b8918feb-96d9-47fa-951e-9b32b01fec52",
   "metadata": {},
   "source": [
    "JupyterLab extensions:"
   ]
  },
  {
   "cell_type": "code",
   "execution_count": null,
   "id": "25698e5a-908c-41a1-aa6f-67c7f5c35313",
   "metadata": {},
   "outputs": [],
   "source": [
    "!jupyter labextension list"
   ]
  },
  {
   "attachments": {},
   "cell_type": "markdown",
   "id": "b33864c2-4756-463c-b3a9-81652f0b1403",
   "metadata": {},
   "source": [
    "Number of cores:"
   ]
  },
  {
   "cell_type": "code",
   "execution_count": null,
   "id": "dd443372-04d7-4566-80dd-2622cf2781bc",
   "metadata": {},
   "outputs": [],
   "source": [
    "!grep ^processor /proc/cpuinfo | wc -l"
   ]
  },
  {
   "attachments": {},
   "cell_type": "markdown",
   "id": "9e574345-d7a1-400f-a56b-6013016cd6cb",
   "metadata": {},
   "source": [
    "Memory:"
   ]
  },
  {
   "cell_type": "code",
   "execution_count": null,
   "id": "3a01f90b-bfe2-49b7-a784-4791c9e341ee",
   "metadata": {},
   "outputs": [],
   "source": [
    "!grep \"^MemTotal:\" /proc/meminfo"
   ]
  },
  {
   "attachments": {},
   "cell_type": "markdown",
   "id": "52f96eca-57b4-4aaa-becb-b20ee3c92ce6",
   "metadata": {},
   "source": [
    "---\n",
    "Copyright 2022 Verily Life Sciences LLC\n",
    "\n",
    "Use of this source code is governed by a BSD-style   \n",
    "license that can be found in the LICENSE file or at   \n",
    "https://developers.google.com/open-source/licenses/bsd"
   ]
  }
 ],
 "metadata": {
  "environment": {
   "kernel": "python3",
   "name": "r-cpu.4-2.m107",
   "type": "gcloud",
   "uri": "gcr.io/deeplearning-platform-release/r-cpu.4-2:m107"
  },
  "kernelspec": {
   "display_name": "Python 3",
   "language": "python",
   "name": "python3"
  },
  "language_info": {
   "codemirror_mode": {
    "name": "ipython",
    "version": 3
   },
   "file_extension": ".py",
   "mimetype": "text/x-python",
   "name": "python",
   "nbconvert_exporter": "python",
   "pygments_lexer": "ipython3",
   "version": "3.7.12"
  },
  "toc-autonumbering": false,
  "toc-showmarkdowntxt": false
 },
 "nbformat": 4,
 "nbformat_minor": 5
}
