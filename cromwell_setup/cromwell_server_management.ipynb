{
 "cells": [
  {
   "cell_type": "markdown",
   "id": "6c227d3a-5b97-465a-b92a-7bb3c9ffa578",
   "metadata": {
    "tags": []
   },
   "source": [
    "# Start a Cromwell server\n",
    "\n",
    "`Server mode` provides the ability to submit multiple workflows to Cromwell, asynchronously, for execution.\n",
    "The Cromwell server will take care of orchestration, but does not execute workflow `tasks` directly.\n",
    "Workflow `tasks` are executed on separate VMs which are scheduled and monitored by the Google Life Sciences API.\n",
    "\n",
    "The Cromwell server opens a local port (`8000` by default) to receive job submission request over a simple REST API.\n",
    "You can submit requests to the Cromwell server for workflow execution, job monitoring, and job canceling using\n",
    "command-line tools (such as `curl`) a Python [urllib.request](https://docs.python.org/3/library/urllib.request.html#module-urllib.requesthttps://docs.python.org/3/library/urllib.request.html#module-urllib.request), or a purpose-built\n",
    "tool such as [Cromshell](https://github.com/broadinstitute/cromshell)."
   ]
  },
  {
   "cell_type": "markdown",
   "id": "71f40abd-f123-4ba4-9b36-10f5e2bb678b",
   "metadata": {},
   "source": [
    "### Notebook setup"
   ]
  },
  {
   "cell_type": "markdown",
   "id": "e9240ce8-87b4-41eb-8293-10bc74f22dcc",
   "metadata": {
    "tags": []
   },
   "source": [
    "#### Set up utility functions"
   ]
  },
  {
   "cell_type": "code",
   "execution_count": null,
   "id": "d52b4676-f8f2-49b8-af93-247dfc3e957d",
   "metadata": {},
   "outputs": [],
   "source": [
    "'''\n",
    "Resolves bucket URL from bucket reference in workspace.\n",
    "'''\n",
    "def get_bucket_url_from_reference(bucket_reference):\n",
    "    BUCKET_CMD_OUTPUT = !terra resolve --name={bucket_reference}\n",
    "    BUCKET = BUCKET_CMD_OUTPUT[0]\n",
    "    return BUCKET"
   ]
  },
  {
   "cell_type": "markdown",
   "id": "e918b688-f686-4d06-b6cc-9f2c00e115c9",
   "metadata": {
    "tags": []
   },
   "source": [
    "#### Workspace setup\n",
    "\n",
    "<div class=\"alert alert-block alert-info\">\n",
    "<b>Note:</b> This notebook assumes that `workspace_setup.ipynb` in the parent directory has been run.\n",
    "</div>\n",
    "    \n",
    "`workspace_setup.ipynb` creates two Cloud Storage buckets for your workspace files with workspace reference names: \n",
    "\n",
    " - ws_files   \n",
    " - ws_files_autodelete_after_two_weeks      \n",
    "    \n",
    "The code in this notebook will write output files to the \"autodelete\" bucket by default.  \n",
    "    Any file in this bucket will be automatically deleted <b>two weeks</b> after it is written.  \n",
    "    This alleviates the need for you to remember to clean up temporary and example files manually.  \n",
    "    If you want to write outputs to a durable location, simply change the assignment of the `BUCKET_REFERENCE` variable in the cell below and re-run the notebook. "
   ]
  },
  {
   "cell_type": "code",
   "execution_count": null,
   "id": "ea297797-9f63-4ea2-bb29-08e2eb0358ea",
   "metadata": {},
   "outputs": [],
   "source": [
    "# Change this to \"ws_files\" to use the durable workspace bucket instead of the autodelete bucket.\n",
    "BUCKET_REFERENCE = \"ws_files_autodelete_after_two_weeks\""
   ]
  },
  {
   "cell_type": "markdown",
   "id": "2a6629a1-a413-40c5-89f2-900552c824a9",
   "metadata": {},
   "source": [
    "#### Cloud environment setup\n",
    "\n",
    "The notebooks in this workspace create a few files on your cloud environment. For clarity and to ease cleanup after\n",
    "running the tutorials, the notebooks will write, by default to a well-defined location as determined by the\n",
    "`CROMWELL_EXAMPLES_DIR`. You are free to change this location to suit your own use cases."
   ]
  },
  {
   "cell_type": "code",
   "execution_count": null,
   "id": "2665e415-252c-4480-805b-06bb0c5d6271",
   "metadata": {},
   "outputs": [],
   "source": [
    "import os\n",
    "\n",
    "CROMWELL_EXAMPLES_DIR=os.path.expanduser('~/terra-tutorials/cromwell')\n",
    "CROMWELL_CONF=f'{CROMWELL_EXAMPLES_DIR}/cromwell.conf'\n",
    "CROMWELL_SERVER_LOG=f'{CROMWELL_EXAMPLES_DIR}/cromwell.server.log'\n",
    "\n",
    "!mkdir -p {CROMWELL_EXAMPLES_DIR}\n",
    "\n",
    "print(f'Tutorial files will be written locally to {CROMWELL_EXAMPLES_DIR}')\n",
    "print()\n",
    "print(f'Cromwell configuration file will be written to {CROMWELL_CONF}')\n",
    "print(f'Cromwell server log file will be written to {CROMWELL_SERVER_LOG}')"
   ]
  },
  {
   "cell_type": "markdown",
   "id": "e59e9a11-1b75-4325-98e8-0d61fb0169e2",
   "metadata": {
    "tags": []
   },
   "source": [
    "## Configure your server\n",
    "\n",
    "Run the following cell to generate the server configuration file, `cromwell.conf`, using the [terra CLI](https://github.com/DataBiosphere/terra-cli).<br>The file modified by the function below also configures the Cromwell server to submit the jobs through the [Lifesciences API](https://cloud.google.com/life-sciences/docs/concepts/introduction)."
   ]
  },
  {
   "cell_type": "code",
   "execution_count": null,
   "id": "f15b3c80-ff4f-49f0-8d01-9bcbfdf9a8e0",
   "metadata": {},
   "outputs": [],
   "source": [
    "!rm -f {CROMWELL_CONF}\n",
    "!terra cromwell generate-config --dir={CROMWELL_EXAMPLES_DIR} --workspace-bucket-name={BUCKET_REFERENCE}"
   ]
  },
  {
   "cell_type": "markdown",
   "id": "416d13b5-8359-40a7-8682-43e6bde702dd",
   "metadata": {},
   "source": [
    "## Start  a MySQL DB\n",
    "\n",
    "In order to store job state, Cromwell needs a database attached."
   ]
  },
  {
   "cell_type": "code",
   "execution_count": null,
   "id": "4f547a29-e0e8-4423-831a-856fca7fbc2e",
   "metadata": {},
   "outputs": [],
   "source": [
    "!docker run -p 3306:3306 \\\n",
    "    --name MySQLContainer \\\n",
    "    -e MYSQL_ROOT_PASSWORD=cromwell \\\n",
    "    -e MYSQL_DATABASE=cromwell_db \\\n",
    "    -e MYSQL_USER=cromwell \\\n",
    "    -e MYSQL_PASSWORD=cromwell \\\n",
    "    -d mysql/mysql-server:5.5 \\\n",
    "    --max-allowed-packet=16M"
   ]
  },
  {
   "cell_type": "markdown",
   "id": "d7244ce8-dde2-434f-a3c1-5caf0f0de371",
   "metadata": {},
   "source": [
    "We also need to modify the Cromwell config file to use this database."
   ]
  },
  {
   "cell_type": "code",
   "execution_count": null,
   "id": "d1a76193-efcb-4454-b62f-fd8111bacf5c",
   "metadata": {},
   "outputs": [],
   "source": [
    "db_config_content = \"\"\"\n",
    "}\n",
    "database {\n",
    "  profile = \"slick.jdbc.MySQLProfile$\"\n",
    "  db {\n",
    "    driver = \"com.mysql.cj.jdbc.Driver\"\n",
    "    url = \"jdbc:mysql://localhost/cromwell_db?rewriteBatchedStatements=true&useSSL=false\"\n",
    "    user = \"cromwell\"\n",
    "    password = \"cromwell\"\n",
    "    connectionTimeout = 5000\n",
    "  }\n",
    "}\n",
    "\"\"\"\n",
    "\n",
    "with open(CROMWELL_CONF, 'r') as conf_file:\n",
    "    conf_file_contents = conf_file.read()\n",
    "li = conf_file_contents.rsplit('}', 1)\n",
    "new_conf_file_contents = db_config_content.join(li)\n",
    "with open(CROMWELL_CONF, 'w') as conf_file:\n",
    "    conf_file.write(new_conf_file_contents)\n"
   ]
  },
  {
   "cell_type": "markdown",
   "id": "ecb2b4e9-1de8-4cdc-b75d-576113c007a0",
   "metadata": {
    "tags": []
   },
   "source": [
    "## Starting your server\n",
    "\n",
    "To start Cromwell in server mode as a background task, execute the cell below, which will launch Cromwell and send all of the server messages to the file `cromwell.server.log`.\n",
    "It will take a few seconds for Cromwell to complete its startup sequence and be ready to receive requests. "
   ]
  },
  {
   "cell_type": "code",
   "execution_count": null,
   "id": "96e022ea-605f-4ad6-8a07-6eedb9f59627",
   "metadata": {},
   "outputs": [],
   "source": [
    "%%bash -s {CROMWELL_CONF} {CROMWELL_SERVER_LOG}\n",
    "\n",
    "# To run a shell command in the background from an iPython notebook, we need to use the\n",
    "# %%bash magic instead of the \"!\" notation.\n",
    "\n",
    "CROMWELL_CONF=\"$1\"\n",
    "CROMWELL_SERVER_LOG=\"$2\"\n",
    "\n",
    "java -Xms10g -Xmx10g -Dconfig.file=\"${CROMWELL_CONF}\" -jar \"${CROMWELL_JAR}\" server &> \"${CROMWELL_SERVER_LOG}\" &"
   ]
  },
  {
   "cell_type": "markdown",
   "id": "1259396d-44ed-4aea-8b03-56ea1d0e2954",
   "metadata": {},
   "source": [
    "When Cromwell is ready to receive requests, it will emit a message to the log. \n",
    "You can check for this message by running the cell below. You should then see something like:\n",
    "\n",
    "`Cromwell 81 service started on 0:0:0:0:0:0:0:0:8000...`"
   ]
  },
  {
   "cell_type": "markdown",
   "id": "0221c739-e16e-446c-9e6e-98d17fbfa57d",
   "metadata": {
    "tags": []
   },
   "source": [
    "### Waiting for the server to start"
   ]
  },
  {
   "cell_type": "code",
   "execution_count": null,
   "id": "d51a2ca3-0ea1-40a2-90bf-d11c0254e86c",
   "metadata": {},
   "outputs": [],
   "source": [
    "!while ! grep \"Cromwell.*service started\" {CROMWELL_SERVER_LOG}; do \\\n",
    "   echo \"Did not detect Cromwell service start line; retrying in 3 seconds\"; \\\n",
    "   sleep 3s; \\\n",
    " done"
   ]
  },
  {
   "cell_type": "markdown",
   "id": "2a2d341d-09f2-489b-9fa9-7c996076d721",
   "metadata": {},
   "source": [
    "### Verify server port is open"
   ]
  },
  {
   "cell_type": "markdown",
   "id": "7d858035-c148-44ca-bb1a-986167abe352",
   "metadata": {},
   "source": [
    "You can also poll the Cromwell server port by running the cell below. You should then see something like:\n",
    "\n",
    "`{\"cromwell\":\"81\"}`"
   ]
  },
  {
   "cell_type": "code",
   "execution_count": null,
   "id": "423df5d1-27ad-47ab-a0c9-930fe80b9efa",
   "metadata": {},
   "outputs": [],
   "source": [
    "!curl http://127.0.0.1:8000/engine/v1/version"
   ]
  },
  {
   "cell_type": "markdown",
   "id": "cf23e691-bd6e-4f13-82a0-abdf77201c04",
   "metadata": {
    "tags": []
   },
   "source": [
    "## Stopping your server\n",
    "\n",
    "To stop the Cromwell server, we need to kill the running process (pausing your cloud environment will also kill the process).\n",
    "\n",
    "### Look up the process\n",
    "\n",
    "To find and kill the process, you have several command-line tools available. Run the cell below to use `pgrep` to list all Java processes and then narrow down the list based our command-line arguments. The output should resemble:\n",
    "\n",
    "`<PID> java -Dconfig.file=<PATH> -jar cromwell/cromwell-81.jar server`. "
   ]
  },
  {
   "cell_type": "code",
   "execution_count": null,
   "id": "a5dc272d-e3a6-40e2-baa7-5360fe371c81",
   "metadata": {},
   "outputs": [],
   "source": [
    "!pgrep \"java\" --list-full | grep \"java .* -jar .*cromwell.*\\.jar server\""
   ]
  },
  {
   "cell_type": "markdown",
   "id": "a3020841-e1d2-4d57-bad8-d284dcca8f25",
   "metadata": {},
   "source": [
    "### Kill the process\n",
    "\n",
    "Assuming the above has correctly identified your Cromwell server process, execute the cell below to kill the server."
   ]
  },
  {
   "cell_type": "code",
   "execution_count": null,
   "id": "845a03de-1103-494f-be7a-6a43bec24bce",
   "metadata": {},
   "outputs": [],
   "source": [
    "%%bash\n",
    "\n",
    "SERVER_PID=\"$(pgrep \"java\" --list-full | grep \"java .* -jar .*cromwell.*\\.jar server\" | cut -d\" \" -f1)\"\n",
    "\n",
    "echo \"Killing process ${SERVER_PID}\"\n",
    "if kill -TERM \"${SERVER_PID}\"; then\n",
    "  echo \"Termination signal sent to ${SERVER_PID}\"\n",
    "fi"
   ]
  },
  {
   "cell_type": "markdown",
   "id": "9172f259-29b8-47a0-9ad9-7dab096394cc",
   "metadata": {},
   "source": [
    "You can run the following cell to check for new messages in the `cromwell.server.log` which demonstrate that the server has exited.\n",
    "\n",
    "Your output should appear similar to:\n",
    "\n",
    "```\n",
    "2022-10-26 22:48:04,389 INFO - Shutting down connection pool: curAllocated=0 idleQueues.size=0 waitQueue.size=0 maxWaitQueueLimit=256 closed=false\n",
    "\n",
    "2022-10-26 22:48:04,389 INFO - Shutting down connection pool: curAllocated=0 idleQueues.size=0 waitQueue.size=0 maxWaitQueueLimit=256 closed=false\n",
    "\n",
    "2022-10-26 22:48:04,393 INFO - Database closed\n",
    "\n",
    "2022-10-26 22:48:04,393 INFO - Stream materializer shut down\n",
    "\n",
    "2022-10-26 22:48:04,408 INFO - WDL HTTP import resolver closed\n",
    "```"
   ]
  },
  {
   "cell_type": "code",
   "execution_count": null,
   "id": "f9a69e83-8576-47d7-8f9f-840154318cf0",
   "metadata": {},
   "outputs": [],
   "source": [
    "!tail -n 5 {CROMWELL_SERVER_LOG}"
   ]
  }
 ],
 "metadata": {
  "environment": {
   "kernel": "python3",
   "name": "r-cpu.4-2.m104",
   "type": "gcloud",
   "uri": "gcr.io/deeplearning-platform-release/r-cpu.4-2:m104"
  },
  "kernelspec": {
   "display_name": "Python 3",
   "language": "python",
   "name": "python3"
  },
  "language_info": {
   "codemirror_mode": {
    "name": "ipython",
    "version": 3
   },
   "file_extension": ".py",
   "mimetype": "text/x-python",
   "name": "python",
   "nbconvert_exporter": "python",
   "pygments_lexer": "ipython3",
   "version": "3.7.12"
  }
 },
 "nbformat": 4,
 "nbformat_minor": 5
}
