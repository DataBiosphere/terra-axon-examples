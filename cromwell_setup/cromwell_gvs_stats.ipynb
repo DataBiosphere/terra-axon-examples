{
 "cells": [
  {
   "cell_type": "markdown",
   "id": "011a39ef-fc09-4135-a5e9-f27dc3051be2",
   "metadata": {},
   "source": [
    "# Setup Cromwell GVS Stats Input\n",
    "\n",
    "Starting a job on `cromwell` requires a source wdl and inputs to be configured. This notebook helps configure inputs and submits the job."
   ]
  },
  {
   "cell_type": "code",
   "execution_count": null,
   "id": "28752a21-f654-4e8c-aeaf-eb428f649f8c",
   "metadata": {},
   "outputs": [],
   "source": [
    "import json\n",
    "import os\n",
    "from ipywidgets import widgets"
   ]
  },
  {
   "cell_type": "markdown",
   "id": "22c91a39-31bb-48ce-9525-1a69974f0c1b",
   "metadata": {},
   "source": [
    "## Setup variables"
   ]
  },
  {
   "cell_type": "code",
   "execution_count": null,
   "id": "584fb2b7-b781-4b6c-8046-8ad09b7a1249",
   "metadata": {},
   "outputs": [],
   "source": [
    "# Set the CALLSET_IDENTIFIER and GVS_BQ_DATASET to match the variables used in the GVS run\n",
    "CALLSET_IDENTIFIER = 'willyn-300-samples-4'\n",
    "GVS_BQ_DATASET = 'gvs_testing'\n",
    "\n",
    "MAIN_WORKFLOW = \"GvsCallsetStatistics\"\n",
    "WDL_FILE = f\"{MAIN_WORKFLOW}.wdl\"\n",
    "\n",
    "GOOGLE_CLOUD_PROJECT = os.getenv('GOOGLE_CLOUD_PROJECT')\n"
   ]
  },
  {
   "cell_type": "markdown",
   "id": "11b4aef9-f89c-46d1-8861-5623abb522a1",
   "metadata": {},
   "source": [
    "The below cell will create a `~/terra-tutorials/cromwell` directory if it doesn't already exist. This contains files like a cromwell server log that another notebook may have created."
   ]
  },
  {
   "cell_type": "code",
   "execution_count": null,
   "id": "ed4f5ce6-722b-4637-98c1-e3f29c95e19a",
   "metadata": {},
   "outputs": [],
   "source": [
    "CROMWELL_EXAMPLES_DIR=os.path.expanduser('~/terra-tutorials/cromwell')\n",
    "CROMWELL_SERVER_LOG=f'{CROMWELL_EXAMPLES_DIR}/cromwell.server.log'\n",
    "\n",
    "!mkdir -p {CROMWELL_EXAMPLES_DIR}"
   ]
  },
  {
   "cell_type": "code",
   "execution_count": null,
   "id": "1fbf556d-dc14-4d56-9377-87f3859e94b6",
   "metadata": {},
   "outputs": [],
   "source": [
    "# We need the \"main\" wdl\n",
    "!cp gvs_wdls/GvsCallsetStatistics.wdl ."
   ]
  },
  {
   "cell_type": "markdown",
   "id": "41e107fd-0b7c-4d15-8f76-b5a368730ab9",
   "metadata": {},
   "source": [
    "## Build json input file\n"
   ]
  },
  {
   "cell_type": "code",
   "execution_count": null,
   "id": "a9c861ce-e479-4faa-be8c-b2fabf89bc79",
   "metadata": {},
   "outputs": [],
   "source": [
    "input_dict = {\n",
    "    'GvsCallsetStatistics.project_id': GOOGLE_CLOUD_PROJECT,\n",
    "    'GvsCallsetStatistics.dataset_name': GVS_BQ_DATASET,\n",
    "    'GvsCallsetStatistics.filter_set_name': CALLSET_IDENTIFIER,\n",
    "    'GvsCallsetStatistics.extract_prefix': CALLSET_IDENTIFIER,\n",
    "    'GvsCallsetStatistics.bq_location': 'us-central1'\n",
    "}\n",
    "\n",
    "with open('gvs_stats.inputs', 'w') as outfile:\n",
    "    json.dump(input_dict, outfile, indent=4)\n",
    "\n",
    "!head gvs_stats.inputs"
   ]
  },
  {
   "cell_type": "markdown",
   "id": "d07ee2f6-cedc-4ecc-9bcf-897be65b9f04",
   "metadata": {},
   "source": [
    "## Build Empty options file"
   ]
  },
  {
   "cell_type": "code",
   "execution_count": null,
   "id": "b95d7eca-c2ec-4ef7-bb9c-6ae4ee0af335",
   "metadata": {},
   "outputs": [],
   "source": [
    "with open('gvs_options.json', 'w') as outfile:\n",
    "    json.dump({}, outfile, indent=4)"
   ]
  },
  {
   "cell_type": "markdown",
   "id": "47e3079b-7992-4451-8643-4c2182bcbcb4",
   "metadata": {},
   "source": [
    "## Submit job to server"
   ]
  },
  {
   "cell_type": "code",
   "execution_count": null,
   "id": "b39b1796-73b7-49b1-aee0-b1d002e714f4",
   "metadata": {},
   "outputs": [],
   "source": [
    "%%bash\n",
    "\n",
    "mkdir -p ~/.cromshell\n",
    "\n",
    "echo 'localhost:8000' > ~/.cromshell/cromwell_server.config"
   ]
  },
  {
   "cell_type": "code",
   "execution_count": null,
   "id": "1f9a556b-8463-4e5e-b61b-0a0615aa8f1f",
   "metadata": {},
   "outputs": [],
   "source": [
    "!cromshell submit GvsCallsetStatistics.wdl gvs_stats.inputs gvs_options.json gvs_wdls.zip"
   ]
  },
  {
   "cell_type": "markdown",
   "id": "12c1326d-a6a1-4d50-8b69-ce43d1ca0012",
   "metadata": {},
   "source": [
    "### Check status of job"
   ]
  },
  {
   "cell_type": "code",
   "execution_count": null,
   "id": "03931384-d26e-4864-b381-f3cd4907aa7f",
   "metadata": {},
   "outputs": [],
   "source": [
    "!cromshell status"
   ]
  },
  {
   "cell_type": "code",
   "execution_count": null,
   "id": "f66d7078-71b6-4ac2-bfa3-0df48bafd345",
   "metadata": {},
   "outputs": [],
   "source": [
    "!tail -n 5 {CROMWELL_SERVER_LOG}"
   ]
  }
 ],
 "metadata": {
  "environment": {
   "kernel": "python3",
   "name": "r-cpu.4-2.m104",
   "type": "gcloud",
   "uri": "gcr.io/deeplearning-platform-release/r-cpu.4-2:m104"
  },
  "kernelspec": {
   "display_name": "Python 3",
   "language": "python",
   "name": "python3"
  },
  "language_info": {
   "codemirror_mode": {
    "name": "ipython",
    "version": 3
   },
   "file_extension": ".py",
   "mimetype": "text/x-python",
   "name": "python",
   "nbconvert_exporter": "python",
   "pygments_lexer": "ipython3",
   "version": "3.7.12"
  }
 },
 "nbformat": 4,
 "nbformat_minor": 5
}
