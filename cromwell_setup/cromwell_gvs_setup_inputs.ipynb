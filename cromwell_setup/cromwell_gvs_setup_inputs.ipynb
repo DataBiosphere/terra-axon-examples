{
 "cells": [
  {
   "cell_type": "markdown",
   "id": "a080d437-6ffb-42a8-838a-4adbd2e91281",
   "metadata": {},
   "source": [
    "# Setup Cromwell Input\n",
    "\n",
    "Starting a job on `cromwell` requires a source wdl and inputs to be configured. This notebook helps configure inputs and submits the job."
   ]
  },
  {
   "cell_type": "code",
   "execution_count": null,
   "id": "cf12d278-1a47-4d0e-9904-1d5d8003a70b",
   "metadata": {},
   "outputs": [],
   "source": [
    "import json\n",
    "from ipywidgets import widgets"
   ]
  },
  {
   "cell_type": "code",
   "execution_count": null,
   "id": "806c4b50-5451-4a7b-b9ee-2f929321dcba",
   "metadata": {},
   "outputs": [],
   "source": [
    "!wget https://github.com/broadinstitute/cromwell/releases/download/84/womtool-84.jar -O womtool.jar"
   ]
  },
  {
   "cell_type": "markdown",
   "id": "2aa7352b-566d-4869-8032-1c97953598ae",
   "metadata": {
    "tags": []
   },
   "source": [
    "## Setup variables"
   ]
  },
  {
   "cell_type": "code",
   "execution_count": null,
   "id": "c0417d12-b155-4fcb-bac5-f67bfe8f9790",
   "metadata": {},
   "outputs": [],
   "source": [
    "MAIN_WORKFLOW = \"GvsJointVariantCalling\"\n",
    "WDL_FILE = f\"{MAIN_WORKFLOW}.wdl\""
   ]
  },
  {
   "cell_type": "code",
   "execution_count": null,
   "id": "80f88eb7-a882-49f9-a7fe-b7a64bcee7c4",
   "metadata": {},
   "outputs": [],
   "source": [
    "import os\n",
    "\n",
    "CROMWELL_EXAMPLES_DIR=os.path.expanduser('~/terra-tutorials/cromwell')\n",
    "GATK_DIR=f'{CROMWELL_EXAMPLES_DIR}/gatk'\n",
    "CROMWELL_SERVER_LOG=f'{CROMWELL_EXAMPLES_DIR}/cromwell.server.log'\n",
    "\n",
    "!mkdir -p {CROMWELL_EXAMPLES_DIR}\n",
    "\n",
    "print(f'gatk git repo will be cloned to {GATK_DIR}')\n"
   ]
  },
  {
   "cell_type": "markdown",
   "id": "ae7a3092-f0ea-4259-b86a-8bd69f34c993",
   "metadata": {
    "tags": []
   },
   "source": [
    "## Build zipped wdls"
   ]
  },
  {
   "cell_type": "code",
   "execution_count": null,
   "id": "6d925dd4-7ba2-4b37-a1ea-5b987fe6feeb",
   "metadata": {},
   "outputs": [],
   "source": [
    "%%bash -s {GATK_DIR}\n",
    "\n",
    "GATK_DIR=\"$1\"\n",
    "\n",
    "git clone https://github.com/broadinstitute/gatk.git \"${GATK_DIR}\"\n",
    "cd \"${GATK_DIR}\"\n",
    "git checkout ah_var_store"
   ]
  },
  {
   "cell_type": "code",
   "execution_count": null,
   "id": "e0eea26e-09b6-42c0-85a5-449d328e7842",
   "metadata": {},
   "outputs": [],
   "source": [
    "%%bash -s {GATK_DIR}\n",
    "\n",
    "GATK_DIR=\"$1\"\n",
    "\n",
    "mkdir -p gvs_wdls\n",
    "# We need all the gvs wdls...\n",
    "cp \"${GATK_DIR}\"/scripts/variantstore/wdl/*wdl gvs_wdls\n",
    "# ...and these two gvs wdls\n",
    "cp \"${GATK_DIR}\"/scripts/vcf_site_level_filtering_wdl/JointVcfFiltering.wdl gvs_wdls\n",
    "cp \"${GATK_DIR}\"/scripts/variantstore/variant_annotations_table/GvsCreateVATFilesFromBigQuery.wdl gvs_wdls\n",
    "\n",
    "# For now, we can't do relative imports because we're zipping all the wdls together\n",
    "sed -i 's|import \"../../vcf_site_level_filtering_wdl/JointVcfFiltering.wdl\" as VQSRLite|import \"JointVcfFiltering.wdl\" as VQSRLite|g' gvs_wdls/GvsCreateFilterSet.wdl\n",
    "sed -i 's|import \"../variant_annotations_table/GvsCreateVATFilesFromBigQuery.wdl\" as GvsCreateVATFilesFromBigQuery|import \"GvsCreateVATFilesFromBigQuery.wdl\" as GvsCreateVATFilesFromBigQuery|g' gvs_wdls/GvsCreateVATfromVDS.wdl\n",
    "\n",
    "# We also need the \"main\" wdl\n",
    "cp gvs_wdls/GvsJointVariantCalling.wdl .\n",
    "\n",
    "# Delete existing zip if exists\n",
    "rm -f gvs_wdls.zip\n",
    "# Create zip file of wdls. -j so we don't include folders.\n",
    "zip -rj gvs_wdls.zip gvs_wdls"
   ]
  },
  {
   "cell_type": "markdown",
   "id": "3e43d1d4-c2cc-42f2-bc43-c297680f69a3",
   "metadata": {},
   "source": [
    "## Parse out inputs"
   ]
  },
  {
   "cell_type": "code",
   "execution_count": null,
   "id": "97360eb1-458e-4ded-a2f3-f87d0fc6c340",
   "metadata": {},
   "outputs": [],
   "source": [
    "required_input_list = []\n",
    "for input_line in inputs_json:\n",
    "    if 'optional' in input_line or '{' in input_line or '}' in input_line or not input_line:\n",
    "        continue\n",
    "    req_input = input_line.split(': ')[0].strip().replace('\"', '')\n",
    "    required_input_list.append(req_input.strip())\n",
    "print(required_input_list)"
   ]
  },
  {
   "cell_type": "code",
   "execution_count": null,
   "id": "b34edefd-dac6-4352-9a19-81501ff46f10",
   "metadata": {
    "tags": []
   },
   "outputs": [],
   "source": [
    "def handle_submit(change):\n",
    "    # Used for debugging\n",
    "    #print(change)\n",
    "    pass\n",
    "\n",
    "display_elements = []\n",
    "input_text_boxes = []\n",
    "for input_key in required_input_list:\n",
    "    text = widgets.Text()\n",
    "    text.observe(handle_submit, names='value')\n",
    "    input_text_boxes.append(text)\n",
    "    hbox = widgets.HBox([widgets.Label(f'{input_key}:'), text])\n",
    "    display_elements.append(hbox)\n",
    "    \n",
    "box = widgets.VBox(display_elements)\n",
    "display(box)\n",
    "\n",
    "    "
   ]
  },
  {
   "cell_type": "markdown",
   "id": "6b4766bb-2abb-4e4a-974e-8397c14afc1d",
   "metadata": {},
   "source": [
    "## Build json input file"
   ]
  },
  {
   "cell_type": "code",
   "execution_count": null,
   "id": "0e754d11-ae08-409d-9c11-1ba01a5b77ae",
   "metadata": {},
   "outputs": [],
   "source": [
    "input_text_box_values = [box.value for box in input_text_boxes]\n",
    "input_as_dict = dict(zip(required_input_list, input_text_box_values))\n",
    "input_as_dict"
   ]
  },
  {
   "cell_type": "code",
   "execution_count": null,
   "id": "c9aa8a34-56d7-44c6-ba61-ffd9df0d66a8",
   "metadata": {},
   "outputs": [],
   "source": [
    "with open('gvs.inputs', 'w') as outfile:\n",
    "    json.dump(input_as_dict, outfile, indent=4)"
   ]
  },
  {
   "cell_type": "markdown",
   "id": "62e875d2-26b6-4a73-b31c-54772b64b591",
   "metadata": {},
   "source": [
    "## Submit job to server"
   ]
  },
  {
   "cell_type": "code",
   "execution_count": null,
   "id": "167e3ac4-4c9b-4bc9-ba9a-aa0c053c1734",
   "metadata": {},
   "outputs": [],
   "source": [
    "import requests\n",
    "\n",
    "url = \"http://localhost:8000/api/workflows/v1\"\n",
    "\n",
    "files = {\n",
    "    'workflowSource': ('file', open(WDL_FILE, 'rb')),\n",
    "    'workflowDependencies': ('file', open('gvs_wdls.zip', 'rb')),\n",
    "    'workflowInputs': ('file', open('gvs.inputs', 'rb'))\n",
    "}\n",
    "\n",
    "headers = {\n",
    "    'Accept': 'application/json'\n",
    "}\n",
    "\n",
    "response = requests.post(url, headers=headers, files=files)\n",
    "response.content"
   ]
  },
  {
   "cell_type": "code",
   "execution_count": null,
   "id": "49b86da6-96cd-4538-a52e-e8b3edd45868",
   "metadata": {},
   "outputs": [],
   "source": [
    "%%bash -s {WDL_FILE}\n",
    "\n",
    "# To run a shell command in the background from an iPython notebook, we need to use the\n",
    "# %%bash magic instead of the \"!\" notation.\n",
    "\n",
    "WDL_FILE=\"$1\"\n",
    "curl -X POST --header \"Accept: application/json\"\\\n",
    "    -v \"localhost:8000/api/workflows/v1\" \\\n",
    "    -F workflowSource=@\"${WDL_FILE}\" \\\n",
    "    -F workflowDependencies=@cellranger_wdls.zip \\\n",
    "    -F workflowInputs=@cellranger.inputs"
   ]
  },
  {
   "cell_type": "markdown",
   "id": "df7ee263-992e-45f4-9050-c443bcb4f50c",
   "metadata": {},
   "source": [
    "### Check status of job"
   ]
  },
  {
   "cell_type": "code",
   "execution_count": null,
   "id": "6c3604b9-312c-4885-b780-d32b44bece02",
   "metadata": {},
   "outputs": [],
   "source": [
    "!curl http://localhost:8000/api/workflows/v1/runs/d689a1d1-38c2-48ea-a454-ebdf02b62a7b/status"
   ]
  },
  {
   "cell_type": "code",
   "execution_count": null,
   "id": "edbdf38a-153b-4c67-b6a3-535d4f9e6004",
   "metadata": {},
   "outputs": [],
   "source": [
    "!tail -n 15 {CROMWELL_SERVER_LOG}"
   ]
  },
  {
   "cell_type": "markdown",
   "id": "62c6c79f-de71-4db0-962a-d79826caffef",
   "metadata": {},
   "source": [
    "# Observe Cromwell output"
   ]
  },
  {
   "cell_type": "code",
   "execution_count": null,
   "id": "681b0b3a-2ca6-436e-8cc4-2c8e0705353d",
   "metadata": {},
   "outputs": [],
   "source": []
  }
 ],
 "metadata": {
  "environment": {
   "kernel": "python3",
   "name": "r-cpu.4-2.m103",
   "type": "gcloud",
   "uri": "gcr.io/deeplearning-platform-release/r-cpu.4-2:m103"
  },
  "kernelspec": {
   "display_name": "Python 3",
   "language": "python",
   "name": "python3"
  },
  "language_info": {
   "codemirror_mode": {
    "name": "ipython",
    "version": 3
   },
   "file_extension": ".py",
   "mimetype": "text/x-python",
   "name": "python",
   "nbconvert_exporter": "python",
   "pygments_lexer": "ipython3",
   "version": "3.7.12"
  }
 },
 "nbformat": 4,
 "nbformat_minor": 5
}
