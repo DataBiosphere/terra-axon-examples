{
 "cells": [
  {
   "cell_type": "markdown",
   "id": "a080d437-6ffb-42a8-838a-4adbd2e91281",
   "metadata": {},
   "source": [
    "# Setup Cromwell GVS Input\n",
    "\n",
    "Starting a job on `cromwell` requires a source wdl and inputs to be configured. This notebook helps configure inputs and submits the job."
   ]
  },
  {
   "cell_type": "code",
   "execution_count": null,
   "id": "cf12d278-1a47-4d0e-9904-1d5d8003a70b",
   "metadata": {},
   "outputs": [],
   "source": [
    "import json\n",
    "import os\n",
    "from ipywidgets import widgets"
   ]
  },
  {
   "cell_type": "markdown",
   "id": "2aa7352b-566d-4869-8032-1c97953598ae",
   "metadata": {
    "tags": []
   },
   "source": [
    "## Setup variables"
   ]
  },
  {
   "cell_type": "code",
   "execution_count": null,
   "id": "c0417d12-b155-4fcb-bac5-f67bfe8f9790",
   "metadata": {},
   "outputs": [],
   "source": [
    "# This notebook will run the GVS workflow on the first NUM_OF_INPUTS samples in the INPUT_SOURCE location\n",
    "NUM_OF_INPUTS = 300  # CHANGE THIS NUMBER!\n",
    "CALLSET_IDENTIFIER = '300_samples_batch_id'  # CHANGE THIS NAME! \n",
    "\n",
    "# CHANGE THIS SOURCE LOCATION OF INPUT FILES\n",
    "INPUT_SOURCE = 'gs://{EXAMPLE_BUCKET}/PATH/TO/SAMPLES'\n",
    "\n",
    "# CHANGE THIS TO NAME YOUR BQ DATASET\n",
    "GVS_BQ_DATASET = 'gvs_300'\n",
    "\n",
    "MAIN_WORKFLOW = \"GvsJointVariantCalling\"\n",
    "WDL_FILE = f\"{MAIN_WORKFLOW}.wdl\"\n",
    "\n",
    "GOOGLE_CLOUD_PROJECT = os.getenv('GOOGLE_CLOUD_PROJECT')"
   ]
  },
  {
   "cell_type": "markdown",
   "id": "fe6fed72-284b-4848-8f25-a63e6f1acfa2",
   "metadata": {},
   "source": [
    "The below cell will create a `~/terra-tutorials/cromwell` directory if it doesn't already exist. This contains files like a cromwell server log that another notebook may have created."
   ]
  },
  {
   "cell_type": "code",
   "execution_count": null,
   "id": "80f88eb7-a882-49f9-a7fe-b7a64bcee7c4",
   "metadata": {},
   "outputs": [],
   "source": [
    "CROMWELL_EXAMPLES_DIR=os.path.expanduser('~/terra-tutorials/cromwell')\n",
    "CROMWELL_SERVER_LOG=f'{CROMWELL_EXAMPLES_DIR}/cromwell.server.log'\n",
    "\n",
    "!mkdir -p {CROMWELL_EXAMPLES_DIR}"
   ]
  },
  {
   "cell_type": "code",
   "execution_count": null,
   "id": "e0eea26e-09b6-42c0-85a5-449d328e7842",
   "metadata": {},
   "outputs": [],
   "source": [
    "# We need the \"main\" wdl\n",
    "!cp gvs_wdls/GvsJointVariantCalling.wdl ."
   ]
  },
  {
   "cell_type": "code",
   "execution_count": null,
   "id": "835eccb2-fcd7-4952-b02c-155d2ce266d1",
   "metadata": {},
   "outputs": [],
   "source": [
    "!terra resource create bq-dataset --name={GVS_BQ_DATASET}"
   ]
  },
  {
   "cell_type": "markdown",
   "id": "6b4766bb-2abb-4e4a-974e-8397c14afc1d",
   "metadata": {},
   "source": [
    "## Build json input file"
   ]
  },
  {
   "cell_type": "code",
   "execution_count": null,
   "id": "27badfad-09fb-49d5-b45e-96f9db10bbf8",
   "metadata": {},
   "outputs": [],
   "source": [
    "# The gsutil ls call returns a list containing all the vcf.gz and vcf.gz.tbi files. Lets pull out all the vcf.gz files.\n",
    "input_source_list = !gsutil ls \"{INPUT_SOURCE}/**\"\n",
    "input_source_list = [input_source for input_source in input_source_list if input_source.endswith('vcf.gz')]"
   ]
  },
  {
   "cell_type": "code",
   "execution_count": null,
   "id": "aee843c9-c8a1-413c-b632-8a6e6d91d182",
   "metadata": {},
   "outputs": [],
   "source": [
    "input_vcfs = []\n",
    "input_vcf_indexes = []\n",
    "sample_names = []\n",
    "\n",
    "for vcf_path in input_source_list[:NUM_OF_INPUTS]:\n",
    "    sample_name = vcf_path.split('/')[-2]\n",
    "    input_vcfs.append(vcf_path)\n",
    "    input_vcf_indexes.append(f'{vcf_path}.tbi')\n",
    "    sample_names.append(sample_name)"
   ]
  },
  {
   "cell_type": "code",
   "execution_count": null,
   "id": "0e754d11-ae08-409d-9c11-1ba01a5b77ae",
   "metadata": {},
   "outputs": [],
   "source": [
    "input_dict = {\n",
    "    'GvsJointVariantCalling.input_vcfs': input_vcfs,\n",
    "    'GvsJointVariantCalling.call_set_identifier': CALLSET_IDENTIFIER,\n",
    "    'GvsJointVariantCalling.external_sample_names': sample_names,\n",
    "    'GvsJointVariantCalling.dataset_name': GVS_BQ_DATASET,\n",
    "    'GvsJointVariantCalling.input_vcf_indexes': input_vcf_indexes,\n",
    "    'GvsJointVariantCalling.project_id': GOOGLE_CLOUD_PROJECT\n",
    "}\n",
    "\n",
    "with open('gvs.inputs', 'w') as outfile:\n",
    "    json.dump(input_dict, outfile, indent=4)\n",
    "\n",
    "!head gvs.inputs"
   ]
  },
  {
   "cell_type": "markdown",
   "id": "d81fed90-e0b2-4ccc-9ec0-ef254e90da13",
   "metadata": {},
   "source": [
    "## Build Empty options file"
   ]
  },
  {
   "cell_type": "code",
   "execution_count": null,
   "id": "c83b1955-1583-4a72-9e1e-73522f629794",
   "metadata": {},
   "outputs": [],
   "source": [
    "with open('gvs_options.json', 'w') as outfile:\n",
    "    json.dump({}, outfile, indent=4)"
   ]
  },
  {
   "cell_type": "markdown",
   "id": "62e875d2-26b6-4a73-b31c-54772b64b591",
   "metadata": {},
   "source": [
    "## Submit job to server"
   ]
  },
  {
   "cell_type": "markdown",
   "id": "4b92da6e-f2a8-44c3-8697-ae2e81e36e9c",
   "metadata": {},
   "source": [
    "#### Submitting jobs with Cromshell\n",
    "\n",
    "[Cromshell](https://github.com/broadinstitute/cromshell) is a script for submitting workflows to a Cromwell server and monitoring / querying their results. Cromshell is preinstalled on Terra cloud environments.\n",
    "\n",
    "##### Configure the Cromshell host port\n",
    "\n",
    "Prior to use, Cromshell needs to know what host and port the Cromwell server is running on.\n",
    "\n",
    "Run the cell below to write the Cromshell server configuration file."
   ]
  },
  {
   "cell_type": "code",
   "execution_count": null,
   "id": "bbc8cdc4-85df-418d-be46-fbb7d95512ad",
   "metadata": {},
   "outputs": [],
   "source": [
    "%%bash\n",
    "\n",
    "mkdir -p ~/.cromshell\n",
    "\n",
    "echo 'localhost:8000' > ~/.cromshell/cromwell_server.config"
   ]
  },
  {
   "cell_type": "code",
   "execution_count": null,
   "id": "cbad5fee-b909-4ce3-8e6a-7ebd511ee0a2",
   "metadata": {},
   "outputs": [],
   "source": [
    "!cromshell submit GvsJointVariantCalling.wdl gvs.inputs gvs_options.json gvs_wdls.zip"
   ]
  },
  {
   "cell_type": "markdown",
   "id": "699b50b0-8bc1-4a45-9416-71b024d4a2c1",
   "metadata": {},
   "source": [
    "The following blocks of commented code are examples in Python and curl to do the same Cromwell submission.\n",
    "\n",
    "They are included here just for example."
   ]
  },
  {
   "cell_type": "code",
   "execution_count": null,
   "id": "167e3ac4-4c9b-4bc9-ba9a-aa0c053c1734",
   "metadata": {},
   "outputs": [],
   "source": [
    "# import requests\n",
    "\n",
    "# url = \"http://localhost:8000/api/workflows/v1\"\n",
    "\n",
    "# files = {\n",
    "#     'workflowSource': ('file', open(WDL_FILE, 'rb')),\n",
    "#     'workflowDependencies': ('file', open('gvs_wdls.zip', 'rb')),\n",
    "#     'workflowInputs': ('file', open('gvs.inputs', 'rb'))\n",
    "# }\n",
    "\n",
    "# headers = {\n",
    "#     'Accept': 'application/json'\n",
    "# }\n",
    "\n",
    "# response = requests.post(url, headers=headers, files=files)\n",
    "# response.content"
   ]
  },
  {
   "cell_type": "code",
   "execution_count": null,
   "id": "49b86da6-96cd-4538-a52e-e8b3edd45868",
   "metadata": {},
   "outputs": [],
   "source": [
    "# %%bash -s {WDL_FILE}\n",
    "\n",
    "# WDL_FILE=\"$1\"\n",
    "# curl -X POST --header \"Accept: application/json\"\\\n",
    "#     -v \"localhost:8000/api/workflows/v1\" \\\n",
    "#     -F workflowSource=@\"${WDL_FILE}\" \\\n",
    "#     -F workflowDependencies=@gvs_wdls.zip \\\n",
    "#     -F workflowInputs=@gvs.inputs"
   ]
  },
  {
   "cell_type": "markdown",
   "id": "df7ee263-992e-45f4-9050-c443bcb4f50c",
   "metadata": {},
   "source": [
    "### Check status of job"
   ]
  },
  {
   "cell_type": "code",
   "execution_count": null,
   "id": "6c3604b9-312c-4885-b780-d32b44bece02",
   "metadata": {},
   "outputs": [],
   "source": [
    "!cromshell status"
   ]
  },
  {
   "cell_type": "code",
   "execution_count": null,
   "id": "edbdf38a-153b-4c67-b6a3-535d4f9e6004",
   "metadata": {},
   "outputs": [],
   "source": [
    "!tail -n 5 {CROMWELL_SERVER_LOG}"
   ]
  },
  {
   "cell_type": "markdown",
   "id": "62c6c79f-de71-4db0-962a-d79826caffef",
   "metadata": {},
   "source": [
    "# Observe Cromwell output"
   ]
  },
  {
   "cell_type": "code",
   "execution_count": null,
   "id": "9e95e908-af73-45d9-b742-44f21310ac63",
   "metadata": {},
   "outputs": [],
   "source": [
    "!cromshell list-outputs > gvs_output_list.txt"
   ]
  },
  {
   "cell_type": "code",
   "execution_count": null,
   "id": "31229611-80cc-43ec-b460-091fb618dbf8",
   "metadata": {},
   "outputs": [],
   "source": [
    "!grep CreateManifest/manifest.txt gvs_output_list.txt"
   ]
  }
 ],
 "metadata": {
  "environment": {
   "kernel": "python3",
   "name": "r-cpu.4-2.m104",
   "type": "gcloud",
   "uri": "gcr.io/deeplearning-platform-release/r-cpu.4-2:m104"
  },
  "kernelspec": {
   "display_name": "Python 3",
   "language": "python",
   "name": "python3"
  },
  "language_info": {
   "codemirror_mode": {
    "name": "ipython",
    "version": 3
   },
   "file_extension": ".py",
   "mimetype": "text/x-python",
   "name": "python",
   "nbconvert_exporter": "python",
   "pygments_lexer": "ipython3",
   "version": "3.7.12"
  }
 },
 "nbformat": 4,
 "nbformat_minor": 5
}
