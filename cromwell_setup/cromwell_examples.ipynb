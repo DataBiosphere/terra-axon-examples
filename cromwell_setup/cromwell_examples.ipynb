{
 "cells": [
  {
   "cell_type": "markdown",
   "id": "bd177798",
   "metadata": {
    "tags": []
   },
   "source": [
    "# Cromwell in Terra"
   ]
  },
  {
   "cell_type": "markdown",
   "id": "7d3e1fba",
   "metadata": {
    "tags": []
   },
   "source": [
    "## Introduction"
   ]
  },
  {
   "cell_type": "markdown",
   "id": "61d34c2a",
   "metadata": {
    "jp-MarkdownHeadingCollapsed": true,
    "tags": []
   },
   "source": [
    "### What is Cromwell?\n",
    "Cromwell is a Workflow Management System geared toward scientific workflows. \n",
    "\n",
    "More information and additional examples can be found in the [Cromwell documentation](https://cromwell.readthedocs.io/en/stable/).\n",
    "\n",
    "### About this notebook\n",
    "\n",
    "This notebook is intended to demonstrate how you can use the Cromwell engine on Terra to execute and manage workflows. Setup instructions are provided, along with examples of commands to submit workflows, check a job's status, list jobs, and examine output.\n",
    "\n",
    "Note that all of the commands demonstrated here are shell commands, which you can also run from a command-line such as a Jupyter terminal."
   ]
  },
  {
   "cell_type": "markdown",
   "id": "1af2b88e-cda8-4e94-935c-02f7a51f3430",
   "metadata": {},
   "source": [
    "### Notebook setup"
   ]
  },
  {
   "cell_type": "markdown",
   "id": "06544a3c-37ed-43cd-8b9f-34909da0e2f2",
   "metadata": {},
   "source": [
    "#### Set up utility functions"
   ]
  },
  {
   "cell_type": "code",
   "execution_count": null,
   "id": "51ed589c-2918-4b13-b10d-5d7b90f44289",
   "metadata": {},
   "outputs": [],
   "source": [
    "'''\n",
    "Resolves bucket URL from bucket reference in workspace.\n",
    "'''\n",
    "def get_bucket_url_from_reference(bucket_reference):\n",
    "    BUCKET_CMD_OUTPUT = !terra resolve --name={bucket_reference}\n",
    "    BUCKET = BUCKET_CMD_OUTPUT[0]\n",
    "    return BUCKET"
   ]
  },
  {
   "attachments": {},
   "cell_type": "markdown",
   "id": "50dd37b1",
   "metadata": {
    "tags": []
   },
   "source": [
    "#### Workspace setup\n",
    "<div class=\"alert alert-block alert-info\">\n",
    "<b>Note:</b> This notebook assumes that `workspace_setup.ipynb` and `cloud_env_setup.ipynb` in the parent directory have been run. \n",
    "</div>\n",
    "    \n",
    "`workspace_setup.ipynb` creates two Cloud Storage buckets for your workspace files with workspace reference names: \n",
    "\n",
    " - ws_files   \n",
    " - ws_files_autodelete_after_two_weeks      \n",
    "    \n",
    "The code in this notebook will write output files to the \"autodelete\" bucket by default.  \n",
    "    Any file in this bucket will be automatically deleted <b>two weeks</b> after it is written.  \n",
    "    This alleviates the need for you to remember to clean up temporary and example files manually.  \n",
    "    If you want to write outputs to a durable location, simply change the assignment of the `BUCKET_REFERENCE` variable in the cell below and re-run the notebook. "
   ]
  },
  {
   "cell_type": "code",
   "execution_count": null,
   "id": "9f48ea42",
   "metadata": {},
   "outputs": [],
   "source": [
    "# Change this to \"ws_files\" to use the durable workspace bucket instead of the autodelete bucket.\n",
    "BUCKET_REFERENCE = \"ws_files_autodelete_after_two_weeks\""
   ]
  },
  {
   "cell_type": "code",
   "execution_count": null,
   "id": "60e9a27f-fcf8-4b5a-81d2-83d2ecd6934d",
   "metadata": {},
   "outputs": [],
   "source": [
    "MY_BUCKET = get_bucket_url_from_reference(BUCKET_REFERENCE)\n",
    "print(f'Bucket ID: {MY_BUCKET}')"
   ]
  },
  {
   "cell_type": "markdown",
   "id": "b01c7eec-e88d-4731-b04b-23e246c6f368",
   "metadata": {
    "tags": []
   },
   "source": [
    "#### Cloud environment setup\n",
    "\n",
    "The notebooks in this workspace create a few files on your cloud environment. For clarity and to ease cleanup after\n",
    "running the tutorials, the notebooks will write, by default to a well-defined location as determined by the\n",
    "`CROMWELL_EXAMPLES_DIR`. You are free to change this location to suit your own use cases."
   ]
  },
  {
   "cell_type": "code",
   "execution_count": null,
   "id": "f978a1d7-c8f5-4390-b846-839cc7571129",
   "metadata": {},
   "outputs": [],
   "source": [
    "import os\n",
    "\n",
    "CROMWELL_EXAMPLES_DIR=os.path.expanduser('~/terra-tutorials/cromwell')\n",
    "CROMWELL_CONF=f'{CROMWELL_EXAMPLES_DIR}/cromwell.runmode.conf'\n",
    "\n",
    "HELLO_WORLD_INPUTS_JSON=f'{CROMWELL_EXAMPLES_DIR}/hello_world.inputs.json'\n",
    "SAMPLE_INPUTS_JSON=f'{CROMWELL_EXAMPLES_DIR}/sample.inputs.json'\n",
    "\n",
    "RUNMODE_LOG=f'{CROMWELL_EXAMPLES_DIR}/cromwell.run.log'\n",
    "\n",
    "!mkdir -p {CROMWELL_EXAMPLES_DIR}\n",
    "\n",
    "print(f'Tutorial files will be written locally to {CROMWELL_EXAMPLES_DIR}')\n",
    "print()\n",
    "print(f'Cromwell configuration file will be written to {CROMWELL_CONF}')\n",
    "print(f'Cromwell hello-world input JSON file will be written to {HELLO_WORLD_INPUTS_JSON}')\n",
    "print(f'Cromwell runmode log file will be written to {RUNMODE_LOG}')\n",
    "print(f'Cromwell samples input JSON file will be written to {SAMPLE_INPUTS_JSON}')"
   ]
  },
  {
   "cell_type": "markdown",
   "id": "8c862cd8",
   "metadata": {
    "tags": []
   },
   "source": [
    "## `Cromwell` configuration"
   ]
  },
  {
   "cell_type": "markdown",
   "id": "b5c02c32",
   "metadata": {},
   "source": [
    "### Do I need to install `Cromwell` or other dependencies in my Terra workspace?\n",
    "\n",
    "The Cromwell (Java) JAR file is installed on Terra cloud environments by default, so you don't need to install anything to complete the exercises in this notebook."
   ]
  },
  {
   "cell_type": "markdown",
   "id": "52c204b5",
   "metadata": {
    "jp-MarkdownHeadingCollapsed": true,
    "tags": []
   },
   "source": [
    "### Modes of execution\n",
    "\n",
    "`Cromwell` has [two execution modes](https://cromwell.readthedocs.io/en/stable/Modes): [*run mode*](#run_mode) and [*server mode*](#server_mode). We will execute the same \"Hello World\" WDL workflow in both run mode and server mode to observe the differences.\n",
    "\n",
    "#### Run mode<a id=\"run_mode\"></a>\n",
    "\n",
    "Run mode is most useful for executing a single instance of a workflow for development, testing, and demos. A job executed in run mode launches a single workflow from the command line. That command executes synchronously; it stays running until the workflow exits. \n",
    "\n",
    "#### Server mode<a id=\"server_mode\"></a>\n",
    "\n",
    "Server mode is suitable for production use and scaling up the number of concurrent jobs. `Cromwell` in server mode exposes a REST API endpoint that accepts requests for job submission, monitoring and control."
   ]
  },
  {
   "cell_type": "markdown",
   "id": "82275198",
   "metadata": {
    "tags": []
   },
   "source": [
    "## Run a simple `Cromwell` job"
   ]
  },
  {
   "cell_type": "markdown",
   "id": "671fa388",
   "metadata": {},
   "source": [
    "Run the cell below to output the contents of `helloWorld.wdl`, the WDL file for the first workflow we will run.\n",
    "\n",
    "This workflow has no file input, but instead just accepts a string input parameter `name`."
   ]
  },
  {
   "cell_type": "code",
   "execution_count": null,
   "id": "ff072bb9",
   "metadata": {},
   "outputs": [],
   "source": [
    "!cat workflows/wdl/helloWorld.wdl"
   ]
  },
  {
   "cell_type": "markdown",
   "id": "03d0795a",
   "metadata": {},
   "source": [
    "#### Provide inputs\n",
    "\n",
    "WDL supports the specification of complex inputs, including (but not limited to)\n",
    "`String`s, `Integer`s, `File`s, and `Array`s. These complex inputs are provided in\n",
    "a JSON file, frequently refered to as the `inputs.json`.\n",
    "\n",
    "Run the cell below to create an input file `hello_world_inputs.json` which sets\n",
    "the input `name` to your Terra user email."
   ]
  },
  {
   "cell_type": "code",
   "execution_count": null,
   "id": "171d7096",
   "metadata": {},
   "outputs": [],
   "source": [
    "import os\n",
    "import json\n",
    "\n",
    "# Get Terra user email from environment.\n",
    "MY_USER_EMAIL = os.environ['TERRA_USER_EMAIL']\n",
    "\n",
    "# Create an input file with the \n",
    "data = {\"hello_world.name\" : f\"{MY_USER_EMAIL}\"}\n",
    "with open (HELLO_WORLD_INPUTS_JSON, 'w') as json_file:\n",
    "    json.dump(data, json_file, indent=2)"
   ]
  },
  {
   "cell_type": "markdown",
   "id": "f1d76317-2b42-4cec-9994-a555ffb1077e",
   "metadata": {},
   "source": [
    "Let's see the contents of the `hello_world_input.json`"
   ]
  },
  {
   "cell_type": "code",
   "execution_count": null,
   "id": "e0471f57-5373-4459-9498-da60f6ea9ed2",
   "metadata": {},
   "outputs": [],
   "source": [
    "!cat {HELLO_WORLD_INPUTS_JSON}"
   ]
  },
  {
   "cell_type": "markdown",
   "id": "630ea9f4",
   "metadata": {
    "tags": []
   },
   "source": [
    "### Run a job in run mode\n",
    "\n",
    "The following command will run the `helloWorld.wdl` example, with the inputs file that you just created. The logging output of this command will be written to a log file."
   ]
  },
  {
   "cell_type": "code",
   "execution_count": null,
   "id": "98b0cf7e",
   "metadata": {},
   "outputs": [],
   "source": [
    "%%bash -s {HELLO_WORLD_INPUTS_JSON} {RUNMODE_LOG}\n",
    "\n",
    "HELLO_WORLD_INPUTS_JSON=\"$1\"\n",
    "RUNMODE_LOG=\"$2\"\n",
    "\n",
    "java -jar $CROMWELL_JAR \\\n",
    "  run \\\n",
    "  workflows/wdl/helloWorld.wdl \\\n",
    "  --inputs \"${HELLO_WORLD_INPUTS_JSON}\" \\\n",
    "  &> \"${RUNMODE_LOG}\"\n"
   ]
  },
  {
   "cell_type": "markdown",
   "id": "0cbc99e7",
   "metadata": {},
   "source": [
    "#### View results\n",
    "\n",
    "Run the command in the cell below to view the final logging statements in \n",
    "`cromwell.run.log`. The message should include something similar to:\n",
    "\n",
    "```\n",
    "a3d613 [50891a9e]: Workflow myWorkflow complete. Final Outputs:\n",
    "{\n",
    "  \"myWorkflow.myTask.out\": \"hello world\"\n",
    "}\n",
    "[2022-11-03 16:57:30,98] [info] WorkflowManagerActor: Workflow actor for 50891a9e-6493-4c38-9e5e-37ff1da3d613 completed with status 'Succeeded'. The workflow will be removed from the workflow store.\n",
    "[2022-11-03 16:57:36,24] [info] SingleWorkflowRunnerActor workflow finished with status 'Succeeded'.\n",
    "{\n",
    "  \"outputs\": {\n",
    "    \"myWorkflow.myTask.out\": \"hello world\"\n",
    "  },\n",
    "  \"id\": \"50891a9e-6493-4c38-9e5e-37ff1da3d613\"\n",
    "}\n",
    "```"
   ]
  },
  {
   "cell_type": "code",
   "execution_count": null,
   "id": "01b25a54",
   "metadata": {},
   "outputs": [],
   "source": [
    "!tail --lines=50 {RUNMODE_LOG}"
   ]
  },
  {
   "cell_type": "markdown",
   "id": "7abf2fd0",
   "metadata": {
    "tags": []
   },
   "source": [
    "### Run a job in server mode\n",
    "\n",
    "To submit, monitor, and cancel workflow jobs using `Cromwell` in *server mode*, we recommend using the `cromshell` command line interface tool. For more information about `cromshell`, check out its [documentation](https://github.com/broadinstitute/cromshell/tree/cromshell_2.0).\n",
    "\n",
    "<div class=\"alert alert-block alert-info\">\n",
    "<b>Note:</b>\n",
    "You'll need to launch a Cromwell server before submitting any jobs in server mode by running the cromwell_server_management.ipynb</a> notebook in this directory.\n",
    "</div>"
   ]
  },
  {
   "cell_type": "markdown",
   "id": "d6bf8ba7",
   "metadata": {},
   "source": [
    "#### Submitting jobs with Cromshell\n",
    "\n",
    "[Cromshell](https://github.com/broadinstitute/cromshell) is a script for submitting workflows to a Cromwell server and monitoring / querying their results. Cromshell is preinstalled on Terra cloud environments."
   ]
  },
  {
   "cell_type": "markdown",
   "id": "3c2e0c10-5e3c-4da1-ad90-39603dac414d",
   "metadata": {
    "tags": []
   },
   "source": [
    "##### Configure the Cromshell host port\n",
    "\n",
    "Prior to use, Cromshell needs to know what host and port the Cromwell server is running on.\n",
    "\n",
    "Run the cell below to write the Cromshell server configuration file."
   ]
  },
  {
   "cell_type": "code",
   "execution_count": null,
   "id": "403d650c-d8c6-4253-a39c-92ef3f028e7f",
   "metadata": {},
   "outputs": [],
   "source": [
    "%%bash\n",
    "\n",
    "mkdir -p ~/.cromshell\n",
    "\n",
    "echo 'localhost:8000' > ~/.cromshell/cromwell_server.config"
   ]
  },
  {
   "cell_type": "markdown",
   "id": "2e137d8b-9783-447e-9d30-b016255be3d7",
   "metadata": {},
   "source": [
    "##### Submit a job!"
   ]
  },
  {
   "cell_type": "code",
   "execution_count": null,
   "id": "c4b223e1",
   "metadata": {
    "tags": []
   },
   "outputs": [],
   "source": [
    "%%bash -s {HELLO_WORLD_INPUTS_JSON}\n",
    "\n",
    "HELLO_WORLD_INPUTS_JSON=\"$1\"\n",
    "\n",
    "cromshell submit \\\n",
    "  workflows/wdl/helloWorld.wdl \\\n",
    "  \"${HELLO_WORLD_INPUTS_JSON}\""
   ]
  },
  {
   "cell_type": "markdown",
   "id": "1986f6c3",
   "metadata": {
    "tags": []
   },
   "source": [
    "#### Check workflow status\n",
    "\n",
    "Run the cell below to check the status of the workflow. If no job ID is provided, `cromshell status` will return the status of the job most recently submitted. The workflow execution is saved to `cromwell-execution/test`, where `test` is the defined name of the workflow in the WDL file.\n",
    "\n",
    "At first, the status of the job should be \"Running\". Run the cell below again after about 30 seconds; the status of the job should change to \"Succeeded\"."
   ]
  },
  {
   "cell_type": "code",
   "execution_count": null,
   "id": "ed6feda7",
   "metadata": {},
   "outputs": [],
   "source": [
    "!cromshell status"
   ]
  },
  {
   "cell_type": "markdown",
   "id": "8f430197",
   "metadata": {},
   "source": [
    "#### View previous jobs\n",
    "\n",
    "Optional: view a list of previous `Cromwell` jobs by running the cell below. The `-c` flag will produce outputs color-coded by status (green for success, red for failure, blue for currently running)."
   ]
  },
  {
   "cell_type": "code",
   "execution_count": null,
   "id": "37bc63d2",
   "metadata": {},
   "outputs": [],
   "source": [
    "!cromshell list -c"
   ]
  },
  {
   "cell_type": "markdown",
   "id": "9e7bb316",
   "metadata": {},
   "source": [
    "## Set up and run a workflow to analyze a single sample"
   ]
  },
  {
   "cell_type": "markdown",
   "id": "c8ce3e04",
   "metadata": {},
   "source": [
    "### Populate workflow configuration"
   ]
  },
  {
   "cell_type": "markdown",
   "id": "f6e744fc",
   "metadata": {},
   "source": [
    "Run the cell below to resolve the addresses of workspace resources and save them to Python variables for convenience."
   ]
  },
  {
   "cell_type": "code",
   "execution_count": null,
   "id": "006cb915",
   "metadata": {},
   "outputs": [],
   "source": [
    "CRAM_URLS = !terra resource resolve --name='cram-folder'\n",
    "print(CRAM_URLS)\n",
    "CRAM_RESOURCE_URL=CRAM_URLS[0]\n",
    "\n",
    "REF_URLS = !terra resource resolve --name='ref-folder'\n",
    "REF_RESOURCE_URL=REF_URLS[0]"
   ]
  },
  {
   "cell_type": "markdown",
   "id": "6546563c",
   "metadata": {},
   "source": [
    "Run the cell below to create an input file `inputs.json`."
   ]
  },
  {
   "cell_type": "code",
   "execution_count": null,
   "id": "71711d64",
   "metadata": {},
   "outputs": [],
   "source": [
    "import json\n",
    "\n",
    "data = { \n",
    "    \"CramToBamFlow.CramToBamTask.InputCram\":f'{CRAM_RESOURCE_URL}/NA12878.cram',\n",
    "        \"CramToBamFlow.CramToBamTask.RefDict\":f'{REF_RESOURCE_URL}/Homo_sapiens_assembly38.dict',\n",
    "        \"CramToBamFlow.CramToBamTask.RefFasta\":f'{REF_RESOURCE_URL}/Homo_sapiens_assembly38.fasta',\n",
    "        \"CramToBamFlow.CramToBamTask.RefIndex\":f'{REF_RESOURCE_URL}/Homo_sapiens_assembly38.fasta.fai',\n",
    "        \"CramToBamFlow.CramToBamTask.SampleName\":\"NA12878\",\n",
    "        \"CramToBamFlow.ValidateSamFile.preemptible_tries\":\"3\",\n",
    "        \"CramToBamFlow.cram_to_bam_disk_size\":\"200\",\n",
    "        \"CramToBamFlow.cram_to_bam_mem_size\":\"15 GB\",\n",
    "        \"CramToBamFlow.validate_sam_file_disk_size\":\"200\",\n",
    "        \"CramToBamFlow.validate_sam_file_mem_size\":\"3500 MB\"\n",
    "}\n",
    "\n",
    "for d in data:\n",
    "    print(f\"{d}: {data[d]}\")\n",
    "\n",
    "with open (SAMPLE_INPUTS_JSON, 'w') as json_file:\n",
    "    json.dump(data, json_file)"
   ]
  },
  {
   "cell_type": "code",
   "execution_count": null,
   "id": "807e1c0d",
   "metadata": {},
   "outputs": [],
   "source": [
    "!cromshell submit workflows/wdl/cramToBam.wdl {SAMPLE_INPUTS_JSON}"
   ]
  },
  {
   "cell_type": "markdown",
   "id": "314f64b8",
   "metadata": {},
   "source": [
    "#### Check workflow status\n",
    "\n",
    "\n",
    "Run the cell below to check your job's status.<br>Your job should progress from 'Submitted' to 'Running' in about fifteen seconds.<br>After a few minutes, your job's status progress to 'Succeeded'. "
   ]
  },
  {
   "cell_type": "code",
   "execution_count": null,
   "id": "21f75e24",
   "metadata": {},
   "outputs": [],
   "source": [
    "!cromshell status"
   ]
  },
  {
   "cell_type": "markdown",
   "id": "5002da99",
   "metadata": {},
   "source": [
    "#### View workflow logs\n",
    "\n",
    "\n",
    "Run the cell below to check your job's status. It may take around 30 seconds for your job's status to switch from 'Submitted' to 'Succeeded'. "
   ]
  },
  {
   "cell_type": "code",
   "execution_count": null,
   "id": "c290bd8a",
   "metadata": {},
   "outputs": [],
   "source": [
    "!cromshell logs"
   ]
  },
  {
   "cell_type": "markdown",
   "id": "14b3e9da",
   "metadata": {},
   "source": [
    "## Provenance"
   ]
  },
  {
   "cell_type": "code",
   "execution_count": null,
   "id": "a4abf0ce",
   "metadata": {},
   "outputs": [],
   "source": [
    "!date"
   ]
  },
  {
   "cell_type": "code",
   "execution_count": null,
   "id": "78d29cdf",
   "metadata": {},
   "outputs": [],
   "source": [
    "!conda env export"
   ]
  },
  {
   "cell_type": "code",
   "execution_count": null,
   "id": "0b1ba110",
   "metadata": {},
   "outputs": [],
   "source": [
    "!jupyter labextension list"
   ]
  }
 ],
 "metadata": {
  "environment": {
   "kernel": "python3",
   "name": "r-cpu.4-2.m103",
   "type": "gcloud",
   "uri": "gcr.io/deeplearning-platform-release/r-cpu.4-2:m103"
  },
  "kernelspec": {
   "display_name": "Python 3",
   "language": "python",
   "name": "python3"
  },
  "language_info": {
   "codemirror_mode": {
    "name": "ipython",
    "version": 3
   },
   "file_extension": ".py",
   "mimetype": "text/x-python",
   "name": "python",
   "nbconvert_exporter": "python",
   "pygments_lexer": "ipython3",
   "version": "3.7.12"
  },
  "toc-autonumbering": false,
  "toc-showmarkdowntxt": false
 },
 "nbformat": 4,
 "nbformat_minor": 5
}
