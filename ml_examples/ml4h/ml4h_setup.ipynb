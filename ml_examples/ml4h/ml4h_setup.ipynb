{
 "cells": [
  {
   "cell_type": "markdown",
   "id": "26562ea3-414f-4490-acc0-a69a3e4ae25d",
   "metadata": {},
   "source": [
    "## Installation option for the ML4H notebook examples\n",
    "\n",
    "As an alternative to creating a notebook environment from a custom container, you can try running these installs first, before opening any of the example notebooks. "
   ]
  },
  {
   "cell_type": "code",
   "execution_count": null,
   "id": "47e857ce-4124-45e6-998a-f5415e7f7177",
   "metadata": {
    "scrolled": true,
    "tags": []
   },
   "outputs": [],
   "source": [
    "!pip install ml4h"
   ]
  },
  {
   "cell_type": "code",
   "execution_count": null,
   "id": "fcbc6959-39c2-4b1d-b2e0-d6277e274026",
   "metadata": {},
   "outputs": [],
   "source": [
    "!pip install numcodecs pydicom nibabel biosppy"
   ]
  },
  {
   "cell_type": "code",
   "execution_count": null,
   "id": "869dabc2-62e8-40e5-9cec-e3d51d041a2c",
   "metadata": {},
   "outputs": [],
   "source": [
    "!pip install tensorflow_addons"
   ]
  },
  {
   "cell_type": "code",
   "execution_count": null,
   "id": "9c9d45a4-8de6-4daa-bd7f-d3dc9c867021",
   "metadata": {},
   "outputs": [],
   "source": [
    "!conda install graphviz -y"
   ]
  },
  {
   "cell_type": "code",
   "execution_count": null,
   "id": "8b23df25-389c-4458-bdfd-6eb0ff2e2be0",
   "metadata": {},
   "outputs": [],
   "source": [
    "!pip install torch==1.13.1"
   ]
  },
  {
   "cell_type": "code",
   "execution_count": null,
   "id": "73829ecf-c2c0-4435-bc02-b2d64c812062",
   "metadata": {},
   "outputs": [],
   "source": [
    "!pip install ml4ht==0.0.10"
   ]
  }
 ],
 "metadata": {
  "environment": {
   "kernel": "python3",
   "name": "tf2-gpu.2-11.m109",
   "type": "gcloud",
   "uri": "gcr.io/deeplearning-platform-release/tf2-gpu.2-11:m109"
  },
  "kernelspec": {
   "display_name": "Python 3 (ipykernel)",
   "language": "python",
   "name": "python3"
  },
  "language_info": {
   "codemirror_mode": {
    "name": "ipython",
    "version": 3
   },
   "file_extension": ".py",
   "mimetype": "text/x-python",
   "name": "python",
   "nbconvert_exporter": "python",
   "pygments_lexer": "ipython3",
   "version": "3.11.6"
  }
 },
 "nbformat": 4,
 "nbformat_minor": 5
}
