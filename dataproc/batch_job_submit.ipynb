{
 "cells": [
  {
   "cell_type": "markdown",
   "id": "2270458e-f891-4656-9a15-d05f018abd9f",
   "metadata": {},
   "source": [
    "# Batch job submission\n",
    "\n",
    "This notebook shows how you can submit a Dataproc batch job. The job script is based on the `annotate_significant_gwas_results_with_gnomad.ipynb` notebook, converted to a Python script."
   ]
  },
  {
   "cell_type": "markdown",
   "id": "dccbcf65-d30d-4bf0-a07c-ba526d1f1539",
   "metadata": {},
   "source": [
    "First, derive the staging bucket GCS URI from its known resource name (which is based on the workspace ID), using the `terra` CLI:"
   ]
  },
  {
   "cell_type": "code",
   "execution_count": null,
   "id": "0a1973c8-ffa7-4dc8-8b2d-6474cd693981",
   "metadata": {},
   "outputs": [],
   "source": [
    "ws_id_list = !terra workspace describe --format=JSON | jq '.id'\n",
    "WORKSPACE_ID = ws_id_list[0]\n",
    "print(WORKSPACE_ID)"
   ]
  },
  {
   "cell_type": "code",
   "execution_count": null,
   "id": "f971680e-dd90-4d22-8fe5-0bd51da9d858",
   "metadata": {},
   "outputs": [],
   "source": [
    "STAGING_BUCKET_CMD_OUTPUT = !terra resolve --name=dataproc-staging-{WORKSPACE_ID}\n",
    "STAGING_BUCKET = STAGING_BUCKET_CMD_OUTPUT[0]\n",
    "print(STAGING_BUCKET)"
   ]
  },
  {
   "cell_type": "markdown",
   "id": "35071c66-3f57-4d05-b4ee-64f9920db33b",
   "metadata": {},
   "source": [
    "Convert the `annotate_significant_gwas_results_with_gnomad.ipynb` notebook to a python script:"
   ]
  },
  {
   "cell_type": "code",
   "execution_count": null,
   "id": "a21b091c-c7b9-4e58-a355-0019f82f2562",
   "metadata": {},
   "outputs": [],
   "source": [
    "!jupyter nbconvert --to script annotate_significant_gwas_results_with_gnomad.ipynb"
   ]
  },
  {
   "cell_type": "markdown",
   "id": "9a1d5982-1385-4e78-b0d3-34a893eb3f9d",
   "metadata": {},
   "source": [
    "Next, temporarily work around an issue invoking `terra` CLI commands from this script.  \n",
    "Trim the part of the code from the notebook that derives the `STAGING_BUCKET`, and instead replace the `STAGING_BUCKET`'s value in the script."
   ]
  },
  {
   "cell_type": "code",
   "execution_count": null,
   "id": "c562f3b7-b447-4b0b-9d1b-0ddf1c7de689",
   "metadata": {},
   "outputs": [],
   "source": [
    "!cp annotate_significant_gwas_results_with_gnomad.py annotate_significant_gwas_results_with_gnomad_ORIG.py"
   ]
  },
  {
   "cell_type": "code",
   "execution_count": null,
   "id": "2389c7e1-c376-4fe9-8668-b25e370efc38",
   "metadata": {},
   "outputs": [],
   "source": [
    "with open('annotate_significant_gwas_results_with_gnomad_ORIG.py', 'rt') as fin:\n",
    "    with open('annotate_significant_gwas_results_with_gnomad.py', 'wt') as fout:\n",
    "        excised_section = False\n",
    "        for line in fin:\n",
    "            if \"### terra-cli begin\" in line:\n",
    "                excised_section = True\n",
    "            elif \"### terra-cli end\" in line:\n",
    "                excised_section = False\n",
    "            elif excised_section:\n",
    "                continue\n",
    "            else:\n",
    "              fout.write(line.replace(\"STAGING_BUCKET\",\n",
    "                                      f\"'{STAGING_BUCKET}'\"))"
   ]
  },
  {
   "cell_type": "markdown",
   "id": "762ede81-4b37-40e4-b5c4-40ed2ef141df",
   "metadata": {},
   "source": [
    "## Submit the batch job\n",
    "\n",
    "**Edit the following cell with the ID of your Dataproc cluster**. \n",
    "\n",
    "Then run the cell to submit the batch job. You can monitor the running job via its output, or by visiting https://console.cloud.google.com/dataproc/jobs ."
   ]
  },
  {
   "cell_type": "code",
   "execution_count": null,
   "id": "517a6513-4768-4960-8215-035e124ac1c9",
   "metadata": {
    "scrolled": true,
    "tags": []
   },
   "outputs": [],
   "source": [
    "!gcloud dataproc jobs submit pyspark --cluster <YOUR_CLUSTER_ID> --region us-central1 \\\n",
    "    annotate_significant_gwas_results_with_gnomad.py"
   ]
  },
  {
   "cell_type": "markdown",
   "id": "1f78969e-ca3d-4eb4-ba46-3450e122408d",
   "metadata": {},
   "source": [
    "## Provenance\n",
    "\n",
    "Generate information about this notebook environment and the packages installed."
   ]
  },
  {
   "cell_type": "code",
   "execution_count": null,
   "id": "4bf15da2-7348-4f9b-aba7-271f22cbc5d0",
   "metadata": {},
   "outputs": [],
   "source": [
    "!date\n"
   ]
  },
  {
   "cell_type": "markdown",
   "id": "105d9bee-518a-4e19-8040-f7338eb1e9cc",
   "metadata": {},
   "source": [
    "Conda and pip installed packages:"
   ]
  },
  {
   "cell_type": "code",
   "execution_count": null,
   "id": "05a80f6f-5117-4a1a-833a-b2449632ccbe",
   "metadata": {},
   "outputs": [],
   "source": [
    "!conda env export\n"
   ]
  },
  {
   "cell_type": "markdown",
   "id": "800c0048-b56d-4e63-9cb0-d5bc2682747b",
   "metadata": {},
   "source": [
    "JupyterLab extensions:"
   ]
  },
  {
   "cell_type": "code",
   "execution_count": null,
   "id": "58a718c5-0359-46ca-9412-b9f1cf54d173",
   "metadata": {},
   "outputs": [],
   "source": [
    "!jupyter labextension list\n"
   ]
  },
  {
   "cell_type": "markdown",
   "id": "1cf28215-d7c0-4dd6-b894-480597fb5aaf",
   "metadata": {},
   "source": [
    "Number of cores:"
   ]
  },
  {
   "cell_type": "code",
   "execution_count": null,
   "id": "0d4b5ecf-146f-48a5-a67a-22f9a5629263",
   "metadata": {},
   "outputs": [],
   "source": [
    "!grep ^processor /proc/cpuinfo | wc -l\n"
   ]
  },
  {
   "cell_type": "markdown",
   "id": "16198589-1532-4efd-9a4f-e4d18eea3553",
   "metadata": {},
   "source": [
    "Memory:"
   ]
  },
  {
   "cell_type": "code",
   "execution_count": null,
   "id": "8e42884b-4162-4da6-9257-9be649407254",
   "metadata": {},
   "outputs": [],
   "source": [
    "!grep \"^MemTotal:\" /proc/meminfo"
   ]
  },
  {
   "cell_type": "markdown",
   "id": "d9ba8c3a-7cde-416b-afad-e92f4ba7e072",
   "metadata": {},
   "source": [
    "---\n",
    "Copyright 2023 Verily Life Sciences LLC\n",
    "\n",
    "Use of this source code is governed by a BSD-style  \n",
    "license that can be found in the LICENSE file or at  \n",
    "https://developers.google.com/open-source/licenses/bsd"
   ]
  }
 ],
 "metadata": {
  "kernelspec": {
   "display_name": "Python 3",
   "language": "python",
   "name": "python3"
  },
  "language_info": {
   "codemirror_mode": {
    "name": "ipython",
    "version": 3
   },
   "file_extension": ".py",
   "mimetype": "text/x-python",
   "name": "python",
   "nbconvert_exporter": "python",
   "pygments_lexer": "ipython3",
   "version": "3.10.8"
  }
 },
 "nbformat": 4,
 "nbformat_minor": 5
}
