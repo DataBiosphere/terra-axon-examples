{
 "cells": [
  {
   "cell_type": "markdown",
   "metadata": {},
   "source": [
    "# Annotate significant GWAS results with gnomAD\n",
    "\n",
    "<table align=\"left\">\n",
    "\n",
    "  <td>\n",
    "    <a href=\"https://github.com/DataBiosphere/terra-axon-examples/blob/main/dataproc/annotate_significant_gwas_results_with_gnomad.ipynb\">\n",
    "      <img src=\"https://cloud.google.com/ml-engine/images/github-logo-32px.png\" alt=\"GitHub logo\">\n",
    "      View on GitHub\n",
    "    </a>\n",
    "  </td>\n",
    "  <td>\n",
    "    <a href=\"https://console.cloud.google.com/vertex-ai/workbench/deploy-notebook?download_url=https://raw.githubusercontent.com/DataBiosphere/terra-axon-examples/main/dataproc/annotate_significant_gwas_results_with_gnomad.ipynb\">\n",
    "      <img src=\"https://lh3.googleusercontent.com/UiNooY4LUgW_oTvpsNhPpQzsstV5W8F7rYgxgGBD85cWJoLmrOzhVs_ksK_vgx40SHs7jCqkTkCk=e14-rj-sc0xffffff-h130-w32\" alt=\"Vertex AI logo\">\n",
    "      Open in a Terra notebook instance\n",
    "    </a>\n",
    "  </td>                                                                                               \n",
    "</table>"
   ]
  },
  {
   "cell_type": "markdown",
   "metadata": {},
   "source": [
    "In this notebook, we use [Hail](https://hail.is/) to annotate the significant GWAS results with [gnomAD](https://gnomad.broadinstitute.org/).\n",
    "\n",
    "GWAS results from *\"Whole genome sequence analysis of blood lipid levels in >66,000 individuals. [Selvaraj et al 2021](https://www.biorxiv.org/content/10.1101/2021.10.11.463514v1.supplementary-material)\"* are used. There are only 338 significant LDL results to annotate, so it might be faster to annotate using a tool other than Hail, but this notebook is meant to be illustrative.\n",
    "\n",
    "The gnomAD table is enormous and this notebook makes use of [filter_intervals](https://hail.is/docs/0.2/methods/genetics.html#hail.methods.filter_intervals) to remove irrelevant gnomAD data partitions from the analysis.\n",
    "* If you want this notebook to run quickly (~5 min), be sure to set `INTERVALS_TO_EXAMINE` to a small region of the genome such as APOE.\n",
    "* If you want this notebook to run for a while (~30 minutes), set `INTERVALS_TO_EXAMINE` to include all autosomes.\n",
    "\n",
    "If you want to run this notebook in batch mode as a script, in the terminal run `jupyter nbconvert --to script annotate_significant_gwas_results_with_gnomad.ipynb`."
   ]
  },
  {
   "cell_type": "markdown",
   "metadata": {},
   "source": [
    "# Setup "
   ]
  },
  {
   "cell_type": "code",
   "execution_count": null,
   "metadata": {},
   "outputs": [],
   "source": [
    "from datetime import datetime\n",
    "import hail as hl\n",
    "import os\n",
    "import pandas as pd\n",
    "from plotnine import *\n",
    "import subprocess\n",
    "import time"
   ]
  },
  {
   "cell_type": "markdown",
   "metadata": {},
   "source": [
    "## Define constants"
   ]
  },
  {
   "cell_type": "code",
   "execution_count": null,
   "metadata": {
    "tags": [
     "parameters"
    ]
   },
   "outputs": [],
   "source": [
    "# Papermill parameters. See https://papermill.readthedocs.io/en/latest/usage-parameterize.html\n",
    "\n",
    "#---[ Inputs ]---\n",
    "# The gnomAD v3.1.2 data set contains 76,156 whole genomes (and no exomes), all mapped to the GRCh38 reference sequence.\n",
    "# See also https://gnomad.broadinstitute.org/downloads\n",
    "GNOMAD_TAB = 'gs://gcp-public-data--gnomad/release/3.1.2/ht/genomes/gnomad.genomes.v3.1.2.sites.ht'\n",
    "# GRCh38 GWAS results from https://www.biorxiv.org/content/10.1101/2021.10.11.463514v1.supplementary-material\n",
    "SELVARAJ_LIPIDS_GWAS_RESULTS = 'https://www.biorxiv.org/content/biorxiv/early/2021/10/12/2021.10.11.463514/DC1/embed/media-1.xlsx?download=true'\n",
    "\n",
    "# To run at scale, use these intervals for all autosomes.\n",
    "#INTERVALS_TO_EXAMINE = ['chr1-chr22'] \n",
    "# To perform a quick test, use these intervals for APOE\n",
    "# https://genome.ucsc.edu/cgi-bin/hgTracks?db=hg38&lastVirtModeType=default&lastVirtModeExtraState=&virtModeType=default&virtMode=0&nonVirtPosition=&position=chr19%3A44905796%2D44909393&hgsid=1411550209_Ip7W0XTmGpvEfKONETLScNT3MOVv\n",
    "INTERVALS_TO_EXAMINE = ['chr19:44905796-44909393']\n",
    "\n",
    "#---[ Outputs ]---\n",
    "OUTPUT_BUCKET = os.getenv('WORKSPACE_BUCKET')"
   ]
  },
  {
   "cell_type": "code",
   "execution_count": null,
   "metadata": {
    "tags": [
     "parameters"
    ]
   },
   "outputs": [],
   "source": [
    "#---[ Form output path from parameter values ]---\n",
    "if not OUTPUT_BUCKET:\n",
    "    # This notebook is not running in app.terra.bio or the All of Us Researcher Workbench.\n",
    "    raise ValueError('Specify the value for parameter OUTPUT_BUCKET.')\n",
    "\n",
    "INTERVALS_TO_EXAMINE_NAME = '_'.join(INTERVALS_TO_EXAMINE).replace(':', 'range')\n",
    "\n",
    "# Create a timestamp for a folder of results generated today.\n",
    "DATESTAMP = time.strftime('%Y%m%d')\n",
    "TIMESTAMP = time.strftime('%Y%m%d_%H%M%S')\n",
    "WORK_DIR = os.getcwd()\n",
    "\n",
    "RESULTS_DIR = f'{OUTPUT_BUCKET}/data/results/{DATESTAMP}/'\n",
    "ANNOTATED_LIPIDS_GWAS_RESULTS = f'significant_ldl_gwas_results_tbl_gnomad_annotated-{INTERVALS_TO_EXAMINE_NAME}.tsv'"
   ]
  },
  {
   "cell_type": "markdown",
   "metadata": {},
   "source": [
    "## Start Hail "
   ]
  },
  {
   "cell_type": "code",
   "execution_count": null,
   "metadata": {},
   "outputs": [],
   "source": [
    "hl.init(default_reference='GRCh38')"
   ]
  },
  {
   "cell_type": "code",
   "execution_count": null,
   "metadata": {},
   "outputs": [],
   "source": [
    "start_all = datetime.now()\n",
    "print(start_all)"
   ]
  },
  {
   "cell_type": "markdown",
   "metadata": {},
   "source": [
    "# Read the gnomAD variant annotation table"
   ]
  },
  {
   "cell_type": "code",
   "execution_count": null,
   "metadata": {},
   "outputs": [],
   "source": [
    "gnomad = hl.read_table(GNOMAD_TAB)"
   ]
  },
  {
   "cell_type": "code",
   "execution_count": null,
   "metadata": {},
   "outputs": [],
   "source": [
    "gnomad.count()"
   ]
  },
  {
   "cell_type": "code",
   "execution_count": null,
   "metadata": {},
   "outputs": [],
   "source": [
    "gnomad.describe()\n",
    "\n",
    "# Or use this command to view the interactive version of the description.\n",
    "#gnomad.describe(widget=True)"
   ]
  },
  {
   "cell_type": "markdown",
   "metadata": {},
   "source": [
    "# Read the lipids GWAS results table"
   ]
  },
  {
   "cell_type": "code",
   "execution_count": null,
   "metadata": {},
   "outputs": [],
   "source": [
    "selvaraj_gwas_results_df = pd.read_excel(SELVARAJ_LIPIDS_GWAS_RESULTS,\n",
    "                                       sheet_name = 'Supplementary Table 3',\n",
    "                                       skiprows = 3\n",
    "                                      )\n",
    "\n",
    "selvaraj_gwas_results_df.shape"
   ]
  },
  {
   "cell_type": "markdown",
   "metadata": {},
   "source": [
    "## Reformat the data for computation"
   ]
  },
  {
   "cell_type": "markdown",
   "metadata": {},
   "source": [
    "Note that this particular sheet is well formated for reading, but less so for computation. Results for the various lipids are found within particular row ranges within the spreadsheet."
   ]
  },
  {
   "cell_type": "code",
   "execution_count": null,
   "metadata": {},
   "outputs": [],
   "source": [
    "# This is the header row for LDL results.\n",
    "selvaraj_gwas_results_df.iloc[357,]"
   ]
  },
  {
   "cell_type": "code",
   "execution_count": null,
   "metadata": {},
   "outputs": [],
   "source": [
    "# This is the header row for total cholesterol results.\n",
    "selvaraj_gwas_results_df.iloc[697,]"
   ]
  },
  {
   "cell_type": "code",
   "execution_count": null,
   "metadata": {},
   "outputs": [],
   "source": [
    "# Extract the the subset of rows within the spreadsheet holding just the LDL GWAS results.\n",
    "ldl_gwas_results_df = selvaraj_gwas_results_df.iloc[359:697,]\n",
    "\n",
    "# Fix the data types on the columns.\n",
    "ldl_gwas_results_df = ldl_gwas_results_df.astype({\n",
    "    'CHR': 'int64',\n",
    "    'POS': 'int64',\n",
    "    'BETA': 'float64',\n",
    "    'SE': 'float64',\n",
    "    'p.value': 'float64',\n",
    "    'MAF': 'float64'\n",
    "})\n",
    "\n",
    "# Add a categorical variable for chromosome.\n",
    "ldl_gwas_results_df['CHROM'] = pd.Categorical('chr' + ldl_gwas_results_df.CHR.astype('string'),\n",
    "                                              ordered=True,\n",
    "                                              categories=[f'chr{i}' for i in range(1, 23)])\n",
    "\n",
    "# Sort the dataframe.\n",
    "ldl_gwas_results_df.sort_values(by=['CHR', 'POS'], inplace=True)"
   ]
  },
  {
   "cell_type": "code",
   "execution_count": null,
   "metadata": {},
   "outputs": [],
   "source": [
    "ldl_gwas_results_df.head()"
   ]
  },
  {
   "cell_type": "code",
   "execution_count": null,
   "metadata": {},
   "outputs": [],
   "source": [
    "ldl_gwas_results_df.tail()"
   ]
  },
  {
   "cell_type": "code",
   "execution_count": null,
   "metadata": {},
   "outputs": [],
   "source": [
    "(ggplot(ldl_gwas_results_df, aes(x = 'CHROM')) +\n",
    "geom_bar() +\n",
    "theme_bw()+\n",
    "theme(figure_size=(16, 8)) +\n",
    "labs(title = 'Distribution of significant GWAS results per chromosome'))"
   ]
  },
  {
   "cell_type": "markdown",
   "metadata": {},
   "source": [
    "## Create a Hail table of the GWAS results"
   ]
  },
  {
   "cell_type": "code",
   "execution_count": null,
   "metadata": {},
   "outputs": [],
   "source": [
    "# Convert the pandas dataframe to a Hail table.\n",
    "ldl_gwas_results_tbl = hl.Table.from_pandas(\n",
    "    ldl_gwas_results_df[['CHROM', 'POS', 'Allele1', 'Allele2', 'BETA', 'SE', 'p.value', 'MAF']])"
   ]
  },
  {
   "cell_type": "code",
   "execution_count": null,
   "metadata": {},
   "outputs": [],
   "source": [
    "ldl_gwas_results_tbl.count()"
   ]
  },
  {
   "cell_type": "markdown",
   "metadata": {},
   "source": [
    "### Create the `locus` and `alleles` fields need to join with Hail matrix tables"
   ]
  },
  {
   "cell_type": "code",
   "execution_count": null,
   "metadata": {},
   "outputs": [],
   "source": [
    "ldl_gwas_results_tbl = ldl_gwas_results_tbl.annotate(locus=hl.locus(ldl_gwas_results_tbl.CHROM, ldl_gwas_results_tbl.POS))"
   ]
  },
  {
   "cell_type": "code",
   "execution_count": null,
   "metadata": {},
   "outputs": [],
   "source": [
    "ldl_gwas_results_tbl = ldl_gwas_results_tbl.annotate(alleles=hl.array([ldl_gwas_results_tbl.Allele1,\n",
    "                                                                       ldl_gwas_results_tbl.Allele2]))"
   ]
  },
  {
   "cell_type": "code",
   "execution_count": null,
   "metadata": {},
   "outputs": [],
   "source": [
    "ldl_gwas_results_tbl = ldl_gwas_results_tbl.key_by(ldl_gwas_results_tbl.locus,\n",
    "                                                   ldl_gwas_results_tbl.alleles)"
   ]
  },
  {
   "cell_type": "code",
   "execution_count": null,
   "metadata": {},
   "outputs": [],
   "source": [
    "ldl_gwas_results_tbl.describe()\n",
    "\n",
    "# Or use this command to view the interactive version of the description.\n",
    "#ldl_gwas_results_tbl.describe(widget=True)"
   ]
  },
  {
   "cell_type": "markdown",
   "metadata": {},
   "source": [
    "# Try to improve performance"
   ]
  },
  {
   "cell_type": "markdown",
   "metadata": {},
   "source": [
    "## Filter gnomAD to include only our genomic intervals of interest"
   ]
  },
  {
   "cell_type": "code",
   "execution_count": null,
   "metadata": {},
   "outputs": [],
   "source": [
    "gnomad.n_partitions()"
   ]
  },
  {
   "cell_type": "code",
   "execution_count": null,
   "metadata": {},
   "outputs": [],
   "source": [
    "# First filter using the manually defined intervals.\n",
    "gnomad = hl.filter_intervals(\n",
    "    gnomad,\n",
    "    [hl.parse_locus_interval(x) for x in INTERVALS_TO_EXAMINE],\n",
    "    keep=True)"
   ]
  },
  {
   "cell_type": "code",
   "execution_count": null,
   "metadata": {},
   "outputs": [],
   "source": [
    "gnomad.n_partitions()"
   ]
  },
  {
   "cell_type": "code",
   "execution_count": null,
   "metadata": {},
   "outputs": [],
   "source": [
    "# Compute the genomic intervals forming the outer bounds around our GWAS results. We will use this to read fewer partitions from gnomAD.\n",
    "relevant_intervals_df = ldl_gwas_results_df.groupby('CHR').agg(min_pos=('POS', 'min'), max_pos=('POS', max))\n",
    "relevant_intervals = relevant_intervals_df.apply(lambda x: f'chr{x.name}:{x[\"min_pos\"]}-{x[\"max_pos\"]+1}', axis=1).tolist()\n",
    "\n",
    "relevant_intervals"
   ]
  },
  {
   "cell_type": "code",
   "execution_count": null,
   "metadata": {},
   "outputs": [],
   "source": [
    "# Now filter further to only include data overlapping the GWAS results.\n",
    "gnomad = hl.filter_intervals(\n",
    "    gnomad,\n",
    "    [hl.parse_locus_interval(x) for x in relevant_intervals],\n",
    "    keep=True)"
   ]
  },
  {
   "cell_type": "code",
   "execution_count": null,
   "metadata": {},
   "outputs": [],
   "source": [
    "gnomad.n_partitions()"
   ]
  },
  {
   "cell_type": "markdown",
   "metadata": {},
   "source": [
    "## Repartition to (try to) improve parallelism"
   ]
  },
  {
   "cell_type": "code",
   "execution_count": null,
   "metadata": {},
   "outputs": [],
   "source": [
    "ldl_gwas_results_tbl.n_partitions()"
   ]
  },
  {
   "cell_type": "code",
   "execution_count": null,
   "metadata": {},
   "outputs": [],
   "source": [
    "ldl_gwas_results_tbl = ldl_gwas_results_tbl.repartition(ldl_gwas_results_tbl.count())"
   ]
  },
  {
   "cell_type": "code",
   "execution_count": null,
   "metadata": {},
   "outputs": [],
   "source": [
    "ldl_gwas_results_tbl.n_partitions()"
   ]
  },
  {
   "cell_type": "markdown",
   "metadata": {},
   "source": [
    "# Annotate significant lipids GWAS results with gnomAD"
   ]
  },
  {
   "cell_type": "markdown",
   "metadata": {},
   "source": [
    "## Write annotated lipids GWAS results to TSV"
   ]
  },
  {
   "cell_type": "code",
   "execution_count": null,
   "metadata": {},
   "outputs": [],
   "source": [
    "start = datetime.now()\n",
    "print(start)"
   ]
  },
  {
   "cell_type": "code",
   "execution_count": null,
   "metadata": {},
   "outputs": [],
   "source": [
    "annotated_ldl_gwas_results_tbl = ldl_gwas_results_tbl.join(gnomad, how='left')"
   ]
  },
  {
   "cell_type": "code",
   "execution_count": null,
   "metadata": {},
   "outputs": [],
   "source": [
    "annotated_ldl_gwas_results_tbl.describe()\n",
    "\n",
    "# Or use this command to view the interactive version of the description.\n",
    "#annotated_ldl_gwas_results_tbl.describe(widget=True)"
   ]
  },
  {
   "cell_type": "code",
   "execution_count": null,
   "metadata": {},
   "outputs": [],
   "source": [
    "annotated_ldl_gwas_results_tbl.export(os.path.join(RESULTS_DIR, ANNOTATED_LIPIDS_GWAS_RESULTS))"
   ]
  },
  {
   "cell_type": "code",
   "execution_count": null,
   "metadata": {},
   "outputs": [],
   "source": [
    "end = datetime.now()\n",
    "print(end)\n",
    "print(end - start)"
   ]
  },
  {
   "cell_type": "markdown",
   "metadata": {},
   "source": [
    "## Examine the ancestry distribution of the GWAS results"
   ]
  },
  {
   "cell_type": "code",
   "execution_count": null,
   "metadata": {},
   "outputs": [],
   "source": [
    "gnomad_annotated_ldl_gwas_results_tbl = hl.import_table(os.path.join(RESULTS_DIR, ANNOTATED_LIPIDS_GWAS_RESULTS))"
   ]
  },
  {
   "cell_type": "code",
   "execution_count": null,
   "metadata": {},
   "outputs": [],
   "source": [
    "gnomad_annotated_ldl_gwas_results_tbl.describe()\n",
    "\n",
    "# Or use this command to view the interactive version of the description.\n",
    "#gnomad_annotated_ldl_gwas_results_tbl.describe(widget=True)"
   ]
  },
  {
   "cell_type": "code",
   "execution_count": null,
   "metadata": {},
   "outputs": [],
   "source": [
    "gnomad_annotated_ldl_gwas_results_tbl.filter(hl.is_defined(gnomad_annotated_ldl_gwas_results_tbl.popmax)).popmax.show()"
   ]
  },
  {
   "cell_type": "code",
   "execution_count": null,
   "metadata": {},
   "outputs": [],
   "source": [
    "gnomad_annotated_ldl_gwas_results_tbl.aggregate(hl.agg.counter(hl.parse_json(\n",
    "    gnomad_annotated_ldl_gwas_results_tbl.popmax,\n",
    "    dtype='struct{AC: int32, AF: float64, AN: int32, homozygote_count: int32, pop: str, faf95: float64}').pop))"
   ]
  },
  {
   "cell_type": "markdown",
   "metadata": {},
   "source": [
    "# Provenance"
   ]
  },
  {
   "cell_type": "code",
   "execution_count": null,
   "metadata": {},
   "outputs": [],
   "source": [
    "end_all = datetime.now()\n",
    "print(end_all)\n",
    "print(end_all - start_all)"
   ]
  },
  {
   "cell_type": "code",
   "execution_count": null,
   "metadata": {},
   "outputs": [],
   "source": [
    "process_output = subprocess.run(['pip3', 'freeze'], capture_output=True, text=True)\n",
    "print(process_output.stdout)"
   ]
  },
  {
   "cell_type": "markdown",
   "metadata": {},
   "source": [
    "---\n",
    "Copyright 2023 Verily Life Sciences LLC\n",
    "\n",
    "Use of this source code is governed by a BSD-style   \n",
    "license that can be found in the LICENSE file or at   \n",
    "https://developers.google.com/open-source/licenses/bsd"
   ]
  }
 ],
 "metadata": {
  "environment": {
   "kernel": "python3",
   "name": "r-cpu.4-2.m102",
   "type": "gcloud",
   "uri": "gcr.io/deeplearning-platform-release/r-cpu.4-2:m102"
  },
  "kernelspec": {
   "display_name": "Python 3 (ipykernel)",
   "language": "python",
   "name": "python3"
  },
  "language_info": {
   "codemirror_mode": {
    "name": "ipython",
    "version": 3
   },
   "file_extension": ".py",
   "mimetype": "text/x-python",
   "name": "python",
   "nbconvert_exporter": "python",
   "pygments_lexer": "ipython3",
   "version": "3.9.6"
  },
  "toc": {
   "base_numbering": 1,
   "nav_menu": {},
   "number_sections": true,
   "sideBar": true,
   "skip_h1_title": false,
   "title_cell": "Table of Contents",
   "title_sidebar": "Contents",
   "toc_cell": false,
   "toc_position": {
    "height": "calc(100% - 180px)",
    "left": "10px",
    "top": "150px",
    "width": "445px"
   },
   "toc_section_display": true,
   "toc_window_display": true
  }
 },
 "nbformat": 4,
 "nbformat_minor": 4
}
